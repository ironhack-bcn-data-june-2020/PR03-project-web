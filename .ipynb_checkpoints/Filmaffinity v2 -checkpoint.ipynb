{
 "cells": [
  {
   "cell_type": "code",
   "execution_count": 1,
   "metadata": {},
   "outputs": [],
   "source": [
    "import requests\n",
    "from bs4 import BeautifulSoup\n",
    "import pandas as pd\n",
    "# from pprint import pprint\n",
    "from lxml import html\n",
    "# from lxml.html import fromstring\n",
    "# import urllib.request\n",
    "# from urllib.request import urlopen\n",
    "import random\n",
    "import re\n",
    "# import scrapy\n",
    "import datetime as dt\n",
    "from selenium import webdriver\n",
    "from tqdm import tqdm\n",
    "import time"
   ]
  },
  {
   "cell_type": "markdown",
   "metadata": {},
   "source": [
    "# DataFrame con todos los topics"
   ]
  },
  {
   "cell_type": "code",
   "execution_count": 2,
   "metadata": {},
   "outputs": [],
   "source": [
    "url = 'https://www.filmaffinity.com/es/topics.php'"
   ]
  },
  {
   "cell_type": "code",
   "execution_count": 3,
   "metadata": {},
   "outputs": [],
   "source": [
    "resp = requests.get(url)"
   ]
  },
  {
   "cell_type": "code",
   "execution_count": 4,
   "metadata": {},
   "outputs": [],
   "source": [
    "soup = BeautifulSoup(resp.text, 'html.parser')"
   ]
  },
  {
   "cell_type": "code",
   "execution_count": 5,
   "metadata": {},
   "outputs": [],
   "source": [
    "topics = pd.DataFrame()\n",
    "tname = []\n",
    "tid = []\n",
    "tnr = []\n",
    "driver = webdriver.Firefox()\n",
    "driver.get(url)\n",
    "topics = driver.find_elements_by_class_name('topic')\n",
    "for i in topics:\n",
    "    try:\n",
    "              \n",
    "        tname.append(re.sub(' \\(\\d*\\)','',i.text)) # topic name\n",
    "        tid.append(re.findall('topic=(\\d*)', i.get_attribute('href'))[0]) # topic id\n",
    "        tnr.append(re.findall('\\((\\d*)\\)', i.text)[-1]) # quantity of movies\n",
    "\n",
    "        \n",
    "    except:\n",
    "        break\n",
    "driver.quit()"
   ]
  },
  {
   "cell_type": "code",
   "execution_count": 6,
   "metadata": {},
   "outputs": [],
   "source": [
    "topics = pd.DataFrame(index = tid, data = {'name': tname, 'qty': tnr})"
   ]
  },
  {
   "cell_type": "code",
   "execution_count": 7,
   "metadata": {},
   "outputs": [],
   "source": [
    "for i,c in topics.iterrows():\n",
    "    if c['qty'] != '':\n",
    "        topics.loc[i, 'pages'] = int((int(c['qty'])-(int(c['qty'])%50))/50+1)\n",
    "    else:\n",
    "        topics.loc[i, 'pages'] = 0"
   ]
  },
  {
   "cell_type": "code",
   "execution_count": 8,
   "metadata": {},
   "outputs": [],
   "source": [
    "topics['pages'] = topics['pages'].astype('int')"
   ]
  },
  {
   "cell_type": "code",
   "execution_count": 9,
   "metadata": {},
   "outputs": [
    {
     "data": {
      "text/html": [
       "<div>\n",
       "<style scoped>\n",
       "    .dataframe tbody tr th:only-of-type {\n",
       "        vertical-align: middle;\n",
       "    }\n",
       "\n",
       "    .dataframe tbody tr th {\n",
       "        vertical-align: top;\n",
       "    }\n",
       "\n",
       "    .dataframe thead th {\n",
       "        text-align: right;\n",
       "    }\n",
       "</style>\n",
       "<table border=\"1\" class=\"dataframe\">\n",
       "  <thead>\n",
       "    <tr style=\"text-align: right;\">\n",
       "      <th></th>\n",
       "      <th>name</th>\n",
       "      <th>qty</th>\n",
       "      <th>pages</th>\n",
       "    </tr>\n",
       "  </thead>\n",
       "  <tbody>\n",
       "    <tr>\n",
       "      <th>928351</th>\n",
       "      <td>11-S</td>\n",
       "      <td>79</td>\n",
       "      <td>2</td>\n",
       "    </tr>\n",
       "    <tr>\n",
       "      <th>461156</th>\n",
       "      <td>3-D</td>\n",
       "      <td>792</td>\n",
       "      <td>16</td>\n",
       "    </tr>\n",
       "    <tr>\n",
       "      <th>836459</th>\n",
       "      <td>Abusos sexuales</td>\n",
       "      <td>529</td>\n",
       "      <td>11</td>\n",
       "    </tr>\n",
       "    <tr>\n",
       "      <th>791958</th>\n",
       "      <td>Acoso escolar/bullying</td>\n",
       "      <td>198</td>\n",
       "      <td>4</td>\n",
       "    </tr>\n",
       "    <tr>\n",
       "      <th>746104</th>\n",
       "      <td>Adolescencia</td>\n",
       "      <td>3356</td>\n",
       "      <td>68</td>\n",
       "    </tr>\n",
       "  </tbody>\n",
       "</table>\n",
       "</div>"
      ],
      "text/plain": [
       "                          name   qty  pages\n",
       "928351                    11-S    79      2\n",
       "461156                     3-D   792     16\n",
       "836459         Abusos sexuales   529     11\n",
       "791958  Acoso escolar/bullying   198      4\n",
       "746104            Adolescencia  3356     68"
      ]
     },
     "execution_count": 9,
     "metadata": {},
     "output_type": "execute_result"
    }
   ],
   "source": [
    "topics.head(5)"
   ]
  },
  {
   "cell_type": "markdown",
   "metadata": {},
   "source": [
    "# Magnitud de los datos a extraer"
   ]
  },
  {
   "cell_type": "markdown",
   "metadata": {},
   "source": [
    "## Número de temas por los que iterar"
   ]
  },
  {
   "cell_type": "code",
   "execution_count": 10,
   "metadata": {},
   "outputs": [
    {
     "data": {
      "text/plain": [
       "394"
      ]
     },
     "execution_count": 10,
     "metadata": {},
     "output_type": "execute_result"
    }
   ],
   "source": [
    "topic_list = [x.text for x in soup.findAll('a', attrs={'class':'topic'})]\n",
    "len(topic_list)"
   ]
  },
  {
   "cell_type": "markdown",
   "metadata": {},
   "source": [
    "## Número de pelis a extraer"
   ]
  },
  {
   "cell_type": "code",
   "execution_count": 11,
   "metadata": {},
   "outputs": [
    {
     "data": {
      "text/plain": [
       "310176"
      ]
     },
     "execution_count": 11,
     "metadata": {},
     "output_type": "execute_result"
    }
   ],
   "source": [
    "x = 0\n",
    "for a in topic_list:\n",
    "    try:\n",
    "        x += int(re.findall('\\((\\d*)\\)',a)[0])\n",
    "    except:\n",
    "        pass\n",
    "x"
   ]
  },
  {
   "cell_type": "markdown",
   "metadata": {},
   "source": [
    "## Número de requests necesarios"
   ]
  },
  {
   "cell_type": "code",
   "execution_count": 12,
   "metadata": {},
   "outputs": [
    {
     "data": {
      "text/plain": [
       "6403"
      ]
     },
     "execution_count": 12,
     "metadata": {},
     "output_type": "execute_result"
    }
   ],
   "source": [
    "topics['pages'].sum()"
   ]
  },
  {
   "cell_type": "markdown",
   "metadata": {},
   "source": [
    "# Ejecución"
   ]
  },
  {
   "cell_type": "markdown",
   "metadata": {},
   "source": [
    "Para obtener más datos, habría que hacer un request para cada una de las películas para entrar en la web de cada una de ellas y extraer toda la información de su ficha. Serían más de 300.000 requests, por lo que sería necesario utilizar VPN o Tor."
   ]
  },
  {
   "cell_type": "markdown",
   "metadata": {},
   "source": [
    "Si se ejecuta este programa, sacará algo más de 20.000 películas y después dará error con status_code = 429"
   ]
  },
  {
   "cell_type": "code",
   "execution_count": null,
   "metadata": {},
   "outputs": [],
   "source": [
    "for i,c in topics.iterrows():\n",
    "    \n",
    "    # extraer número de páginas de cada tema del df anterior\n",
    "    pages = topics.loc[i, 'pages']\n",
    "    \n",
    "    # for p in páginas, iteraremos en los parámetros con el índice (i) y el nº página (p)\n",
    "    for p in tqdm(range(1, pages+1)):\n",
    "        \n",
    "        # requests get beautiful soup \n",
    "        resp = requests.get(urltopic, params={'topic': f'{i}', 'attr': 'all', 'p': f'{p}'})\n",
    "        soup = BeautifulSoup(resp.text, 'html.parser')\n",
    "        pelis = soup.findAll('div', attrs={'class': 'record'})\n",
    "        \n",
    "                    \n",
    "        for x in pelis:\n",
    "            try: # Tengo que hacer try/except porque hay excepciones contadas con algún campo vacío\n",
    "                \n",
    "                alldb.append({'Título': x.find('div', attrs={'class': 'mc-title'}).find('a').text,\n",
    "                   'Año': x.find('div', attrs={'class': 'mc-title'}).text.replace(' ','')[-5:-1],\n",
    "                   'Director/es': x.find('div', attrs={'class': 'mc-director'}).text.replace(' (Creador)','').split(', '),\n",
    "                   'Reparto': x.find('div', attrs={'class': 'mc-cast'}).text.split(', '),\n",
    "                   'Género/s': x.find('div', attrs={'class': 'related-topics'}).text.split('\\n')[1:-1],\n",
    "                   'País': x.find('img', attrs={'class': 'nflag'}).get_attribute_list('title')[0],\n",
    "                   'Link': re.findall('\\/film(\\d*)', x.find('div', attrs={'class': 'mc-title'}).find('a').get('href'))[0],\n",
    "                    })\n",
    "            except:\n",
    "                pass\n",
    "            \n",
    "        if resp.status_code != 200:\n",
    "            print(f'Status code: {resp.status_code}')\n",
    "            print(f'Index: {i}')\n",
    "            print(f'Page: {p}')\n",
    "            driver = webdriver.Firefox()\n",
    "            driver.get('https://www.filmaffinity.com/es/main.html')\n",
    "            box = driver.find_element_by_id('recaptcha-anchor')\n",
    "            box.click()\n",
    "            driver.implicitly_wait(2)\n",
    "            break\n",
    "        \n",
    "        #time.sleep(0.5)\n",
    "        pass\n",
    "        "
   ]
  }
 ],
 "metadata": {
  "kernelspec": {
   "display_name": "Python 3",
   "language": "python",
   "name": "python3"
  },
  "language_info": {
   "codemirror_mode": {
    "name": "ipython",
    "version": 3
   },
   "file_extension": ".py",
   "mimetype": "text/x-python",
   "name": "python",
   "nbconvert_exporter": "python",
   "pygments_lexer": "ipython3",
   "version": "3.8.5"
  },
  "toc": {
   "base_numbering": 1,
   "nav_menu": {},
   "number_sections": true,
   "sideBar": true,
   "skip_h1_title": false,
   "title_cell": "Table of Contents",
   "title_sidebar": "Contents",
   "toc_cell": false,
   "toc_position": {},
   "toc_section_display": true,
   "toc_window_display": true
  },
  "varInspector": {
   "cols": {
    "lenName": 16,
    "lenType": 16,
    "lenVar": 40
   },
   "kernels_config": {
    "python": {
     "delete_cmd_postfix": "",
     "delete_cmd_prefix": "del ",
     "library": "var_list.py",
     "varRefreshCmd": "print(var_dic_list())"
    },
    "r": {
     "delete_cmd_postfix": ") ",
     "delete_cmd_prefix": "rm(",
     "library": "var_list.r",
     "varRefreshCmd": "cat(var_dic_list()) "
    }
   },
   "types_to_exclude": [
    "module",
    "function",
    "builtin_function_or_method",
    "instance",
    "_Feature"
   ],
   "window_display": false
  }
 },
 "nbformat": 4,
 "nbformat_minor": 4
}
