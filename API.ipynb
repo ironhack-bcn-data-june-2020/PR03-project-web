{
 "cells": [
  {
   "cell_type": "markdown",
   "metadata": {},
   "source": [
    "# API idealista"
   ]
  },
  {
   "cell_type": "markdown",
   "metadata": {},
   "source": [
    "Use the idealista.com API to run queries https://api.idealista.com/"
   ]
  },
  {
   "cell_type": "markdown",
   "metadata": {},
   "source": [
    "## 0. Import libraries"
   ]
  },
  {
   "cell_type": "code",
   "execution_count": 1,
   "metadata": {},
   "outputs": [],
   "source": [
    "import requests\n",
    "# Authentication available in Requests\n",
    "from requests.auth import HTTPBasicAuth\n",
    "import urllib\n",
    "import os\n",
    "import json\n",
    "import pandas as pd\n",
    "import argparse\n",
    "import time"
   ]
  },
  {
   "cell_type": "markdown",
   "metadata": {},
   "source": [
    "## 1. API credentials"
   ]
  },
  {
   "cell_type": "code",
   "execution_count": 2,
   "metadata": {},
   "outputs": [],
   "source": [
    "# Sent by idealista\n",
    "API_KEY= \n",
    "SECRET_KEY="
   ]
  },
  {
   "cell_type": "markdown",
   "metadata": {},
   "source": [
    "IMP: Access is ``free`` to a maximum of ``100 req/month`` and it’s limited by ``1 req/sec``. "
   ]
  },
  {
   "cell_type": "markdown",
   "metadata": {},
   "source": [
    "## 2. OAuth 2.0 Authentication"
   ]
  },
  {
   "cell_type": "code",
   "execution_count": 3,
   "metadata": {},
   "outputs": [],
   "source": [
    "def get_oauth_token(key, secret):\n",
    "    '''\n",
    "    Function to get oauth2 token from the API Key and Secret Key provided by idealista\n",
    "    '''\n",
    "    \n",
    "    # Resource URL\n",
    "    oauth_url = 'https://api.idealista.com/oauth/token'\n",
    "    # Parameters\n",
    "    body = {'grant_type': 'client_credentials'}\n",
    "    # Response\n",
    "    r = requests.post(oauth_url,\n",
    "                      auth=HTTPBasicAuth(key, secret),\n",
    "                      data=body)\n",
    "#     print(r.text)\n",
    "    return r.text"
   ]
  },
  {
   "cell_type": "code",
   "execution_count": 4,
   "metadata": {},
   "outputs": [],
   "source": [
    "token_json = get_oauth_token(API_KEY, SECRET_KEY)\n",
    "token_response = json.loads(token_json)\n",
    "# print(token_response)\n",
    "TOKEN_VALUE = token_response[\"access_token\"]\n",
    "#  print(\"Token: \" + TOKEN_VALUE)"
   ]
  },
  {
   "cell_type": "markdown",
   "metadata": {},
   "source": [
    "## 3. Property search"
   ]
  },
  {
   "cell_type": "code",
   "execution_count": 5,
   "metadata": {},
   "outputs": [],
   "source": [
    "# Resource URL\n",
    "base_url =  'https://api.idealista.com/3.5/es/search'"
   ]
  },
  {
   "cell_type": "code",
   "execution_count": 6,
   "metadata": {},
   "outputs": [],
   "source": [
    "# Example of URLs --> Used to verify if the API works good\n",
    "API_URL = 'https://api.idealista.com/3/es/search?locale=es&maxItems=20&numPage=1&operation=sale&order=publicationDate&propertyType=garages&sort=desc&apikey={api_key}&t=1&language=es&bankOffer=true&locationId=0-EU-ES-28'"
   ]
  },
  {
   "cell_type": "markdown",
   "metadata": {},
   "source": [
    "Search for all the **houses for rent** in Barcelona, in a **area** with a **radius of 7.5 km from ironhack**"
   ]
  },
  {
   "cell_type": "markdown",
   "metadata": {},
   "source": [
    "``Api version: 3.5``"
   ]
  },
  {
   "cell_type": "markdown",
   "metadata": {},
   "source": [
    "#### · Parameters"
   ]
  },
  {
   "cell_type": "code",
   "execution_count": 7,
   "metadata": {},
   "outputs": [],
   "source": [
    "# Location (Barcelona)\n",
    "center='41.3993928,2.1991617' # IronHack\n",
    "distance= 7500 # distance to center(m) (radius=IronHack-Fira de Barcelona. aprox=7.5 km)\n",
    "country='es'\n",
    "\n",
    "# Response\n",
    "max_items=20 # Items per page --> 50 as maximun allowed\n",
    "num_page=1\n",
    "# total=500 # Total items"
   ]
  },
  {
   "cell_type": "markdown",
   "metadata": {},
   "source": [
    "#### · Type of property and operation(sale/rent)"
   ]
  },
  {
   "cell_type": "markdown",
   "metadata": {},
   "source": [
    "Type of property --> Homes for rent\n"
   ]
  },
  {
   "cell_type": "code",
   "execution_count": 8,
   "metadata": {},
   "outputs": [],
   "source": [
    "# Property type\n",
    "property_type = 'homes'\n",
    "# Operation\n",
    "operation = 'rent'"
   ]
  },
  {
   "cell_type": "markdown",
   "metadata": {},
   "source": [
    "## 3.1 First page"
   ]
  },
  {
   "cell_type": "code",
   "execution_count": 9,
   "metadata": {},
   "outputs": [],
   "source": [
    "def url_creator(center, country, max_items, num_page, distance, property_type, operation):\n",
    "    '''\n",
    "    Function to create the URL of the first page of the API\n",
    "    '''\n",
    "    \n",
    "    # Resource URL\n",
    "    base_url = ('https://api.idealista.com/3.5/%s/search?')%(country)   \n",
    "    \n",
    "    # Parameters\n",
    "    query = (('center=%s'+'&country=%s'+'&maxItems=%s'+'&numPage=%s'+'&distance=%s'+'&propertyType=%s'+'&operation=%s')%(center, country, max_items, num_page, distance, property_type, operation))\n",
    "    \n",
    "    return base_url+query"
   ]
  },
  {
   "cell_type": "code",
   "execution_count": 10,
   "metadata": {},
   "outputs": [
    {
     "data": {
      "text/plain": [
       "'https://api.idealista.com/3.5/es/search?center=41.3993928,2.1991617&country=es&maxItems=20&numPage=1&distance=7500&propertyType=homes&operation=rent'"
      ]
     },
     "execution_count": 10,
     "metadata": {},
     "output_type": "execute_result"
    }
   ],
   "source": [
    "# \n",
    "URL_HOMES_RENT = url_creator(center, country, max_items, num_page, distance, property_type, operation)\n",
    "URL_HOMES_RENT"
   ]
  },
  {
   "cell_type": "code",
   "execution_count": 11,
   "metadata": {},
   "outputs": [],
   "source": [
    "def search_api(url, token):\n",
    "    '''\n",
    "    Function to run the search using the API and the token\n",
    "    '''\n",
    "\n",
    "    # Resource URL\n",
    "    api_url = url\n",
    "    # Headers\n",
    "    headers = {'Authorization': 'Bearer ' + token}\n",
    "    # Response\n",
    "    r = requests.post(api_url,\n",
    "                      headers=headers)\n",
    "#     print(r.text)\n",
    "    return r.text"
   ]
  },
  {
   "cell_type": "code",
   "execution_count": 12,
   "metadata": {},
   "outputs": [
    {
     "data": {
      "text/plain": [
       "'{\"message\":\"internal server error\",\"httpStatus\":500}'"
      ]
     },
     "execution_count": 12,
     "metadata": {},
     "output_type": "execute_result"
    }
   ],
   "source": [
    "review = search_api(API_URL, TOKEN_VALUE)\n",
    "review"
   ]
  },
  {
   "cell_type": "markdown",
   "metadata": {},
   "source": [
    "I made ``too many requests`` \\o/ --> **Idealista blocks the API!**\n"
   ]
  },
  {
   "cell_type": "markdown",
   "metadata": {},
   "source": [
    "Waiting for new credentials to use it"
   ]
  },
  {
   "cell_type": "code",
   "execution_count": 13,
   "metadata": {},
   "outputs": [],
   "source": [
    "def property_json(url):\n",
    "    '''\n",
    "    Creating the .json file\n",
    "    '''\n",
    "    \n",
    "    response = requests.get(url)\n",
    "    # Access is limited by 1 req/sec.\n",
    "    time.sleep(3)\n",
    "    \n",
    "    return response.json()"
   ]
  },
  {
   "cell_type": "code",
   "execution_count": 14,
   "metadata": {},
   "outputs": [
    {
     "data": {
      "text/plain": [
       "{'error': 'unauthorized',\n",
       " 'error_description': 'authentication data was not found'}"
      ]
     },
     "execution_count": 14,
     "metadata": {},
     "output_type": "execute_result"
    }
   ],
   "source": [
    "homes_rent = property_json(URL_HOMES_RENT)\n",
    "homes_rent"
   ]
  },
  {
   "cell_type": "markdown",
   "metadata": {},
   "source": [
    "## 3.2 Investigation --> total pages"
   ]
  },
  {
   "cell_type": "code",
   "execution_count": 15,
   "metadata": {},
   "outputs": [
    {
     "ename": "KeyError",
     "evalue": "'elementList'",
     "output_type": "error",
     "traceback": [
      "\u001b[1;31m---------------------------------------------------------------------------\u001b[0m",
      "\u001b[1;31mKeyError\u001b[0m                                  Traceback (most recent call last)",
      "\u001b[1;32m<ipython-input-15-dbae1ba501ce>\u001b[0m in \u001b[0;36m<module>\u001b[1;34m\u001b[0m\n\u001b[0;32m      1\u001b[0m \u001b[1;31m# Items for page\u001b[0m\u001b[1;33m\u001b[0m\u001b[1;33m\u001b[0m\u001b[1;33m\u001b[0m\u001b[0m\n\u001b[1;32m----> 2\u001b[1;33m \u001b[0mlen\u001b[0m\u001b[1;33m(\u001b[0m\u001b[0mhomes_rent\u001b[0m\u001b[1;33m[\u001b[0m\u001b[1;34m'elementList'\u001b[0m\u001b[1;33m]\u001b[0m\u001b[1;33m)\u001b[0m\u001b[1;33m\u001b[0m\u001b[1;33m\u001b[0m\u001b[0m\n\u001b[0m",
      "\u001b[1;31mKeyError\u001b[0m: 'elementList'"
     ]
    }
   ],
   "source": [
    "# Items for page\n",
    "len(homes_rent['elementList'])"
   ]
  },
  {
   "cell_type": "markdown",
   "metadata": {},
   "source": [
    "#### · Pagination+Resumen\n"
   ]
  },
  {
   "cell_type": "code",
   "execution_count": null,
   "metadata": {},
   "outputs": [],
   "source": [
    "total = homes_rent['total']\n",
    "total_pages = homes_rent['totalPages']\n",
    "actual_page = homes_rent['actualPage']\n",
    "summary = homes_rent['summary']\n",
    "\n",
    "print(f'Total: {total}')\n",
    "print(f'Total pages: {total_pages}')\n",
    "print(f'Actual page: {actual_page}')\n",
    "print(f'Summery: {summary}')"
   ]
  },
  {
   "cell_type": "markdown",
   "metadata": {},
   "source": [
    "It's NOT possible to visit all the pagesfor the restrictions imposed by Idealista!"
   ]
  },
  {
   "cell_type": "markdown",
   "metadata": {},
   "source": [
    "## 3.3 All (some) pages"
   ]
  },
  {
   "cell_type": "markdown",
   "metadata": {},
   "source": [
    "ATTENTION: ``Restrictions to the API``"
   ]
  },
  {
   "cell_type": "markdown",
   "metadata": {},
   "source": [
    "--> IMP: Access is ``free`` to a ``maximum of 100 req/month`` and it’s limited by ``1 req/sec``."
   ]
  },
  {
   "cell_type": "code",
   "execution_count": null,
   "metadata": {},
   "outputs": [],
   "source": [
    "def all_URLs(max=3): \n",
    "    '''\n",
    "    Function to iterate through the pages of the API\n",
    "    max 3 --> max iteration of default to avoid overcoming the restrictions imposed by Idealista \n",
    "    '''\n",
    "    \n",
    "    all_urls = []   \n",
    "    # Resource URL\n",
    "    base_url = ('https://api.idealista.com/3.5/%s/search?')%(country)   \n",
    "\n",
    "    for page in range(1,max):\n",
    "        # Parameters\n",
    "        query = (('center=%s'+'&country=%s'+'&distance=%s'+'&maxItems=%s'+'&numPage=%s'+'&propertyType=%s'+'&operation=%s')%(center, country, distance, max_items, page, property_type, operation))\n",
    "        url = base_url+query\n",
    "        all_urls.append(url)\n",
    "        print (all_urls)\n",
    "        \n",
    "    return all_urls"
   ]
  },
  {
   "cell_type": "code",
   "execution_count": null,
   "metadata": {},
   "outputs": [],
   "source": [
    "# 3 pages\n",
    "all_URLs = all_URLs()\n",
    "all_URLs"
   ]
  },
  {
   "cell_type": "code",
   "execution_count": null,
   "metadata": {},
   "outputs": [],
   "source": [
    "# First page\n",
    "all_URLs[0]"
   ]
  },
  {
   "cell_type": "code",
   "execution_count": null,
   "metadata": {},
   "outputs": [],
   "source": [
    "# Last page\n",
    "all_URLs[-1]"
   ]
  },
  {
   "cell_type": "code",
   "execution_count": null,
   "metadata": {},
   "outputs": [],
   "source": [
    "# I don't know if it works - CHECK!"
   ]
  },
  {
   "cell_type": "code",
   "execution_count": null,
   "metadata": {},
   "outputs": [],
   "source": [
    "def page_selection():\n",
    "'''\n",
    "Function that create .json of all pages analyzed\n",
    "'''\n",
    "\n",
    "    homes_rent = []\n",
    "        for i in all_URLs:\n",
    "            homes_rent.append(property_json(i))\n",
    "    \n",
    "    # Dataframe\n",
    "    homesFORrent = json_normalize(homes_rent)\n",
    "    return homesFORrent.head()"
   ]
  },
  {
   "cell_type": "code",
   "execution_count": null,
   "metadata": {},
   "outputs": [],
   "source": [
    "homes_rent_BCN = page_selection(all_URLs)\n",
    "homes_rent_BCN"
   ]
  },
  {
   "cell_type": "markdown",
   "metadata": {},
   "source": [
    "## 3.2 Export search results"
   ]
  },
  {
   "cell_type": "code",
   "execution_count": null,
   "metadata": {},
   "outputs": [],
   "source": [
    "# homes_BCN = 'homes_rent_BCN_'+time.strftime('%d-%m-%Y_%H-%M')+'.json'"
   ]
  },
  {
   "cell_type": "code",
   "execution_count": null,
   "metadata": {},
   "outputs": [],
   "source": [
    "# with open(\"output/',homes_BCN 'w') as export:\n",
    "#     json.dump(homes_rent_BCN, export)"
   ]
  },
  {
   "cell_type": "code",
   "execution_count": null,
   "metadata": {},
   "outputs": [],
   "source": [
    "# Share data between Jupyter Notebooks\n",
    "# %store homes_BCN"
   ]
  },
  {
   "cell_type": "markdown",
   "metadata": {},
   "source": [
    "## 4. Extract information with Pandas"
   ]
  },
  {
   "cell_type": "markdown",
   "metadata": {},
   "source": [
    "--> Coming soon! \\o/"
   ]
  },
  {
   "cell_type": "code",
   "execution_count": null,
   "metadata": {},
   "outputs": [],
   "source": []
  }
 ],
 "metadata": {
  "kernelspec": {
   "display_name": "Python 3",
   "language": "python",
   "name": "python3"
  },
  "language_info": {
   "codemirror_mode": {
    "name": "ipython",
    "version": 3
   },
   "file_extension": ".py",
   "mimetype": "text/x-python",
   "name": "python",
   "nbconvert_exporter": "python",
   "pygments_lexer": "ipython3",
   "version": "3.7.4"
  }
 },
 "nbformat": 4,
 "nbformat_minor": 4
}
