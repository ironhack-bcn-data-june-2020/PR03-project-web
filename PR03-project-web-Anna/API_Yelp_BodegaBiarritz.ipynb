{
 "cells": [
  {
   "cell_type": "markdown",
   "metadata": {},
   "source": [
    "# Scraping API Yelp: Bodega Biarritz 1881\n",
    "\n",
    "__________________________________________________________________________________________________________________\n",
    "\n",
    "### Objective\n",
    "\n",
    "1. Get main information of Bodega Biarritz 1881\n",
    "2. Is Yelp having the same type of reviews that we found in TripAdvisor?\n",
    "\n",
    "### Web Scraping Steps (using API)\n",
    "0. Imports\n",
    "1. Get main restaurant info including all possible reviews \n",
    "2. Analyse all reviews\n",
    "    - Sentiment Analysis\n",
    "    - Evolution \n",
    "    - Most mention words     \n",
    "3. Get Conclusions\n",
    "__________________________________________________________________________________________________________________"
   ]
  },
  {
   "cell_type": "markdown",
   "metadata": {},
   "source": [
    "#### 0. import"
   ]
  },
  {
   "cell_type": "code",
   "execution_count": 576,
   "metadata": {},
   "outputs": [],
   "source": [
    "import requests\n",
    "import pandas as pd\n",
    "from textblob import TextBlob\n",
    "import pprint\n",
    "import re"
   ]
  },
  {
   "cell_type": "markdown",
   "metadata": {},
   "source": [
    "#### 1. Get main restaurant info including all possible reviews "
   ]
  },
  {
   "cell_type": "markdown",
   "metadata": {},
   "source": [
    "*Steps to get to reviews of a particular restaurant, in our case:Bodega Biarritz 1881*\n",
    "\n",
    "1. Find the restaurant ID \n",
    "\n",
    "    I'll do it throught the yelp api \"https://api.yelp.com/v3/businesses/search/phone\" as we can look for its phone in internet and we suposu only this restaurant will have this unique phone number\n",
    "    \n",
    "    \n",
    "2. With the restaurant ID find all its reviews"
   ]
  },
  {
   "cell_type": "code",
   "execution_count": 577,
   "metadata": {},
   "outputs": [],
   "source": [
    "#FIND ID RESTAURANT\n",
    "\n",
    "api_key=\"vbaLOLzKsvQuf_ZnqDsWeGtWS5nzU8lDkj4gH0LDQ7jF7sVhS3IGBUVohAkDKLKUBOawngNwQ5qUcONmHxbkbLJXjSi2i6yzRhahCVtykCHSEaKO-5urVdU8hLY_X3Yx\"\n",
    "url=\"https://api.yelp.com/v3/businesses/search/phone\"\n",
    "headers={\"Authorization\":\"Bearer %s\" %api_key}\n",
    "params={'phone': '+34618677927'}"
   ]
  },
  {
   "cell_type": "code",
   "execution_count": 578,
   "metadata": {},
   "outputs": [
    {
     "data": {
      "text/plain": [
       "200"
      ]
     },
     "execution_count": 578,
     "metadata": {},
     "output_type": "execute_result"
    }
   ],
   "source": [
    "response=requests.get(url, params=params, headers=headers)\n",
    "response.status_code"
   ]
  },
  {
   "cell_type": "code",
   "execution_count": 579,
   "metadata": {},
   "outputs": [],
   "source": [
    "data=response.json()"
   ]
  },
  {
   "cell_type": "code",
   "execution_count": 580,
   "metadata": {},
   "outputs": [],
   "source": [
    "#Flattering data\n",
    "flattened_data=pd.json_normalize(data)"
   ]
  },
  {
   "cell_type": "code",
   "execution_count": 581,
   "metadata": {},
   "outputs": [
    {
     "data": {
      "text/html": [
       "<div>\n",
       "<style scoped>\n",
       "    .dataframe tbody tr th:only-of-type {\n",
       "        vertical-align: middle;\n",
       "    }\n",
       "\n",
       "    .dataframe tbody tr th {\n",
       "        vertical-align: top;\n",
       "    }\n",
       "\n",
       "    .dataframe thead th {\n",
       "        text-align: right;\n",
       "    }\n",
       "</style>\n",
       "<table border=\"1\" class=\"dataframe\">\n",
       "  <thead>\n",
       "    <tr style=\"text-align: right;\">\n",
       "      <th></th>\n",
       "      <th>businesses</th>\n",
       "      <th>total</th>\n",
       "    </tr>\n",
       "  </thead>\n",
       "  <tbody>\n",
       "    <tr>\n",
       "      <th>0</th>\n",
       "      <td>[{'id': 'qvAtonLNW9hT3zkE-8zF2A', 'alias': 'bo...</td>\n",
       "      <td>2</td>\n",
       "    </tr>\n",
       "  </tbody>\n",
       "</table>\n",
       "</div>"
      ],
      "text/plain": [
       "                                          businesses  total\n",
       "0  [{'id': 'qvAtonLNW9hT3zkE-8zF2A', 'alias': 'bo...      2"
      ]
     },
     "execution_count": 581,
     "metadata": {},
     "output_type": "execute_result"
    }
   ],
   "source": [
    "flattened_data"
   ]
  },
  {
   "cell_type": "code",
   "execution_count": 582,
   "metadata": {},
   "outputs": [],
   "source": [
    "#As we see, we have all info in 1 column. \n",
    "#We will divided nicely.\n",
    "data_restaurant=flattened_data[\"businesses\"][0]\n",
    "data_restaurant=pd.json_normalize(data_restaurant)"
   ]
  },
  {
   "cell_type": "code",
   "execution_count": 583,
   "metadata": {},
   "outputs": [
    {
     "data": {
      "text/html": [
       "<div>\n",
       "<style scoped>\n",
       "    .dataframe tbody tr th:only-of-type {\n",
       "        vertical-align: middle;\n",
       "    }\n",
       "\n",
       "    .dataframe tbody tr th {\n",
       "        vertical-align: top;\n",
       "    }\n",
       "\n",
       "    .dataframe thead th {\n",
       "        text-align: right;\n",
       "    }\n",
       "</style>\n",
       "<table border=\"1\" class=\"dataframe\">\n",
       "  <thead>\n",
       "    <tr style=\"text-align: right;\">\n",
       "      <th></th>\n",
       "      <th>id</th>\n",
       "      <th>alias</th>\n",
       "      <th>name</th>\n",
       "      <th>image_url</th>\n",
       "      <th>is_closed</th>\n",
       "      <th>url</th>\n",
       "      <th>review_count</th>\n",
       "      <th>categories</th>\n",
       "      <th>rating</th>\n",
       "      <th>transactions</th>\n",
       "      <th>...</th>\n",
       "      <th>coordinates.latitude</th>\n",
       "      <th>coordinates.longitude</th>\n",
       "      <th>location.address1</th>\n",
       "      <th>location.address2</th>\n",
       "      <th>location.address3</th>\n",
       "      <th>location.city</th>\n",
       "      <th>location.zip_code</th>\n",
       "      <th>location.country</th>\n",
       "      <th>location.state</th>\n",
       "      <th>location.display_address</th>\n",
       "    </tr>\n",
       "  </thead>\n",
       "  <tbody>\n",
       "    <tr>\n",
       "      <th>0</th>\n",
       "      <td>qvAtonLNW9hT3zkE-8zF2A</td>\n",
       "      <td>bodega-biarritz-1881-barcelona</td>\n",
       "      <td>Bodega Biarritz 1881</td>\n",
       "      <td>https://s3-media0.fl.yelpcdn.com/bphoto/zpE0zp...</td>\n",
       "      <td>False</td>\n",
       "      <td>https://www.yelp.com/biz/bodega-biarritz-1881-...</td>\n",
       "      <td>90</td>\n",
       "      <td>[{'alias': 'bars', 'title': 'Bars'}, {'alias':...</td>\n",
       "      <td>4.5</td>\n",
       "      <td>[]</td>\n",
       "      <td>...</td>\n",
       "      <td>41.379771</td>\n",
       "      <td>2.176196</td>\n",
       "      <td>Carrer del Vidre, 8</td>\n",
       "      <td></td>\n",
       "      <td></td>\n",
       "      <td>Barcelona</td>\n",
       "      <td>08002</td>\n",
       "      <td>ES</td>\n",
       "      <td>B</td>\n",
       "      <td>[Carrer del Vidre, 8, 08002 Barcelona, Spain]</td>\n",
       "    </tr>\n",
       "    <tr>\n",
       "      <th>1</th>\n",
       "      <td>5IrOyJvyCA4IImq08n_sDQ</td>\n",
       "      <td>bodega-biarritz-barcelona</td>\n",
       "      <td>Bodega Biarritz</td>\n",
       "      <td>https://s3-media0.fl.yelpcdn.com/bphoto/Dem2QU...</td>\n",
       "      <td>False</td>\n",
       "      <td>https://www.yelp.com/biz/bodega-biarritz-barce...</td>\n",
       "      <td>6</td>\n",
       "      <td>[{'alias': 'tapasmallplates', 'title': 'Tapas/...</td>\n",
       "      <td>4.5</td>\n",
       "      <td>[]</td>\n",
       "      <td>...</td>\n",
       "      <td>41.379240</td>\n",
       "      <td>2.177010</td>\n",
       "      <td>Carrer Nou De Sant Francesc, 7</td>\n",
       "      <td></td>\n",
       "      <td>None</td>\n",
       "      <td>Barcelona</td>\n",
       "      <td>08002</td>\n",
       "      <td>ES</td>\n",
       "      <td>B</td>\n",
       "      <td>[Carrer Nou De Sant Francesc, 7, 08002 Barcelo...</td>\n",
       "    </tr>\n",
       "  </tbody>\n",
       "</table>\n",
       "<p>2 rows × 23 columns</p>\n",
       "</div>"
      ],
      "text/plain": [
       "                       id                           alias  \\\n",
       "0  qvAtonLNW9hT3zkE-8zF2A  bodega-biarritz-1881-barcelona   \n",
       "1  5IrOyJvyCA4IImq08n_sDQ       bodega-biarritz-barcelona   \n",
       "\n",
       "                   name                                          image_url  \\\n",
       "0  Bodega Biarritz 1881  https://s3-media0.fl.yelpcdn.com/bphoto/zpE0zp...   \n",
       "1       Bodega Biarritz  https://s3-media0.fl.yelpcdn.com/bphoto/Dem2QU...   \n",
       "\n",
       "   is_closed                                                url  review_count  \\\n",
       "0      False  https://www.yelp.com/biz/bodega-biarritz-1881-...            90   \n",
       "1      False  https://www.yelp.com/biz/bodega-biarritz-barce...             6   \n",
       "\n",
       "                                          categories  rating transactions  \\\n",
       "0  [{'alias': 'bars', 'title': 'Bars'}, {'alias':...     4.5           []   \n",
       "1  [{'alias': 'tapasmallplates', 'title': 'Tapas/...     4.5           []   \n",
       "\n",
       "   ... coordinates.latitude coordinates.longitude  \\\n",
       "0  ...            41.379771              2.176196   \n",
       "1  ...            41.379240              2.177010   \n",
       "\n",
       "                location.address1  location.address2  location.address3  \\\n",
       "0             Carrer del Vidre, 8                                         \n",
       "1  Carrer Nou De Sant Francesc, 7                                  None   \n",
       "\n",
       "  location.city location.zip_code location.country location.state  \\\n",
       "0     Barcelona             08002               ES              B   \n",
       "1     Barcelona             08002               ES              B   \n",
       "\n",
       "                            location.display_address  \n",
       "0      [Carrer del Vidre, 8, 08002 Barcelona, Spain]  \n",
       "1  [Carrer Nou De Sant Francesc, 7, 08002 Barcelo...  \n",
       "\n",
       "[2 rows x 23 columns]"
      ]
     },
     "execution_count": 583,
     "metadata": {},
     "output_type": "execute_result"
    }
   ],
   "source": [
    "#Here we have all the main info about the restaurant.\n",
    "#We'll take the first ID restaurant as the referent becuase it is the same address we had review for TripAdvisor. \n",
    "data_restaurant\n"
   ]
  },
  {
   "cell_type": "code",
   "execution_count": 584,
   "metadata": {},
   "outputs": [],
   "source": [
    "#Save data to csv\n",
    "data_restaurant.to_csv('yelp_data_restaurant_BodegaBiarritz.csv')"
   ]
  },
  {
   "cell_type": "code",
   "execution_count": 689,
   "metadata": {},
   "outputs": [],
   "source": [
    "#Open csv data_restaurant to clean table\n",
    "data_restaurant=pd.read_csv(\"yelp_data_restaurant_BodegaBiarritz.csv\")"
   ]
  },
  {
   "cell_type": "code",
   "execution_count": 690,
   "metadata": {},
   "outputs": [
    {
     "data": {
      "text/plain": [
       "Index(['Unnamed: 0', 'id', 'alias', 'name', 'image_url', 'is_closed', 'url',\n",
       "       'review_count', 'categories', 'rating', 'transactions', 'price',\n",
       "       'phone', 'display_phone', 'coordinates.latitude',\n",
       "       'coordinates.longitude', 'location.address1', 'location.address2',\n",
       "       'location.address3', 'location.city', 'location.zip_code',\n",
       "       'location.country', 'location.state', 'location.display_address'],\n",
       "      dtype='object')"
      ]
     },
     "execution_count": 690,
     "metadata": {},
     "output_type": "execute_result"
    }
   ],
   "source": [
    "data_restaurant.columns"
   ]
  },
  {
   "cell_type": "code",
   "execution_count": 691,
   "metadata": {},
   "outputs": [],
   "source": [
    "data_restaurant.drop(columns=['Unnamed: 0','alias','display_phone','transactions','price', 'image_url','is_closed','location.address2',\n",
    "       'location.address3','location.display_address'], inplace=True)"
   ]
  },
  {
   "cell_type": "code",
   "execution_count": 692,
   "metadata": {},
   "outputs": [
    {
     "data": {
      "text/html": [
       "<div>\n",
       "<style scoped>\n",
       "    .dataframe tbody tr th:only-of-type {\n",
       "        vertical-align: middle;\n",
       "    }\n",
       "\n",
       "    .dataframe tbody tr th {\n",
       "        vertical-align: top;\n",
       "    }\n",
       "\n",
       "    .dataframe thead th {\n",
       "        text-align: right;\n",
       "    }\n",
       "</style>\n",
       "<table border=\"1\" class=\"dataframe\">\n",
       "  <thead>\n",
       "    <tr style=\"text-align: right;\">\n",
       "      <th></th>\n",
       "      <th>id</th>\n",
       "      <th>name</th>\n",
       "      <th>url</th>\n",
       "      <th>review_count</th>\n",
       "      <th>categories</th>\n",
       "      <th>rating</th>\n",
       "      <th>phone</th>\n",
       "      <th>coordinates.latitude</th>\n",
       "      <th>coordinates.longitude</th>\n",
       "      <th>location.address1</th>\n",
       "      <th>location.city</th>\n",
       "      <th>location.zip_code</th>\n",
       "      <th>location.country</th>\n",
       "      <th>location.state</th>\n",
       "    </tr>\n",
       "  </thead>\n",
       "  <tbody>\n",
       "    <tr>\n",
       "      <th>0</th>\n",
       "      <td>qvAtonLNW9hT3zkE-8zF2A</td>\n",
       "      <td>Bodega Biarritz 1881</td>\n",
       "      <td>https://www.yelp.com/biz/bodega-biarritz-1881-...</td>\n",
       "      <td>90</td>\n",
       "      <td>[{'alias': 'bars', 'title': 'Bars'}, {'alias':...</td>\n",
       "      <td>4.5</td>\n",
       "      <td>34618677927</td>\n",
       "      <td>41.379771</td>\n",
       "      <td>2.176196</td>\n",
       "      <td>Carrer del Vidre, 8</td>\n",
       "      <td>Barcelona</td>\n",
       "      <td>8002</td>\n",
       "      <td>ES</td>\n",
       "      <td>B</td>\n",
       "    </tr>\n",
       "    <tr>\n",
       "      <th>1</th>\n",
       "      <td>5IrOyJvyCA4IImq08n_sDQ</td>\n",
       "      <td>Bodega Biarritz</td>\n",
       "      <td>https://www.yelp.com/biz/bodega-biarritz-barce...</td>\n",
       "      <td>6</td>\n",
       "      <td>[{'alias': 'tapasmallplates', 'title': 'Tapas/...</td>\n",
       "      <td>4.5</td>\n",
       "      <td>34618677927</td>\n",
       "      <td>41.379240</td>\n",
       "      <td>2.177010</td>\n",
       "      <td>Carrer Nou De Sant Francesc, 7</td>\n",
       "      <td>Barcelona</td>\n",
       "      <td>8002</td>\n",
       "      <td>ES</td>\n",
       "      <td>B</td>\n",
       "    </tr>\n",
       "  </tbody>\n",
       "</table>\n",
       "</div>"
      ],
      "text/plain": [
       "                       id                  name  \\\n",
       "0  qvAtonLNW9hT3zkE-8zF2A  Bodega Biarritz 1881   \n",
       "1  5IrOyJvyCA4IImq08n_sDQ       Bodega Biarritz   \n",
       "\n",
       "                                                 url  review_count  \\\n",
       "0  https://www.yelp.com/biz/bodega-biarritz-1881-...            90   \n",
       "1  https://www.yelp.com/biz/bodega-biarritz-barce...             6   \n",
       "\n",
       "                                          categories  rating        phone  \\\n",
       "0  [{'alias': 'bars', 'title': 'Bars'}, {'alias':...     4.5  34618677927   \n",
       "1  [{'alias': 'tapasmallplates', 'title': 'Tapas/...     4.5  34618677927   \n",
       "\n",
       "   coordinates.latitude  coordinates.longitude  \\\n",
       "0             41.379771               2.176196   \n",
       "1             41.379240               2.177010   \n",
       "\n",
       "                location.address1 location.city  location.zip_code  \\\n",
       "0             Carrer del Vidre, 8     Barcelona               8002   \n",
       "1  Carrer Nou De Sant Francesc, 7     Barcelona               8002   \n",
       "\n",
       "  location.country location.state  \n",
       "0               ES              B  \n",
       "1               ES              B  "
      ]
     },
     "execution_count": 692,
     "metadata": {},
     "output_type": "execute_result"
    }
   ],
   "source": [
    "data_restaurant"
   ]
  },
  {
   "cell_type": "code",
   "execution_count": 693,
   "metadata": {},
   "outputs": [],
   "source": [
    "#Save clean data_restaurant \n",
    "data_restaurant.to_csv(\"yelp_data_restaurant_BodegaBiarritz_Clean.csv\")"
   ]
  },
  {
   "cell_type": "code",
   "execution_count": 586,
   "metadata": {},
   "outputs": [],
   "source": [
    "#FIND REVIEWS RESTAURANT (ID:qvAtonLNW9hT3zkE-8zF2A->we use this one)\n",
    "\n",
    "#Get Key, Url + Headers\n",
    "id_restaurant=\"qvAtonLNW9hT3zkE-8zF2A\"\n",
    "api_key=\"vbaLOLzKsvQuf_ZnqDsWeGtWS5nzU8lDkj4gH0LDQ7jF7sVhS3IGBUVohAkDKLKUBOawngNwQ5qUcONmHxbkbLJXjSi2i6yzRhahCVtykCHSEaKO-5urVdU8hLY_X3Yx\"\n",
    "url=f\"https://api.yelp.com/v3/businesses/{id_restaurant}/reviews\"\n",
    "headers={\"Authorization\":\"Bearer %s\" %api_key}\n",
    "\n"
   ]
  },
  {
   "cell_type": "code",
   "execution_count": 587,
   "metadata": {},
   "outputs": [],
   "source": [
    "#Get the info from url\n",
    "response=requests.get(url,headers=headers)"
   ]
  },
  {
   "cell_type": "code",
   "execution_count": 588,
   "metadata": {},
   "outputs": [
    {
     "data": {
      "text/plain": [
       "<Response [200]>"
      ]
     },
     "execution_count": 588,
     "metadata": {},
     "output_type": "execute_result"
    }
   ],
   "source": [
    "response"
   ]
  },
  {
   "cell_type": "code",
   "execution_count": 589,
   "metadata": {},
   "outputs": [],
   "source": [
    "#Get response with json format\n",
    "data=response.json()"
   ]
  },
  {
   "cell_type": "code",
   "execution_count": 590,
   "metadata": {},
   "outputs": [
    {
     "data": {
      "text/plain": [
       "{'reviews': [{'id': 'QvRE0hOZb8hLHXNR1KLaJw',\n",
       "   'url': 'https://www.yelp.com/biz/bodega-biarritz-1881-barcelona?adjust_creative=56tMv8Oeq8QD6pC-p_IovA&hrid=QvRE0hOZb8hLHXNR1KLaJw&utm_campaign=yelp_api_v3&utm_medium=api_v3_business_reviews&utm_source=56tMv8Oeq8QD6pC-p_IovA',\n",
       "   'text': 'Was sitting in Plaça Real looking at restaurant\\nreviews and saw this.  Wow wow wow.  What a find.  Delicious food.  Reasonable prices. Staff that are...',\n",
       "   'rating': 5,\n",
       "   'time_created': '2020-03-12 14:32:09',\n",
       "   'user': {'id': 'VkaQuKn57hR0lEOQhlf0cg',\n",
       "    'profile_url': 'https://www.yelp.com/user_details?userid=VkaQuKn57hR0lEOQhlf0cg',\n",
       "    'image_url': None,\n",
       "    'name': 'George T.'}},\n",
       "  {'id': 'uthsxDzJd2oos-3j1NfeDg',\n",
       "   'url': 'https://www.yelp.com/biz/bodega-biarritz-1881-barcelona?adjust_creative=56tMv8Oeq8QD6pC-p_IovA&hrid=uthsxDzJd2oos-3j1NfeDg&utm_campaign=yelp_api_v3&utm_medium=api_v3_business_reviews&utm_source=56tMv8Oeq8QD6pC-p_IovA',\n",
       "   'text': 'Space is really limited, and the interior gets pretty packed. Make sure you look at the menu outside and figure out what you want to order beforehand. They...',\n",
       "   'rating': 5,\n",
       "   'time_created': '2019-11-23 08:36:55',\n",
       "   'user': {'id': 'lGBvmBDeIooqcrMwp1a1yg',\n",
       "    'profile_url': 'https://www.yelp.com/user_details?userid=lGBvmBDeIooqcrMwp1a1yg',\n",
       "    'image_url': 'https://s3-media1.fl.yelpcdn.com/photo/2AcVoHAAzlcCMIdEnHFBJQ/o.jpg',\n",
       "    'name': 'Eugene W.'}},\n",
       "  {'id': 'TWMRgvXS3Omyj52AN-xLew',\n",
       "   'url': 'https://www.yelp.com/biz/bodega-biarritz-1881-barcelona?adjust_creative=56tMv8Oeq8QD6pC-p_IovA&hrid=TWMRgvXS3Omyj52AN-xLew&utm_campaign=yelp_api_v3&utm_medium=api_v3_business_reviews&utm_source=56tMv8Oeq8QD6pC-p_IovA',\n",
       "   'text': 'Came around 6:30-7pm during the week and waited about 30 minutes for a table. The staff is great, because you can order drinks while you wait in line. Grab...',\n",
       "   'rating': 5,\n",
       "   'time_created': '2019-10-02 07:59:00',\n",
       "   'user': {'id': 'f2-ZHyhJ025sJSrFHeUTZA',\n",
       "    'profile_url': 'https://www.yelp.com/user_details?userid=f2-ZHyhJ025sJSrFHeUTZA',\n",
       "    'image_url': 'https://s3-media4.fl.yelpcdn.com/photo/0OuQypKRtGlL9S17ayC77g/o.jpg',\n",
       "    'name': 'Nancy B.'}}],\n",
       " 'total': 90,\n",
       " 'possible_languages': ['fr', 'de', 'en']}"
      ]
     },
     "execution_count": 590,
     "metadata": {},
     "output_type": "execute_result"
    }
   ],
   "source": [
    "data"
   ]
  },
  {
   "cell_type": "code",
   "execution_count": 591,
   "metadata": {},
   "outputs": [
    {
     "data": {
      "text/html": [
       "<div>\n",
       "<style scoped>\n",
       "    .dataframe tbody tr th:only-of-type {\n",
       "        vertical-align: middle;\n",
       "    }\n",
       "\n",
       "    .dataframe tbody tr th {\n",
       "        vertical-align: top;\n",
       "    }\n",
       "\n",
       "    .dataframe thead th {\n",
       "        text-align: right;\n",
       "    }\n",
       "</style>\n",
       "<table border=\"1\" class=\"dataframe\">\n",
       "  <thead>\n",
       "    <tr style=\"text-align: right;\">\n",
       "      <th></th>\n",
       "      <th>reviews</th>\n",
       "      <th>total</th>\n",
       "      <th>possible_languages</th>\n",
       "    </tr>\n",
       "  </thead>\n",
       "  <tbody>\n",
       "    <tr>\n",
       "      <th>0</th>\n",
       "      <td>[{'id': 'QvRE0hOZb8hLHXNR1KLaJw', 'url': 'http...</td>\n",
       "      <td>90</td>\n",
       "      <td>[fr, de, en]</td>\n",
       "    </tr>\n",
       "  </tbody>\n",
       "</table>\n",
       "</div>"
      ],
      "text/plain": [
       "                                             reviews  total possible_languages\n",
       "0  [{'id': 'QvRE0hOZb8hLHXNR1KLaJw', 'url': 'http...     90       [fr, de, en]"
      ]
     },
     "execution_count": 591,
     "metadata": {},
     "output_type": "execute_result"
    }
   ],
   "source": [
    "#As we see, we have all info in 1 column again. We will divided nicely.\n",
    "\n",
    "flattened_data=pd.json_normalize(data)\n",
    "flattened_data"
   ]
  },
  {
   "cell_type": "code",
   "execution_count": 592,
   "metadata": {},
   "outputs": [],
   "source": [
    "#Here we have all the info from 3 reviews out of 90 reviews\n",
    "reviews=flattened_data[\"reviews\"][0]"
   ]
  },
  {
   "cell_type": "code",
   "execution_count": 593,
   "metadata": {},
   "outputs": [
    {
     "data": {
      "text/html": [
       "<div>\n",
       "<style scoped>\n",
       "    .dataframe tbody tr th:only-of-type {\n",
       "        vertical-align: middle;\n",
       "    }\n",
       "\n",
       "    .dataframe tbody tr th {\n",
       "        vertical-align: top;\n",
       "    }\n",
       "\n",
       "    .dataframe thead th {\n",
       "        text-align: right;\n",
       "    }\n",
       "</style>\n",
       "<table border=\"1\" class=\"dataframe\">\n",
       "  <thead>\n",
       "    <tr style=\"text-align: right;\">\n",
       "      <th></th>\n",
       "      <th>id</th>\n",
       "      <th>url</th>\n",
       "      <th>text</th>\n",
       "      <th>rating</th>\n",
       "      <th>time_created</th>\n",
       "      <th>user.id</th>\n",
       "      <th>user.profile_url</th>\n",
       "      <th>user.image_url</th>\n",
       "      <th>user.name</th>\n",
       "    </tr>\n",
       "  </thead>\n",
       "  <tbody>\n",
       "    <tr>\n",
       "      <th>0</th>\n",
       "      <td>QvRE0hOZb8hLHXNR1KLaJw</td>\n",
       "      <td>https://www.yelp.com/biz/bodega-biarritz-1881-...</td>\n",
       "      <td>Was sitting in Plaça Real looking at restauran...</td>\n",
       "      <td>5</td>\n",
       "      <td>2020-03-12 14:32:09</td>\n",
       "      <td>VkaQuKn57hR0lEOQhlf0cg</td>\n",
       "      <td>https://www.yelp.com/user_details?userid=VkaQu...</td>\n",
       "      <td>None</td>\n",
       "      <td>George T.</td>\n",
       "    </tr>\n",
       "    <tr>\n",
       "      <th>1</th>\n",
       "      <td>uthsxDzJd2oos-3j1NfeDg</td>\n",
       "      <td>https://www.yelp.com/biz/bodega-biarritz-1881-...</td>\n",
       "      <td>Space is really limited, and the interior gets...</td>\n",
       "      <td>5</td>\n",
       "      <td>2019-11-23 08:36:55</td>\n",
       "      <td>lGBvmBDeIooqcrMwp1a1yg</td>\n",
       "      <td>https://www.yelp.com/user_details?userid=lGBvm...</td>\n",
       "      <td>https://s3-media1.fl.yelpcdn.com/photo/2AcVoHA...</td>\n",
       "      <td>Eugene W.</td>\n",
       "    </tr>\n",
       "    <tr>\n",
       "      <th>2</th>\n",
       "      <td>TWMRgvXS3Omyj52AN-xLew</td>\n",
       "      <td>https://www.yelp.com/biz/bodega-biarritz-1881-...</td>\n",
       "      <td>Came around 6:30-7pm during the week and waite...</td>\n",
       "      <td>5</td>\n",
       "      <td>2019-10-02 07:59:00</td>\n",
       "      <td>f2-ZHyhJ025sJSrFHeUTZA</td>\n",
       "      <td>https://www.yelp.com/user_details?userid=f2-ZH...</td>\n",
       "      <td>https://s3-media4.fl.yelpcdn.com/photo/0OuQypK...</td>\n",
       "      <td>Nancy B.</td>\n",
       "    </tr>\n",
       "  </tbody>\n",
       "</table>\n",
       "</div>"
      ],
      "text/plain": [
       "                       id                                                url  \\\n",
       "0  QvRE0hOZb8hLHXNR1KLaJw  https://www.yelp.com/biz/bodega-biarritz-1881-...   \n",
       "1  uthsxDzJd2oos-3j1NfeDg  https://www.yelp.com/biz/bodega-biarritz-1881-...   \n",
       "2  TWMRgvXS3Omyj52AN-xLew  https://www.yelp.com/biz/bodega-biarritz-1881-...   \n",
       "\n",
       "                                                text  rating  \\\n",
       "0  Was sitting in Plaça Real looking at restauran...       5   \n",
       "1  Space is really limited, and the interior gets...       5   \n",
       "2  Came around 6:30-7pm during the week and waite...       5   \n",
       "\n",
       "          time_created                 user.id  \\\n",
       "0  2020-03-12 14:32:09  VkaQuKn57hR0lEOQhlf0cg   \n",
       "1  2019-11-23 08:36:55  lGBvmBDeIooqcrMwp1a1yg   \n",
       "2  2019-10-02 07:59:00  f2-ZHyhJ025sJSrFHeUTZA   \n",
       "\n",
       "                                    user.profile_url  \\\n",
       "0  https://www.yelp.com/user_details?userid=VkaQu...   \n",
       "1  https://www.yelp.com/user_details?userid=lGBvm...   \n",
       "2  https://www.yelp.com/user_details?userid=f2-ZH...   \n",
       "\n",
       "                                      user.image_url  user.name  \n",
       "0                                               None  George T.  \n",
       "1  https://s3-media1.fl.yelpcdn.com/photo/2AcVoHA...  Eugene W.  \n",
       "2  https://s3-media4.fl.yelpcdn.com/photo/0OuQypK...   Nancy B.  "
      ]
     },
     "execution_count": 593,
     "metadata": {},
     "output_type": "execute_result"
    }
   ],
   "source": [
    "reviews=pd.json_normalize(reviews)\n",
    "reviews"
   ]
  },
  {
   "cell_type": "code",
   "execution_count": 594,
   "metadata": {},
   "outputs": [],
   "source": [
    "#Save data to csv\n",
    "reviews.to_csv('yelp_reviews_restaurant_BodegaBiarritz.csv')"
   ]
  },
  {
   "cell_type": "markdown",
   "metadata": {},
   "source": [
    "#### 2. Analyse all reviews"
   ]
  },
  {
   "cell_type": "markdown",
   "metadata": {},
   "source": [
    "##### Cleaning columns: delet usless columns + rewrite name columns + clean time column"
   ]
  },
  {
   "cell_type": "code",
   "execution_count": 628,
   "metadata": {},
   "outputs": [],
   "source": [
    "reviews=pd.read_csv(\"yelp_reviews_restaurant_BodegaBiarritz.csv\")"
   ]
  },
  {
   "cell_type": "code",
   "execution_count": 629,
   "metadata": {},
   "outputs": [
    {
     "data": {
      "text/html": [
       "<div>\n",
       "<style scoped>\n",
       "    .dataframe tbody tr th:only-of-type {\n",
       "        vertical-align: middle;\n",
       "    }\n",
       "\n",
       "    .dataframe tbody tr th {\n",
       "        vertical-align: top;\n",
       "    }\n",
       "\n",
       "    .dataframe thead th {\n",
       "        text-align: right;\n",
       "    }\n",
       "</style>\n",
       "<table border=\"1\" class=\"dataframe\">\n",
       "  <thead>\n",
       "    <tr style=\"text-align: right;\">\n",
       "      <th></th>\n",
       "      <th>Unnamed: 0</th>\n",
       "      <th>id</th>\n",
       "      <th>url</th>\n",
       "      <th>text</th>\n",
       "      <th>rating</th>\n",
       "      <th>time_created</th>\n",
       "      <th>user.id</th>\n",
       "      <th>user.profile_url</th>\n",
       "      <th>user.image_url</th>\n",
       "      <th>user.name</th>\n",
       "    </tr>\n",
       "  </thead>\n",
       "  <tbody>\n",
       "    <tr>\n",
       "      <th>0</th>\n",
       "      <td>0</td>\n",
       "      <td>QvRE0hOZb8hLHXNR1KLaJw</td>\n",
       "      <td>https://www.yelp.com/biz/bodega-biarritz-1881-...</td>\n",
       "      <td>Was sitting in Plaça Real looking at restauran...</td>\n",
       "      <td>5</td>\n",
       "      <td>2020-03-12 14:32:09</td>\n",
       "      <td>VkaQuKn57hR0lEOQhlf0cg</td>\n",
       "      <td>https://www.yelp.com/user_details?userid=VkaQu...</td>\n",
       "      <td>NaN</td>\n",
       "      <td>George T.</td>\n",
       "    </tr>\n",
       "    <tr>\n",
       "      <th>1</th>\n",
       "      <td>1</td>\n",
       "      <td>uthsxDzJd2oos-3j1NfeDg</td>\n",
       "      <td>https://www.yelp.com/biz/bodega-biarritz-1881-...</td>\n",
       "      <td>Space is really limited, and the interior gets...</td>\n",
       "      <td>5</td>\n",
       "      <td>2019-11-23 08:36:55</td>\n",
       "      <td>lGBvmBDeIooqcrMwp1a1yg</td>\n",
       "      <td>https://www.yelp.com/user_details?userid=lGBvm...</td>\n",
       "      <td>https://s3-media1.fl.yelpcdn.com/photo/2AcVoHA...</td>\n",
       "      <td>Eugene W.</td>\n",
       "    </tr>\n",
       "    <tr>\n",
       "      <th>2</th>\n",
       "      <td>2</td>\n",
       "      <td>TWMRgvXS3Omyj52AN-xLew</td>\n",
       "      <td>https://www.yelp.com/biz/bodega-biarritz-1881-...</td>\n",
       "      <td>Came around 6:30-7pm during the week and waite...</td>\n",
       "      <td>5</td>\n",
       "      <td>2019-10-02 07:59:00</td>\n",
       "      <td>f2-ZHyhJ025sJSrFHeUTZA</td>\n",
       "      <td>https://www.yelp.com/user_details?userid=f2-ZH...</td>\n",
       "      <td>https://s3-media4.fl.yelpcdn.com/photo/0OuQypK...</td>\n",
       "      <td>Nancy B.</td>\n",
       "    </tr>\n",
       "  </tbody>\n",
       "</table>\n",
       "</div>"
      ],
      "text/plain": [
       "   Unnamed: 0                      id  \\\n",
       "0           0  QvRE0hOZb8hLHXNR1KLaJw   \n",
       "1           1  uthsxDzJd2oos-3j1NfeDg   \n",
       "2           2  TWMRgvXS3Omyj52AN-xLew   \n",
       "\n",
       "                                                 url  \\\n",
       "0  https://www.yelp.com/biz/bodega-biarritz-1881-...   \n",
       "1  https://www.yelp.com/biz/bodega-biarritz-1881-...   \n",
       "2  https://www.yelp.com/biz/bodega-biarritz-1881-...   \n",
       "\n",
       "                                                text  rating  \\\n",
       "0  Was sitting in Plaça Real looking at restauran...       5   \n",
       "1  Space is really limited, and the interior gets...       5   \n",
       "2  Came around 6:30-7pm during the week and waite...       5   \n",
       "\n",
       "          time_created                 user.id  \\\n",
       "0  2020-03-12 14:32:09  VkaQuKn57hR0lEOQhlf0cg   \n",
       "1  2019-11-23 08:36:55  lGBvmBDeIooqcrMwp1a1yg   \n",
       "2  2019-10-02 07:59:00  f2-ZHyhJ025sJSrFHeUTZA   \n",
       "\n",
       "                                    user.profile_url  \\\n",
       "0  https://www.yelp.com/user_details?userid=VkaQu...   \n",
       "1  https://www.yelp.com/user_details?userid=lGBvm...   \n",
       "2  https://www.yelp.com/user_details?userid=f2-ZH...   \n",
       "\n",
       "                                      user.image_url  user.name  \n",
       "0                                                NaN  George T.  \n",
       "1  https://s3-media1.fl.yelpcdn.com/photo/2AcVoHA...  Eugene W.  \n",
       "2  https://s3-media4.fl.yelpcdn.com/photo/0OuQypK...   Nancy B.  "
      ]
     },
     "execution_count": 629,
     "metadata": {},
     "output_type": "execute_result"
    }
   ],
   "source": [
    "reviews"
   ]
  },
  {
   "cell_type": "code",
   "execution_count": 630,
   "metadata": {},
   "outputs": [],
   "source": [
    "\n",
    "#delet usless columns\n",
    "reviews.drop(columns=['id', 'url', 'user.id',\n",
    "       'user.profile_url', 'user.image_url', 'user.name'], inplace=True)"
   ]
  },
  {
   "cell_type": "code",
   "execution_count": 631,
   "metadata": {},
   "outputs": [
    {
     "data": {
      "text/html": [
       "<div>\n",
       "<style scoped>\n",
       "    .dataframe tbody tr th:only-of-type {\n",
       "        vertical-align: middle;\n",
       "    }\n",
       "\n",
       "    .dataframe tbody tr th {\n",
       "        vertical-align: top;\n",
       "    }\n",
       "\n",
       "    .dataframe thead th {\n",
       "        text-align: right;\n",
       "    }\n",
       "</style>\n",
       "<table border=\"1\" class=\"dataframe\">\n",
       "  <thead>\n",
       "    <tr style=\"text-align: right;\">\n",
       "      <th></th>\n",
       "      <th>Unnamed: 0</th>\n",
       "      <th>text</th>\n",
       "      <th>rating</th>\n",
       "      <th>time_created</th>\n",
       "    </tr>\n",
       "  </thead>\n",
       "  <tbody>\n",
       "    <tr>\n",
       "      <th>0</th>\n",
       "      <td>0</td>\n",
       "      <td>Was sitting in Plaça Real looking at restauran...</td>\n",
       "      <td>5</td>\n",
       "      <td>2020-03-12 14:32:09</td>\n",
       "    </tr>\n",
       "    <tr>\n",
       "      <th>1</th>\n",
       "      <td>1</td>\n",
       "      <td>Space is really limited, and the interior gets...</td>\n",
       "      <td>5</td>\n",
       "      <td>2019-11-23 08:36:55</td>\n",
       "    </tr>\n",
       "    <tr>\n",
       "      <th>2</th>\n",
       "      <td>2</td>\n",
       "      <td>Came around 6:30-7pm during the week and waite...</td>\n",
       "      <td>5</td>\n",
       "      <td>2019-10-02 07:59:00</td>\n",
       "    </tr>\n",
       "  </tbody>\n",
       "</table>\n",
       "</div>"
      ],
      "text/plain": [
       "   Unnamed: 0                                               text  rating  \\\n",
       "0           0  Was sitting in Plaça Real looking at restauran...       5   \n",
       "1           1  Space is really limited, and the interior gets...       5   \n",
       "2           2  Came around 6:30-7pm during the week and waite...       5   \n",
       "\n",
       "          time_created  \n",
       "0  2020-03-12 14:32:09  \n",
       "1  2019-11-23 08:36:55  \n",
       "2  2019-10-02 07:59:00  "
      ]
     },
     "execution_count": 631,
     "metadata": {},
     "output_type": "execute_result"
    }
   ],
   "source": [
    "reviews"
   ]
  },
  {
   "cell_type": "code",
   "execution_count": 632,
   "metadata": {},
   "outputs": [],
   "source": [
    "reviews.drop(columns=[\"Unnamed: 0\"],  inplace=True)"
   ]
  },
  {
   "cell_type": "code",
   "execution_count": 633,
   "metadata": {},
   "outputs": [],
   "source": [
    "#rewrite name columns\n",
    "reviews.rename(columns={\"text\":\"Full Review\"}, inplace=True)"
   ]
  },
  {
   "cell_type": "code",
   "execution_count": 634,
   "metadata": {},
   "outputs": [],
   "source": [
    "reviews.rename(columns={\"rating\":\"Rating\"}, inplace=True)"
   ]
  },
  {
   "cell_type": "code",
   "execution_count": 635,
   "metadata": {},
   "outputs": [],
   "source": [
    "reviews.rename(columns={\"time_created\":\"Date of Review\"}, inplace=True)"
   ]
  },
  {
   "cell_type": "code",
   "execution_count": 636,
   "metadata": {},
   "outputs": [
    {
     "data": {
      "text/html": [
       "<div>\n",
       "<style scoped>\n",
       "    .dataframe tbody tr th:only-of-type {\n",
       "        vertical-align: middle;\n",
       "    }\n",
       "\n",
       "    .dataframe tbody tr th {\n",
       "        vertical-align: top;\n",
       "    }\n",
       "\n",
       "    .dataframe thead th {\n",
       "        text-align: right;\n",
       "    }\n",
       "</style>\n",
       "<table border=\"1\" class=\"dataframe\">\n",
       "  <thead>\n",
       "    <tr style=\"text-align: right;\">\n",
       "      <th></th>\n",
       "      <th>Full Review</th>\n",
       "      <th>Rating</th>\n",
       "      <th>Date of Review</th>\n",
       "    </tr>\n",
       "  </thead>\n",
       "  <tbody>\n",
       "    <tr>\n",
       "      <th>0</th>\n",
       "      <td>Was sitting in Plaça Real looking at restauran...</td>\n",
       "      <td>5</td>\n",
       "      <td>2020-03-12 14:32:09</td>\n",
       "    </tr>\n",
       "    <tr>\n",
       "      <th>1</th>\n",
       "      <td>Space is really limited, and the interior gets...</td>\n",
       "      <td>5</td>\n",
       "      <td>2019-11-23 08:36:55</td>\n",
       "    </tr>\n",
       "    <tr>\n",
       "      <th>2</th>\n",
       "      <td>Came around 6:30-7pm during the week and waite...</td>\n",
       "      <td>5</td>\n",
       "      <td>2019-10-02 07:59:00</td>\n",
       "    </tr>\n",
       "  </tbody>\n",
       "</table>\n",
       "</div>"
      ],
      "text/plain": [
       "                                         Full Review  Rating  \\\n",
       "0  Was sitting in Plaça Real looking at restauran...       5   \n",
       "1  Space is really limited, and the interior gets...       5   \n",
       "2  Came around 6:30-7pm during the week and waite...       5   \n",
       "\n",
       "        Date of Review  \n",
       "0  2020-03-12 14:32:09  \n",
       "1  2019-11-23 08:36:55  \n",
       "2  2019-10-02 07:59:00  "
      ]
     },
     "execution_count": 636,
     "metadata": {},
     "output_type": "execute_result"
    }
   ],
   "source": [
    "#check results\n",
    "reviews"
   ]
  },
  {
   "cell_type": "code",
   "execution_count": 637,
   "metadata": {},
   "outputs": [
    {
     "data": {
      "text/plain": [
       "0    2020-03-12 \n",
       "1    2019-11-23 \n",
       "2    2019-10-02 \n",
       "Name: Date of Review, dtype: object"
      ]
     },
     "execution_count": 637,
     "metadata": {},
     "output_type": "execute_result"
    }
   ],
   "source": [
    "#clean time column\n",
    "reviews[\"Date of Review\"]=reviews[\"Date of Review\"].str.replace(\"(\\d{2}:\\d{2}:\\d{2})\",\"\")\n",
    "reviews[\"Date of Review\"]"
   ]
  },
  {
   "cell_type": "code",
   "execution_count": 638,
   "metadata": {},
   "outputs": [
    {
     "data": {
      "text/html": [
       "<div>\n",
       "<style scoped>\n",
       "    .dataframe tbody tr th:only-of-type {\n",
       "        vertical-align: middle;\n",
       "    }\n",
       "\n",
       "    .dataframe tbody tr th {\n",
       "        vertical-align: top;\n",
       "    }\n",
       "\n",
       "    .dataframe thead th {\n",
       "        text-align: right;\n",
       "    }\n",
       "</style>\n",
       "<table border=\"1\" class=\"dataframe\">\n",
       "  <thead>\n",
       "    <tr style=\"text-align: right;\">\n",
       "      <th></th>\n",
       "      <th>Full Review</th>\n",
       "      <th>Rating</th>\n",
       "      <th>Date of Review</th>\n",
       "    </tr>\n",
       "  </thead>\n",
       "  <tbody>\n",
       "    <tr>\n",
       "      <th>0</th>\n",
       "      <td>Was sitting in Plaça Real looking at restauran...</td>\n",
       "      <td>5</td>\n",
       "      <td>2020-03-12</td>\n",
       "    </tr>\n",
       "    <tr>\n",
       "      <th>1</th>\n",
       "      <td>Space is really limited, and the interior gets...</td>\n",
       "      <td>5</td>\n",
       "      <td>2019-11-23</td>\n",
       "    </tr>\n",
       "    <tr>\n",
       "      <th>2</th>\n",
       "      <td>Came around 6:30-7pm during the week and waite...</td>\n",
       "      <td>5</td>\n",
       "      <td>2019-10-02</td>\n",
       "    </tr>\n",
       "  </tbody>\n",
       "</table>\n",
       "</div>"
      ],
      "text/plain": [
       "                                         Full Review  Rating Date of Review\n",
       "0  Was sitting in Plaça Real looking at restauran...       5    2020-03-12 \n",
       "1  Space is really limited, and the interior gets...       5    2019-11-23 \n",
       "2  Came around 6:30-7pm during the week and waite...       5    2019-10-02 "
      ]
     },
     "execution_count": 638,
     "metadata": {},
     "output_type": "execute_result"
    }
   ],
   "source": [
    "#comprobamos\n",
    "reviews"
   ]
  },
  {
   "cell_type": "code",
   "execution_count": 639,
   "metadata": {},
   "outputs": [],
   "source": [
    "#Split year,month and date \n",
    "reviews[\"Date of Review\"]=reviews[\"Date of Review\"].str.split(\"-\")\n"
   ]
  },
  {
   "cell_type": "code",
   "execution_count": 640,
   "metadata": {},
   "outputs": [
    {
     "data": {
      "text/plain": [
       "'2020'"
      ]
     },
     "execution_count": 640,
     "metadata": {},
     "output_type": "execute_result"
    }
   ],
   "source": [
    "reviews[\"Date of Review\"][0][0]"
   ]
  },
  {
   "cell_type": "code",
   "execution_count": 641,
   "metadata": {},
   "outputs": [
    {
     "data": {
      "text/plain": [
       "0    2020\n",
       "1    2019\n",
       "2    2019\n",
       "Name: Year of Review, dtype: object"
      ]
     },
     "execution_count": 641,
     "metadata": {},
     "output_type": "execute_result"
    }
   ],
   "source": [
    "reviews[\"Year of Review\"]=[i[0] for i in reviews[\"Date of Review\"]]\n",
    "reviews[\"Year of Review\"]\n"
   ]
  },
  {
   "cell_type": "code",
   "execution_count": 642,
   "metadata": {},
   "outputs": [
    {
     "data": {
      "text/plain": [
       "0    03\n",
       "1    11\n",
       "2    10\n",
       "Name: Month of Review, dtype: object"
      ]
     },
     "execution_count": 642,
     "metadata": {},
     "output_type": "execute_result"
    }
   ],
   "source": [
    "reviews[\"Month of Review\"]=[i[1] for i in reviews[\"Date of Review\"]]\n",
    "reviews[\"Month of Review\"]"
   ]
  },
  {
   "cell_type": "code",
   "execution_count": 643,
   "metadata": {},
   "outputs": [
    {
     "data": {
      "text/plain": [
       "0    12 \n",
       "1    23 \n",
       "2    02 \n",
       "Name: Day of Review, dtype: object"
      ]
     },
     "execution_count": 643,
     "metadata": {},
     "output_type": "execute_result"
    }
   ],
   "source": [
    "reviews[\"Day of Review\"]=[i[2] for i in reviews[\"Date of Review\"]]\n",
    "reviews[\"Day of Review\"]"
   ]
  },
  {
   "cell_type": "code",
   "execution_count": 644,
   "metadata": {},
   "outputs": [
    {
     "data": {
      "text/html": [
       "<div>\n",
       "<style scoped>\n",
       "    .dataframe tbody tr th:only-of-type {\n",
       "        vertical-align: middle;\n",
       "    }\n",
       "\n",
       "    .dataframe tbody tr th {\n",
       "        vertical-align: top;\n",
       "    }\n",
       "\n",
       "    .dataframe thead th {\n",
       "        text-align: right;\n",
       "    }\n",
       "</style>\n",
       "<table border=\"1\" class=\"dataframe\">\n",
       "  <thead>\n",
       "    <tr style=\"text-align: right;\">\n",
       "      <th></th>\n",
       "      <th>Full Review</th>\n",
       "      <th>Rating</th>\n",
       "      <th>Date of Review</th>\n",
       "      <th>Year of Review</th>\n",
       "      <th>Month of Review</th>\n",
       "      <th>Day of Review</th>\n",
       "    </tr>\n",
       "  </thead>\n",
       "  <tbody>\n",
       "    <tr>\n",
       "      <th>0</th>\n",
       "      <td>Was sitting in Plaça Real looking at restauran...</td>\n",
       "      <td>5</td>\n",
       "      <td>[2020, 03, 12 ]</td>\n",
       "      <td>2020</td>\n",
       "      <td>03</td>\n",
       "      <td>12</td>\n",
       "    </tr>\n",
       "    <tr>\n",
       "      <th>1</th>\n",
       "      <td>Space is really limited, and the interior gets...</td>\n",
       "      <td>5</td>\n",
       "      <td>[2019, 11, 23 ]</td>\n",
       "      <td>2019</td>\n",
       "      <td>11</td>\n",
       "      <td>23</td>\n",
       "    </tr>\n",
       "    <tr>\n",
       "      <th>2</th>\n",
       "      <td>Came around 6:30-7pm during the week and waite...</td>\n",
       "      <td>5</td>\n",
       "      <td>[2019, 10, 02 ]</td>\n",
       "      <td>2019</td>\n",
       "      <td>10</td>\n",
       "      <td>02</td>\n",
       "    </tr>\n",
       "  </tbody>\n",
       "</table>\n",
       "</div>"
      ],
      "text/plain": [
       "                                         Full Review  Rating   Date of Review  \\\n",
       "0  Was sitting in Plaça Real looking at restauran...       5  [2020, 03, 12 ]   \n",
       "1  Space is really limited, and the interior gets...       5  [2019, 11, 23 ]   \n",
       "2  Came around 6:30-7pm during the week and waite...       5  [2019, 10, 02 ]   \n",
       "\n",
       "  Year of Review Month of Review Day of Review  \n",
       "0           2020              03           12   \n",
       "1           2019              11           23   \n",
       "2           2019              10           02   "
      ]
     },
     "execution_count": 644,
     "metadata": {},
     "output_type": "execute_result"
    }
   ],
   "source": [
    "#comprobamos\n",
    "reviews"
   ]
  },
  {
   "cell_type": "markdown",
   "metadata": {},
   "source": [
    "##### Adding columns with usefull data"
   ]
  },
  {
   "cell_type": "code",
   "execution_count": 645,
   "metadata": {},
   "outputs": [],
   "source": [
    "#añadimos columna con el total de palabras que tiene cada review.\n",
    "#hypothesis: review más largas nos dan más info\n",
    "reviews[\"Total Words Review\"]=reviews[\"Full Review\"].apply(lambda x: len(x.split()))"
   ]
  },
  {
   "cell_type": "code",
   "execution_count": 646,
   "metadata": {},
   "outputs": [
    {
     "data": {
      "text/html": [
       "<div>\n",
       "<style scoped>\n",
       "    .dataframe tbody tr th:only-of-type {\n",
       "        vertical-align: middle;\n",
       "    }\n",
       "\n",
       "    .dataframe tbody tr th {\n",
       "        vertical-align: top;\n",
       "    }\n",
       "\n",
       "    .dataframe thead th {\n",
       "        text-align: right;\n",
       "    }\n",
       "</style>\n",
       "<table border=\"1\" class=\"dataframe\">\n",
       "  <thead>\n",
       "    <tr style=\"text-align: right;\">\n",
       "      <th></th>\n",
       "      <th>Full Review</th>\n",
       "      <th>Rating</th>\n",
       "      <th>Date of Review</th>\n",
       "      <th>Year of Review</th>\n",
       "      <th>Month of Review</th>\n",
       "      <th>Day of Review</th>\n",
       "      <th>Total Words Review</th>\n",
       "    </tr>\n",
       "  </thead>\n",
       "  <tbody>\n",
       "    <tr>\n",
       "      <th>0</th>\n",
       "      <td>Was sitting in Plaça Real looking at restauran...</td>\n",
       "      <td>5</td>\n",
       "      <td>[2020, 03, 12 ]</td>\n",
       "      <td>2020</td>\n",
       "      <td>03</td>\n",
       "      <td>12</td>\n",
       "      <td>25</td>\n",
       "    </tr>\n",
       "    <tr>\n",
       "      <th>1</th>\n",
       "      <td>Space is really limited, and the interior gets...</td>\n",
       "      <td>5</td>\n",
       "      <td>[2019, 11, 23 ]</td>\n",
       "      <td>2019</td>\n",
       "      <td>11</td>\n",
       "      <td>23</td>\n",
       "      <td>28</td>\n",
       "    </tr>\n",
       "    <tr>\n",
       "      <th>2</th>\n",
       "      <td>Came around 6:30-7pm during the week and waite...</td>\n",
       "      <td>5</td>\n",
       "      <td>[2019, 10, 02 ]</td>\n",
       "      <td>2019</td>\n",
       "      <td>10</td>\n",
       "      <td>02</td>\n",
       "      <td>29</td>\n",
       "    </tr>\n",
       "  </tbody>\n",
       "</table>\n",
       "</div>"
      ],
      "text/plain": [
       "                                         Full Review  Rating   Date of Review  \\\n",
       "0  Was sitting in Plaça Real looking at restauran...       5  [2020, 03, 12 ]   \n",
       "1  Space is really limited, and the interior gets...       5  [2019, 11, 23 ]   \n",
       "2  Came around 6:30-7pm during the week and waite...       5  [2019, 10, 02 ]   \n",
       "\n",
       "  Year of Review Month of Review Day of Review  Total Words Review  \n",
       "0           2020              03           12                   25  \n",
       "1           2019              11           23                   28  \n",
       "2           2019              10           02                   29  "
      ]
     },
     "execution_count": 646,
     "metadata": {},
     "output_type": "execute_result"
    }
   ],
   "source": [
    "#comprobamos\n",
    "reviews"
   ]
  },
  {
   "cell_type": "code",
   "execution_count": 647,
   "metadata": {},
   "outputs": [],
   "source": [
    "#Adding stopwords of each review\n",
    "import nltk\n",
    "from nltk.corpus import stopwords \n",
    "stop_words=stopwords.words(\"english\")"
   ]
  },
  {
   "cell_type": "code",
   "execution_count": 648,
   "metadata": {},
   "outputs": [],
   "source": [
    "reviews[\"Total StopWords\"]=reviews[\"Full Review\"].apply(lambda x: len([word for word in x.split() if word.lower() in stop_words]))\n"
   ]
  },
  {
   "cell_type": "code",
   "execution_count": 649,
   "metadata": {},
   "outputs": [
    {
     "data": {
      "text/html": [
       "<div>\n",
       "<style scoped>\n",
       "    .dataframe tbody tr th:only-of-type {\n",
       "        vertical-align: middle;\n",
       "    }\n",
       "\n",
       "    .dataframe tbody tr th {\n",
       "        vertical-align: top;\n",
       "    }\n",
       "\n",
       "    .dataframe thead th {\n",
       "        text-align: right;\n",
       "    }\n",
       "</style>\n",
       "<table border=\"1\" class=\"dataframe\">\n",
       "  <thead>\n",
       "    <tr style=\"text-align: right;\">\n",
       "      <th></th>\n",
       "      <th>Full Review</th>\n",
       "      <th>Rating</th>\n",
       "      <th>Date of Review</th>\n",
       "      <th>Year of Review</th>\n",
       "      <th>Month of Review</th>\n",
       "      <th>Day of Review</th>\n",
       "      <th>Total Words Review</th>\n",
       "      <th>Total StopWords</th>\n",
       "    </tr>\n",
       "  </thead>\n",
       "  <tbody>\n",
       "    <tr>\n",
       "      <th>0</th>\n",
       "      <td>Was sitting in Plaça Real looking at restauran...</td>\n",
       "      <td>5</td>\n",
       "      <td>[2020, 03, 12 ]</td>\n",
       "      <td>2020</td>\n",
       "      <td>03</td>\n",
       "      <td>12</td>\n",
       "      <td>25</td>\n",
       "      <td>7</td>\n",
       "    </tr>\n",
       "    <tr>\n",
       "      <th>1</th>\n",
       "      <td>Space is really limited, and the interior gets...</td>\n",
       "      <td>5</td>\n",
       "      <td>[2019, 11, 23 ]</td>\n",
       "      <td>2019</td>\n",
       "      <td>11</td>\n",
       "      <td>23</td>\n",
       "      <td>28</td>\n",
       "      <td>11</td>\n",
       "    </tr>\n",
       "    <tr>\n",
       "      <th>2</th>\n",
       "      <td>Came around 6:30-7pm during the week and waite...</td>\n",
       "      <td>5</td>\n",
       "      <td>[2019, 10, 02 ]</td>\n",
       "      <td>2019</td>\n",
       "      <td>10</td>\n",
       "      <td>02</td>\n",
       "      <td>29</td>\n",
       "      <td>14</td>\n",
       "    </tr>\n",
       "  </tbody>\n",
       "</table>\n",
       "</div>"
      ],
      "text/plain": [
       "                                         Full Review  Rating   Date of Review  \\\n",
       "0  Was sitting in Plaça Real looking at restauran...       5  [2020, 03, 12 ]   \n",
       "1  Space is really limited, and the interior gets...       5  [2019, 11, 23 ]   \n",
       "2  Came around 6:30-7pm during the week and waite...       5  [2019, 10, 02 ]   \n",
       "\n",
       "  Year of Review Month of Review Day of Review  Total Words Review  \\\n",
       "0           2020              03           12                   25   \n",
       "1           2019              11           23                   28   \n",
       "2           2019              10           02                   29   \n",
       "\n",
       "   Total StopWords  \n",
       "0                7  \n",
       "1               11  \n",
       "2               14  "
      ]
     },
     "execution_count": 649,
     "metadata": {},
     "output_type": "execute_result"
    }
   ],
   "source": [
    "#comprobamos\n",
    "reviews"
   ]
  },
  {
   "cell_type": "code",
   "execution_count": 650,
   "metadata": {},
   "outputs": [],
   "source": [
    "#adding clean \"Full Review\" column to analyse it later\n",
    "\n",
    "#first we turn all words to lower case words\n",
    "reviews[\"Clean Full Review\"]=reviews[\"Full Review\"].apply(lambda x: \" \".join(word.lower() for word in x.split()))\n"
   ]
  },
  {
   "cell_type": "code",
   "execution_count": 651,
   "metadata": {},
   "outputs": [],
   "source": [
    "#second we remove punctuation\n",
    "reviews[\"Clean Full Review\"]=reviews[\"Clean Full Review\"].str.replace(\"[^\\w\\s]\",\"\")\n"
   ]
  },
  {
   "cell_type": "code",
   "execution_count": 652,
   "metadata": {},
   "outputs": [],
   "source": [
    "#third we take out StopeWords\n",
    "reviews[\"Clean Full Review\"]=reviews[\"Clean Full Review\"].apply(lambda x: \" \".join(word for word in x.split() if word not in stop_words))\n"
   ]
  },
  {
   "cell_type": "code",
   "execution_count": 653,
   "metadata": {},
   "outputs": [
    {
     "data": {
      "text/html": [
       "<div>\n",
       "<style scoped>\n",
       "    .dataframe tbody tr th:only-of-type {\n",
       "        vertical-align: middle;\n",
       "    }\n",
       "\n",
       "    .dataframe tbody tr th {\n",
       "        vertical-align: top;\n",
       "    }\n",
       "\n",
       "    .dataframe thead th {\n",
       "        text-align: right;\n",
       "    }\n",
       "</style>\n",
       "<table border=\"1\" class=\"dataframe\">\n",
       "  <thead>\n",
       "    <tr style=\"text-align: right;\">\n",
       "      <th></th>\n",
       "      <th>Full Review</th>\n",
       "      <th>Rating</th>\n",
       "      <th>Date of Review</th>\n",
       "      <th>Year of Review</th>\n",
       "      <th>Month of Review</th>\n",
       "      <th>Day of Review</th>\n",
       "      <th>Total Words Review</th>\n",
       "      <th>Total StopWords</th>\n",
       "      <th>Clean Full Review</th>\n",
       "    </tr>\n",
       "  </thead>\n",
       "  <tbody>\n",
       "    <tr>\n",
       "      <th>0</th>\n",
       "      <td>Was sitting in Plaça Real looking at restauran...</td>\n",
       "      <td>5</td>\n",
       "      <td>[2020, 03, 12 ]</td>\n",
       "      <td>2020</td>\n",
       "      <td>03</td>\n",
       "      <td>12</td>\n",
       "      <td>25</td>\n",
       "      <td>7</td>\n",
       "      <td>sitting plaça real looking restaurant reviews ...</td>\n",
       "    </tr>\n",
       "    <tr>\n",
       "      <th>1</th>\n",
       "      <td>Space is really limited, and the interior gets...</td>\n",
       "      <td>5</td>\n",
       "      <td>[2019, 11, 23 ]</td>\n",
       "      <td>2019</td>\n",
       "      <td>11</td>\n",
       "      <td>23</td>\n",
       "      <td>28</td>\n",
       "      <td>11</td>\n",
       "      <td>space really limited interior gets pretty pack...</td>\n",
       "    </tr>\n",
       "    <tr>\n",
       "      <th>2</th>\n",
       "      <td>Came around 6:30-7pm during the week and waite...</td>\n",
       "      <td>5</td>\n",
       "      <td>[2019, 10, 02 ]</td>\n",
       "      <td>2019</td>\n",
       "      <td>10</td>\n",
       "      <td>02</td>\n",
       "      <td>29</td>\n",
       "      <td>14</td>\n",
       "      <td>came around 6307pm week waited 30 minutes tabl...</td>\n",
       "    </tr>\n",
       "  </tbody>\n",
       "</table>\n",
       "</div>"
      ],
      "text/plain": [
       "                                         Full Review  Rating   Date of Review  \\\n",
       "0  Was sitting in Plaça Real looking at restauran...       5  [2020, 03, 12 ]   \n",
       "1  Space is really limited, and the interior gets...       5  [2019, 11, 23 ]   \n",
       "2  Came around 6:30-7pm during the week and waite...       5  [2019, 10, 02 ]   \n",
       "\n",
       "  Year of Review Month of Review Day of Review  Total Words Review  \\\n",
       "0           2020              03           12                   25   \n",
       "1           2019              11           23                   28   \n",
       "2           2019              10           02                   29   \n",
       "\n",
       "   Total StopWords                                  Clean Full Review  \n",
       "0                7  sitting plaça real looking restaurant reviews ...  \n",
       "1               11  space really limited interior gets pretty pack...  \n",
       "2               14  came around 6307pm week waited 30 minutes tabl...  "
      ]
     },
     "execution_count": 653,
     "metadata": {},
     "output_type": "execute_result"
    }
   ],
   "source": [
    "#comprobamos\n",
    "reviews"
   ]
  },
  {
   "cell_type": "markdown",
   "metadata": {},
   "source": [
    "##### Reorganize data to have a nice table"
   ]
  },
  {
   "cell_type": "code",
   "execution_count": 654,
   "metadata": {},
   "outputs": [],
   "source": [
    "#Set \"Year of Review\" as Index follow by \"Month of review\" , \"Day of review\" and rating \n",
    "reviews=reviews.sort_values([\"Year of Review\",\"Month of Review\",\"Day of Review\",\"Rating\"], ascending=[True,True,True,True])\n"
   ]
  },
  {
   "cell_type": "code",
   "execution_count": 655,
   "metadata": {},
   "outputs": [
    {
     "data": {
      "text/plain": [
       "Index(['Full Review', 'Rating', 'Date of Review', 'Year of Review',\n",
       "       'Month of Review', 'Day of Review', 'Total Words Review',\n",
       "       'Total StopWords', 'Clean Full Review'],\n",
       "      dtype='object')"
      ]
     },
     "execution_count": 655,
     "metadata": {},
     "output_type": "execute_result"
    }
   ],
   "source": [
    "reviews.columns"
   ]
  },
  {
   "cell_type": "code",
   "execution_count": 659,
   "metadata": {},
   "outputs": [
    {
     "data": {
      "text/html": [
       "<div>\n",
       "<style scoped>\n",
       "    .dataframe tbody tr th:only-of-type {\n",
       "        vertical-align: middle;\n",
       "    }\n",
       "\n",
       "    .dataframe tbody tr th {\n",
       "        vertical-align: top;\n",
       "    }\n",
       "\n",
       "    .dataframe thead th {\n",
       "        text-align: right;\n",
       "    }\n",
       "</style>\n",
       "<table border=\"1\" class=\"dataframe\">\n",
       "  <thead>\n",
       "    <tr style=\"text-align: right;\">\n",
       "      <th></th>\n",
       "      <th>Year of Review</th>\n",
       "      <th>Month of Review</th>\n",
       "      <th>Day of Review</th>\n",
       "      <th>Rating</th>\n",
       "      <th>Full Review</th>\n",
       "      <th>Clean Full Review</th>\n",
       "      <th>Total Words Review</th>\n",
       "      <th>Total StopWords</th>\n",
       "    </tr>\n",
       "  </thead>\n",
       "  <tbody>\n",
       "    <tr>\n",
       "      <th>2</th>\n",
       "      <td>2019</td>\n",
       "      <td>10</td>\n",
       "      <td>02</td>\n",
       "      <td>5</td>\n",
       "      <td>Came around 6:30-7pm during the week and waite...</td>\n",
       "      <td>came around 6307pm week waited 30 minutes tabl...</td>\n",
       "      <td>29</td>\n",
       "      <td>14</td>\n",
       "    </tr>\n",
       "    <tr>\n",
       "      <th>1</th>\n",
       "      <td>2019</td>\n",
       "      <td>11</td>\n",
       "      <td>23</td>\n",
       "      <td>5</td>\n",
       "      <td>Space is really limited, and the interior gets...</td>\n",
       "      <td>space really limited interior gets pretty pack...</td>\n",
       "      <td>28</td>\n",
       "      <td>11</td>\n",
       "    </tr>\n",
       "    <tr>\n",
       "      <th>0</th>\n",
       "      <td>2020</td>\n",
       "      <td>03</td>\n",
       "      <td>12</td>\n",
       "      <td>5</td>\n",
       "      <td>Was sitting in Plaça Real looking at restauran...</td>\n",
       "      <td>sitting plaça real looking restaurant reviews ...</td>\n",
       "      <td>25</td>\n",
       "      <td>7</td>\n",
       "    </tr>\n",
       "  </tbody>\n",
       "</table>\n",
       "</div>"
      ],
      "text/plain": [
       "  Year of Review Month of Review Day of Review  Rating  \\\n",
       "2           2019              10           02        5   \n",
       "1           2019              11           23        5   \n",
       "0           2020              03           12        5   \n",
       "\n",
       "                                         Full Review  \\\n",
       "2  Came around 6:30-7pm during the week and waite...   \n",
       "1  Space is really limited, and the interior gets...   \n",
       "0  Was sitting in Plaça Real looking at restauran...   \n",
       "\n",
       "                                   Clean Full Review  Total Words Review  \\\n",
       "2  came around 6307pm week waited 30 minutes tabl...                  29   \n",
       "1  space really limited interior gets pretty pack...                  28   \n",
       "0  sitting plaça real looking restaurant reviews ...                  25   \n",
       "\n",
       "   Total StopWords  \n",
       "2               14  \n",
       "1               11  \n",
       "0                7  "
      ]
     },
     "execution_count": 659,
     "metadata": {},
     "output_type": "execute_result"
    }
   ],
   "source": [
    "#Chose columns to be in thee final table and inthe right order\n",
    "reviews=reviews[['Year of Review','Month of Review', 'Day of Review','Rating','Full Review','Clean Full Review', 'Total Words Review','Total StopWords']]\n",
    "reviews"
   ]
  },
  {
   "cell_type": "markdown",
   "metadata": {},
   "source": [
    "##### Sentiment Analysis\n",
    "Althoug we see that 3 reviews are too little to analyse, we'll do it to follow tripadvysors same analysis."
   ]
  },
  {
   "cell_type": "code",
   "execution_count": 660,
   "metadata": {},
   "outputs": [
    {
     "data": {
      "text/plain": [
       "2                                  (0.8, 0.75)\n",
       "1    (0.16964285714285715, 0.5204365079365079)\n",
       "0     (0.2833333333333333, 0.8166666666666665)\n",
       "Name: Clean Full Review, dtype: object"
      ]
     },
     "execution_count": 660,
     "metadata": {},
     "output_type": "execute_result"
    }
   ],
   "source": [
    "reviews[\"Clean Full Review\"].apply(lambda x: TextBlob(x).sentiment)\n"
   ]
  },
  {
   "cell_type": "code",
   "execution_count": 661,
   "metadata": {},
   "outputs": [],
   "source": [
    "#Creamos la columna para la Polarity Rate \n",
    "reviews[\"Polarity Rate\"]=reviews[\"Clean Full Review\"].apply(lambda x: TextBlob(x).sentiment[0])\n"
   ]
  },
  {
   "cell_type": "code",
   "execution_count": 662,
   "metadata": {},
   "outputs": [],
   "source": [
    "#Creamos la columna para la Subjectivity Rate \n",
    "reviews[\"Subjectivity Rate\"]=reviews[\"Clean Full Review\"].apply(lambda x: TextBlob(x).sentiment[1])\n"
   ]
  },
  {
   "cell_type": "code",
   "execution_count": 663,
   "metadata": {},
   "outputs": [
    {
     "data": {
      "text/html": [
       "<div>\n",
       "<style scoped>\n",
       "    .dataframe tbody tr th:only-of-type {\n",
       "        vertical-align: middle;\n",
       "    }\n",
       "\n",
       "    .dataframe tbody tr th {\n",
       "        vertical-align: top;\n",
       "    }\n",
       "\n",
       "    .dataframe thead th {\n",
       "        text-align: right;\n",
       "    }\n",
       "</style>\n",
       "<table border=\"1\" class=\"dataframe\">\n",
       "  <thead>\n",
       "    <tr style=\"text-align: right;\">\n",
       "      <th></th>\n",
       "      <th>Year of Review</th>\n",
       "      <th>Month of Review</th>\n",
       "      <th>Day of Review</th>\n",
       "      <th>Rating</th>\n",
       "      <th>Full Review</th>\n",
       "      <th>Clean Full Review</th>\n",
       "      <th>Total Words Review</th>\n",
       "      <th>Total StopWords</th>\n",
       "      <th>Polarity Rate</th>\n",
       "      <th>Subjectivity Rate</th>\n",
       "    </tr>\n",
       "  </thead>\n",
       "  <tbody>\n",
       "    <tr>\n",
       "      <th>2</th>\n",
       "      <td>2019</td>\n",
       "      <td>10</td>\n",
       "      <td>02</td>\n",
       "      <td>5</td>\n",
       "      <td>Came around 6:30-7pm during the week and waite...</td>\n",
       "      <td>came around 6307pm week waited 30 minutes tabl...</td>\n",
       "      <td>29</td>\n",
       "      <td>14</td>\n",
       "      <td>0.800000</td>\n",
       "      <td>0.750000</td>\n",
       "    </tr>\n",
       "    <tr>\n",
       "      <th>1</th>\n",
       "      <td>2019</td>\n",
       "      <td>11</td>\n",
       "      <td>23</td>\n",
       "      <td>5</td>\n",
       "      <td>Space is really limited, and the interior gets...</td>\n",
       "      <td>space really limited interior gets pretty pack...</td>\n",
       "      <td>28</td>\n",
       "      <td>11</td>\n",
       "      <td>0.169643</td>\n",
       "      <td>0.520437</td>\n",
       "    </tr>\n",
       "    <tr>\n",
       "      <th>0</th>\n",
       "      <td>2020</td>\n",
       "      <td>03</td>\n",
       "      <td>12</td>\n",
       "      <td>5</td>\n",
       "      <td>Was sitting in Plaça Real looking at restauran...</td>\n",
       "      <td>sitting plaça real looking restaurant reviews ...</td>\n",
       "      <td>25</td>\n",
       "      <td>7</td>\n",
       "      <td>0.283333</td>\n",
       "      <td>0.816667</td>\n",
       "    </tr>\n",
       "  </tbody>\n",
       "</table>\n",
       "</div>"
      ],
      "text/plain": [
       "  Year of Review Month of Review Day of Review  Rating  \\\n",
       "2           2019              10           02        5   \n",
       "1           2019              11           23        5   \n",
       "0           2020              03           12        5   \n",
       "\n",
       "                                         Full Review  \\\n",
       "2  Came around 6:30-7pm during the week and waite...   \n",
       "1  Space is really limited, and the interior gets...   \n",
       "0  Was sitting in Plaça Real looking at restauran...   \n",
       "\n",
       "                                   Clean Full Review  Total Words Review  \\\n",
       "2  came around 6307pm week waited 30 minutes tabl...                  29   \n",
       "1  space really limited interior gets pretty pack...                  28   \n",
       "0  sitting plaça real looking restaurant reviews ...                  25   \n",
       "\n",
       "   Total StopWords  Polarity Rate  Subjectivity Rate  \n",
       "2               14       0.800000           0.750000  \n",
       "1               11       0.169643           0.520437  \n",
       "0                7       0.283333           0.816667  "
      ]
     },
     "execution_count": 663,
     "metadata": {},
     "output_type": "execute_result"
    }
   ],
   "source": [
    "#comprobamos\n",
    "reviews"
   ]
  },
  {
   "cell_type": "code",
   "execution_count": 666,
   "metadata": {},
   "outputs": [],
   "source": [
    "#Save clean data to csv\n",
    "reviews.to_csv('yelp_reviews_restaurant_BodegaBiarritz_Clean.csv')"
   ]
  },
  {
   "cell_type": "markdown",
   "metadata": {},
   "source": [
    "#### 3. Get Conclusions\n",
    "\n",
    "- No conclusions can be taken regarding data as it is too little to trust.\n",
    "- Scrpaing websites it gives more freedom and extendet data than using an API (compared to  Tripadvisor review project)"
   ]
  },
  {
   "cell_type": "code",
   "execution_count": null,
   "metadata": {},
   "outputs": [],
   "source": []
  }
 ],
 "metadata": {
  "kernelspec": {
   "display_name": "Python 3",
   "language": "python",
   "name": "python3"
  },
  "language_info": {
   "codemirror_mode": {
    "name": "ipython",
    "version": 3
   },
   "file_extension": ".py",
   "mimetype": "text/x-python",
   "name": "python",
   "nbconvert_exporter": "python",
   "pygments_lexer": "ipython3",
   "version": "3.7.7"
  }
 },
 "nbformat": 4,
 "nbformat_minor": 4
}
