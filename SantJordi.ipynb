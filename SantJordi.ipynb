{
 "cells": [
  {
   "cell_type": "code",
   "execution_count": null,
   "metadata": {},
   "outputs": [],
   "source": [
    "import requests\n",
    "from bs4 import BeautifulSoup\n",
    "import pandas as pd"
   ]
  },
  {
   "cell_type": "code",
   "execution_count": null,
   "metadata": {},
   "outputs": [],
   "source": [
    "url = 'https://www.casadellibro.com/llibres-en-catala'"
   ]
  },
  {
   "cell_type": "code",
   "execution_count": null,
   "metadata": {},
   "outputs": [],
   "source": [
    "resp = requests.get(url)\n",
    "resp.status_code"
   ]
  },
  {
   "cell_type": "code",
   "execution_count": null,
   "metadata": {},
   "outputs": [],
   "source": [
    "html = resp.text\n",
    "soup = BeautifulSoup(html,\"html.parser\")"
   ]
  },
  {
   "cell_type": "code",
   "execution_count": null,
   "metadata": {},
   "outputs": [],
   "source": [
    "listas = soup.findAll('div', attrs = {\"class\":\"row product-slider row--dense\"})"
   ]
  },
  {
   "cell_type": "markdown",
   "metadata": {},
   "source": [
    "# Novetats en Català"
   ]
  },
  {
   "cell_type": "code",
   "execution_count": null,
   "metadata": {},
   "outputs": [],
   "source": [
    "categories = [titulo.find('h2').text for titulo in listas]"
   ]
  },
  {
   "cell_type": "markdown",
   "metadata": {},
   "source": [
    "## Els llibres de ficcio més llegits"
   ]
  },
  {
   "cell_type": "code",
   "execution_count": null,
   "metadata": {},
   "outputs": [],
   "source": [
    "libros_fic = listas[0].findAll(\"div\", attrs = {\"class\":\"col-sm-4 col-md-2 col-6\"}) #aqui em dona la info dels 12 llibres "
   ]
  },
  {
   "cell_type": "code",
   "execution_count": null,
   "metadata": {},
   "outputs": [],
   "source": [
    "Titulo_autor_fic = dict([((i.find(\"a\").get(\"title\").split(\" - \"))[0].title(),(i.find(\"a\").get(\"title\").split(\" - \"))[2].title()) for i in libros_fic])"
   ]
  },
  {
   "cell_type": "markdown",
   "metadata": {},
   "source": [
    "## Els llibres d'humanitats més llegits"
   ]
  },
  {
   "cell_type": "code",
   "execution_count": null,
   "metadata": {},
   "outputs": [],
   "source": [
    "libros_hum = listas[1].findAll(\"div\", attrs = {\"class\":\"col-sm-4 col-md-2 col-6\"}) #aqui em dona la info dels 12 llibres "
   ]
  },
  {
   "cell_type": "code",
   "execution_count": null,
   "metadata": {},
   "outputs": [],
   "source": [
    "Titulo_autor_hum = dict([((i.find(\"a\").get(\"title\").split(\"-\"))[0].title(),(i.find(\"a\").get(\"title\").split(\"-\"))[2].title()) for i in libros_hum])"
   ]
  },
  {
   "cell_type": "markdown",
   "metadata": {},
   "source": [
    "## Els llibres infantils més llegits"
   ]
  },
  {
   "cell_type": "code",
   "execution_count": null,
   "metadata": {},
   "outputs": [],
   "source": [
    "libros_inf = listas[2].findAll(\"div\", attrs = {\"class\":\"col-sm-4 col-md-2 col-6\"}) #aqui em dona la info dels 12 llibres "
   ]
  },
  {
   "cell_type": "code",
   "execution_count": null,
   "metadata": {},
   "outputs": [],
   "source": [
    "Titulo_autor_inf = dict([((i.find(\"a\").get(\"title\").split(\" - \"))[0].title(),(i.find(\"a\").get(\"title\").split(\" - \"))[2].title()) for i in libros_inf])"
   ]
  },
  {
   "cell_type": "markdown",
   "metadata": {},
   "source": [
    "## Els llibres tècnics i de filologia més llegits"
   ]
  },
  {
   "cell_type": "code",
   "execution_count": null,
   "metadata": {},
   "outputs": [],
   "source": [
    "libros_tec = listas[3].findAll(\"div\", attrs = {\"class\":\"col-sm-4 col-md-2 col-6\"})"
   ]
  },
  {
   "cell_type": "code",
   "execution_count": null,
   "metadata": {},
   "outputs": [],
   "source": [
    "Titulo_autor_tec = dict([((i.find(\"a\").get(\"title\").split(\" - \"))[0].title(),(i.find(\"a\").get(\"title\").split(\" - \"))[2].title()) for i in libros_tec])"
   ]
  },
  {
   "cell_type": "markdown",
   "metadata": {},
   "source": [
    "## Els últims premis en català amb 5% de dte."
   ]
  },
  {
   "cell_type": "code",
   "execution_count": null,
   "metadata": {},
   "outputs": [],
   "source": [
    "libros_premis = listas[4].findAll(\"div\", attrs = {\"class\":\"col-sm-4 col-md-2 col-6\"}) "
   ]
  },
  {
   "cell_type": "code",
   "execution_count": null,
   "metadata": {},
   "outputs": [],
   "source": [
    "Titulo_autor_prem = dict([((i.find(\"a\").get(\"title\").split(\" - \"))[0].title(),(i.find(\"a\").get(\"title\").split(\" - \"))[2].title()) for i in libros_premis])"
   ]
  },
  {
   "cell_type": "markdown",
   "metadata": {},
   "source": [
    "## Els llibres d'oci més llegits"
   ]
  },
  {
   "cell_type": "code",
   "execution_count": null,
   "metadata": {},
   "outputs": [],
   "source": [
    "libros_oci = listas[5].findAll(\"div\", attrs = {\"class\":\"col-sm-4 col-md-2 col-6\"}) "
   ]
  },
  {
   "cell_type": "code",
   "execution_count": null,
   "metadata": {},
   "outputs": [],
   "source": [
    "Titulo_autor_oci = dict([((i.find(\"a\").get(\"title\").split(\" - \"))[0].title(),(i.find(\"a\").get(\"title\").split(\" - \"))[2].title()) for i in libros_oci])"
   ]
  },
  {
   "cell_type": "markdown",
   "metadata": {},
   "source": [
    "## Els eBooks més llegits"
   ]
  },
  {
   "cell_type": "code",
   "execution_count": null,
   "metadata": {},
   "outputs": [],
   "source": [
    "libros_ebook = listas[6].findAll(\"div\", attrs = {\"class\":\"col-sm-4 col-md-2 col-6\"}) "
   ]
  },
  {
   "cell_type": "code",
   "execution_count": null,
   "metadata": {},
   "outputs": [],
   "source": [
    "Titulo_autor_ebook = dict([((i.find(\"a\").get(\"title\").split(\" - \"))[0].title(),(i.find(\"a\").get(\"title\").split(\" - \"))[2].title()) for i in libros_ebook])"
   ]
  },
  {
   "cell_type": "markdown",
   "metadata": {},
   "source": [
    "## Dataframes"
   ]
  },
  {
   "cell_type": "markdown",
   "metadata": {},
   "source": [
    "### Els llibres de ficcio més llegits (Dataframe)"
   ]
  },
  {
   "cell_type": "code",
   "execution_count": null,
   "metadata": {},
   "outputs": [],
   "source": [
    "dic_fic = {\"Categoria\": categories[0],\"Autor\": [i for i in Titulo_autor_fic.values()],\"Libro\": [i for i in Titulo_autor_fic.keys()]}"
   ]
  },
  {
   "cell_type": "code",
   "execution_count": null,
   "metadata": {},
   "outputs": [],
   "source": [
    "fic_df = pd.DataFrame(dic_fic)\n"
   ]
  },
  {
   "cell_type": "markdown",
   "metadata": {},
   "source": [
    "### Els llibres d'humanitats més llegits (Dataframe)"
   ]
  },
  {
   "cell_type": "code",
   "execution_count": null,
   "metadata": {},
   "outputs": [],
   "source": [
    "dic_hum = {\"Categoria\": categories[1],\"Autor\": [i for i in Titulo_autor_hum.values()],\"Libro\": [i for i in Titulo_autor_hum.keys()]}"
   ]
  },
  {
   "cell_type": "code",
   "execution_count": null,
   "metadata": {},
   "outputs": [],
   "source": [
    "hum_df = pd.DataFrame(dic_hum)\n"
   ]
  },
  {
   "cell_type": "markdown",
   "metadata": {},
   "source": [
    "### Els llibres infantils més llegits (Dataframe)"
   ]
  },
  {
   "cell_type": "code",
   "execution_count": null,
   "metadata": {},
   "outputs": [],
   "source": [
    "dic_inf = {\"Categoria\": categories[2],\"Autor\": [i for i in Titulo_autor_inf.values()],\"Libro\": [i for i in Titulo_autor_inf.keys()]}"
   ]
  },
  {
   "cell_type": "code",
   "execution_count": null,
   "metadata": {},
   "outputs": [],
   "source": [
    "inf_df = pd.DataFrame(dic_inf)\n"
   ]
  },
  {
   "cell_type": "markdown",
   "metadata": {},
   "source": [
    "### Els llibres tècnics i de filologia més llegits (Dataframe)"
   ]
  },
  {
   "cell_type": "code",
   "execution_count": null,
   "metadata": {},
   "outputs": [],
   "source": [
    "dic_tec = {\"Categoria\": categories[3],\"Autor\": [i for i in Titulo_autor_tec.values()],\"Libro\": [i for i in Titulo_autor_tec.keys()]}"
   ]
  },
  {
   "cell_type": "code",
   "execution_count": null,
   "metadata": {},
   "outputs": [],
   "source": [
    "tec_df = pd.DataFrame(dic_tec)"
   ]
  },
  {
   "cell_type": "markdown",
   "metadata": {},
   "source": [
    "### Els últims premis en català amb 5% de dte.(Dataframe)"
   ]
  },
  {
   "cell_type": "code",
   "execution_count": null,
   "metadata": {},
   "outputs": [],
   "source": [
    "dic_premi = {\"Categoria\": categories[4],\"Autor\": [i for i in Titulo_autor_prem.values()],\"Libro\": [i for i in Titulo_autor_prem.keys()]}"
   ]
  },
  {
   "cell_type": "code",
   "execution_count": null,
   "metadata": {},
   "outputs": [],
   "source": [
    "premi_df = pd.DataFrame(dic_premi)"
   ]
  },
  {
   "cell_type": "markdown",
   "metadata": {},
   "source": [
    "### Els llibres d'oci més llegits (Dataframe)"
   ]
  },
  {
   "cell_type": "code",
   "execution_count": null,
   "metadata": {},
   "outputs": [],
   "source": [
    "dic_oci = {\"Categoria\": categories[5],\"Autor\": [i for i in Titulo_autor_oci.values()],\"Libro\": [i for i in Titulo_autor_oci.keys()]}"
   ]
  },
  {
   "cell_type": "code",
   "execution_count": null,
   "metadata": {},
   "outputs": [],
   "source": [
    "oci_df = pd.DataFrame(dic_oci)"
   ]
  },
  {
   "cell_type": "markdown",
   "metadata": {},
   "source": [
    "### Els eBooks més llegits (Dataframe)"
   ]
  },
  {
   "cell_type": "code",
   "execution_count": null,
   "metadata": {},
   "outputs": [],
   "source": [
    "dic_ebooks = {\"Categoria\": categories[6],\"Autor\": [i for i in Titulo_autor_ebook.values()],\"Libro\": [i for i in Titulo_autor_ebook.keys()]}"
   ]
  },
  {
   "cell_type": "code",
   "execution_count": null,
   "metadata": {},
   "outputs": [],
   "source": [
    "Ebooks_df = pd.DataFrame(dic_ebooks)"
   ]
  },
  {
   "cell_type": "markdown",
   "metadata": {},
   "source": [
    "### Dataframe general"
   ]
  },
  {
   "cell_type": "code",
   "execution_count": null,
   "metadata": {},
   "outputs": [],
   "source": [
    "Df_gen = pd.concat([fic_df,hum_df,inf_df,tec_df,oci_df, Ebooks_df], axis=0)"
   ]
  },
  {
   "cell_type": "code",
   "execution_count": null,
   "metadata": {},
   "outputs": [],
   "source": [
    "df = Df_gen.set_index('Categoria')"
   ]
  },
  {
   "cell_type": "code",
   "execution_count": null,
   "metadata": {},
   "outputs": [],
   "source": [
    "df.to_csv(\"Sant_Jordi.csv\")"
   ]
  },
  {
   "cell_type": "code",
   "execution_count": null,
   "metadata": {},
   "outputs": [],
   "source": [
    "pd.read_csv(r\"./Sant_Jordi.csv\")"
   ]
  }
 ],
 "metadata": {
  "kernelspec": {
   "display_name": "Python 3",
   "language": "python",
   "name": "python3"
  },
  "language_info": {
   "codemirror_mode": {
    "name": "ipython",
    "version": 3
   },
   "file_extension": ".py",
   "mimetype": "text/x-python",
   "name": "python",
   "nbconvert_exporter": "python",
   "pygments_lexer": "ipython3",
   "version": "3.8.5"
  },
  "toc": {
   "base_numbering": 1,
   "nav_menu": {},
   "number_sections": true,
   "sideBar": true,
   "skip_h1_title": false,
   "title_cell": "Table of Contents",
   "title_sidebar": "Contents",
   "toc_cell": false,
   "toc_position": {},
   "toc_section_display": true,
   "toc_window_display": false
  },
  "varInspector": {
   "cols": {
    "lenName": 16,
    "lenType": 16,
    "lenVar": 40
   },
   "kernels_config": {
    "python": {
     "delete_cmd_postfix": "",
     "delete_cmd_prefix": "del ",
     "library": "var_list.py",
     "varRefreshCmd": "print(var_dic_list())"
    },
    "r": {
     "delete_cmd_postfix": ") ",
     "delete_cmd_prefix": "rm(",
     "library": "var_list.r",
     "varRefreshCmd": "cat(var_dic_list()) "
    }
   },
   "types_to_exclude": [
    "module",
    "function",
    "builtin_function_or_method",
    "instance",
    "_Feature"
   ],
   "window_display": false
  }
 },
 "nbformat": 4,
 "nbformat_minor": 4
}
