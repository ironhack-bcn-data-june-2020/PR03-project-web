{
 "cells": [
  {
   "cell_type": "markdown",
   "metadata": {
    "slideshow": {
     "slide_type": "slide"
    }
   },
   "source": [
    "## I import the libreries that I need"
   ]
  },
  {
   "cell_type": "code",
   "execution_count": 72,
   "metadata": {
    "slideshow": {
     "slide_type": "fragment"
    }
   },
   "outputs": [],
   "source": [
    "import requests\n",
    "from bs4 import BeautifulSoup as soup\n",
    "from urllib.request import urlopen as ureq\n",
    "import re\n",
    "import pandas as pd"
   ]
  },
  {
   "cell_type": "markdown",
   "metadata": {
    "slideshow": {
     "slide_type": "slide"
    }
   },
   "source": [
    "## I put the web site into a virable"
   ]
  },
  {
   "cell_type": "code",
   "execution_count": 73,
   "metadata": {
    "slideshow": {
     "slide_type": "fragment"
    }
   },
   "outputs": [],
   "source": [
    "url = 'https://www.newegg.com/Laptops-Notebooks/Category/ID-223'"
   ]
  },
  {
   "cell_type": "markdown",
   "metadata": {
    "slideshow": {
     "slide_type": "slide"
    }
   },
   "source": [
    "## opening connection, grabbing page"
   ]
  },
  {
   "cell_type": "code",
   "execution_count": 74,
   "metadata": {
    "slideshow": {
     "slide_type": "fragment"
    }
   },
   "outputs": [],
   "source": [
    "uClient = ureq(url)"
   ]
  },
  {
   "cell_type": "code",
   "execution_count": 75,
   "metadata": {
    "slideshow": {
     "slide_type": "fragment"
    }
   },
   "outputs": [],
   "source": [
    "html = uClient.read()"
   ]
  },
  {
   "cell_type": "code",
   "execution_count": 76,
   "metadata": {
    "slideshow": {
     "slide_type": "fragment"
    }
   },
   "outputs": [],
   "source": [
    "uClient.close()"
   ]
  },
  {
   "cell_type": "markdown",
   "metadata": {
    "slideshow": {
     "slide_type": "slide"
    }
   },
   "source": [
    "## I parser the html"
   ]
  },
  {
   "cell_type": "code",
   "execution_count": 77,
   "metadata": {
    "slideshow": {
     "slide_type": "fragment"
    }
   },
   "outputs": [],
   "source": [
    "page_soup = soup(html, 'html.parser')"
   ]
  },
  {
   "cell_type": "markdown",
   "metadata": {
    "slideshow": {
     "slide_type": "slide"
    }
   },
   "source": [
    "## Grabbing products"
   ]
  },
  {
   "cell_type": "code",
   "execution_count": 78,
   "metadata": {
    "slideshow": {
     "slide_type": "fragment"
    }
   },
   "outputs": [],
   "source": [
    "products = page_soup.findAll('div', {'class': 'item-cell'})"
   ]
  },
  {
   "cell_type": "markdown",
   "metadata": {},
   "source": [
    "## We have 12 products on the page"
   ]
  },
  {
   "cell_type": "code",
   "execution_count": 79,
   "metadata": {},
   "outputs": [
    {
     "data": {
      "text/plain": [
       "12"
      ]
     },
     "execution_count": 79,
     "metadata": {},
     "output_type": "execute_result"
    }
   ],
   "source": [
    "len(products)"
   ]
  },
  {
   "cell_type": "code",
   "execution_count": 80,
   "metadata": {},
   "outputs": [
    {
     "data": {
      "text/plain": [
       "<div class=\"item-cell\"><div class=\"item-container\"><a class=\"item-img\" href=\"https://www.newegg.com/onyx-black-msi-modern-15-a10m-266-mainstream/p/N82E16834155458?Item=N82E16834155458\"><img alt='MSI Laptop Modern 15 A10M-266 Intel Core i5 10th Gen 10210U (1.60 GHz) 8 GB Memory 256 GB NVMe SSD Intel UHD Graphics 15.6\" Windows 10 Pro 64-bit' src=\"https://c1.neweggimages.com/ProductImageCompressAll300/34-155-458-V20.jpg\" title='MSI Laptop Modern 15 A10M-266 Intel Core i5 10th Gen 10210U (1.60 GHz) 8 GB Memory 256 GB NVMe SSD Intel UHD Graphics 15.6\" Windows 10 Pro 64-bit'/></a><div class=\"item-info\"><div class=\"item-branding\"><a class=\"item-brand\" href=\"https://www.newegg.com/MSI/BrandStore/ID-1312\"><img alt=\"MSI\" src=\"https://c1.neweggimages.com/Brandimage_70x28/Brand1312.gif\" title=\"MSI\"/></a><a class=\"item-rating\" href=\"https://www.newegg.com/onyx-black-msi-modern-15-a10m-266-mainstream/p/N82E16834155458?Item=N82E16834155458&amp;IsFeedbackTab=true#scrollFullInfo\" title=\"Rating + 4\"><i class=\"rating rating-4\"></i><span class=\"item-rating-num\">(3)</span></a></div><a class=\"item-title\" href=\"https://www.newegg.com/onyx-black-msi-modern-15-a10m-266-mainstream/p/N82E16834155458?Item=N82E16834155458\" title=\"View Details\">MSI Laptop Modern 15 A10M-266 Intel Core i5 10th Gen 10210U (1.60 GHz) 8 GB Memory 256 GB NVMe SSD Intel UHD Graphics 15.6\" Windows 10 Pro 64-bit</a><ul class=\"item-features\"><li><strong>Type:</strong> Mainstream</li><li><strong>Resolution:</strong> 1920 x 1080</li><li><strong>Weight:</strong> 3.53 lbs.</li><li><strong>Graphics Card:</strong> Intel UHD Graphics</li><li><strong>Model #: </strong>Modern 15 A10M-266</li><li><strong>Item #: </strong>N82E16834155458</li><li><strong>Return Policy: </strong><a href=\"https://kb.newegg.com/Article/Index/12/3?id=1167#44\" target=\"_blank\" title=\"Standard Return Policy(New Window)\">Standard Return Policy</a></li></ul></div><div class=\"item-action\"><ul class=\"price\"><li class=\"price-was\"><span class=\"price-was-data\">$799.00</span></li><li class=\"price-map\"> </li><li class=\"price-current\"><span class=\"price-current-label\"></span>$<strong>749</strong><sup>.00</sup> <span class=\"price-current-range\"><abbr title=\"to\">–</abbr></span></li><li class=\"price-save\"><span class=\"price-save-label\">Save: </span><span class=\"price-save-dollar\"></span><span class=\"price-save-percent\">6%</span></li><li class=\"price-note\"><span class=\"price-note-dollar\">$649.00</span><span class=\"price-note-label\"> after </span><span class=\"price-note-dollar\">$100.00</span><span class=\"price-note-label\"> rebate card</span></li><li class=\"price-ship\">Free Shipping</li></ul><div class=\"item-operate hidden-action-button\"><div class=\"item-button-area\"><button class=\"btn btn-mini\" title=\"View Details \">View Details <i class=\"fas fa-caret-right\"></i></button></div><div class=\"item-compare-box\"><label class=\"form-checkbox\"><input autocomplete=\"off\" type=\"checkbox\"/><span class=\"form-checkbox-title\">Compare</span></label></div><div class=\"popover left popover-compare\" style=\"position:absolute;top:0;left:0;opacity:0;pointer-events:none;display:none\"><div class=\"popover-title\">Selected Items</div><i class=\"popover-arrow compare\"></i><div class=\"popover-body\"></div><div class=\"popover-btn-area\"><div class=\"popover-compare-btn-normal\"><button class=\"btn btn-mini btn-tertiary\">EDIT</button><button class=\"btn btn-mini btn-secondary\">COMPARE</button></div></div></div></div></div><div class=\"item-stock\" id=\"stock_34-155-458\"></div></div></div>"
      ]
     },
     "execution_count": 80,
     "metadata": {},
     "output_type": "execute_result"
    }
   ],
   "source": [
    "products[0]"
   ]
  },
  {
   "cell_type": "markdown",
   "metadata": {
    "slideshow": {
     "slide_type": "slide"
    }
   },
   "source": [
    "## Grabbing the brand"
   ]
  },
  {
   "cell_type": "code",
   "execution_count": 81,
   "metadata": {
    "slideshow": {
     "slide_type": "fragment"
    }
   },
   "outputs": [],
   "source": [
    "product = products[0]"
   ]
  },
  {
   "cell_type": "code",
   "execution_count": 82,
   "metadata": {
    "slideshow": {
     "slide_type": "fragment"
    }
   },
   "outputs": [
    {
     "data": {
      "text/plain": [
       "<div class=\"item-cell\"><div class=\"item-container\"><a class=\"item-img\" href=\"https://www.newegg.com/onyx-black-msi-modern-15-a10m-266-mainstream/p/N82E16834155458?Item=N82E16834155458\"><img alt='MSI Laptop Modern 15 A10M-266 Intel Core i5 10th Gen 10210U (1.60 GHz) 8 GB Memory 256 GB NVMe SSD Intel UHD Graphics 15.6\" Windows 10 Pro 64-bit' src=\"https://c1.neweggimages.com/ProductImageCompressAll300/34-155-458-V20.jpg\" title='MSI Laptop Modern 15 A10M-266 Intel Core i5 10th Gen 10210U (1.60 GHz) 8 GB Memory 256 GB NVMe SSD Intel UHD Graphics 15.6\" Windows 10 Pro 64-bit'/></a><div class=\"item-info\"><div class=\"item-branding\"><a class=\"item-brand\" href=\"https://www.newegg.com/MSI/BrandStore/ID-1312\"><img alt=\"MSI\" src=\"https://c1.neweggimages.com/Brandimage_70x28/Brand1312.gif\" title=\"MSI\"/></a><a class=\"item-rating\" href=\"https://www.newegg.com/onyx-black-msi-modern-15-a10m-266-mainstream/p/N82E16834155458?Item=N82E16834155458&amp;IsFeedbackTab=true#scrollFullInfo\" title=\"Rating + 4\"><i class=\"rating rating-4\"></i><span class=\"item-rating-num\">(3)</span></a></div><a class=\"item-title\" href=\"https://www.newegg.com/onyx-black-msi-modern-15-a10m-266-mainstream/p/N82E16834155458?Item=N82E16834155458\" title=\"View Details\">MSI Laptop Modern 15 A10M-266 Intel Core i5 10th Gen 10210U (1.60 GHz) 8 GB Memory 256 GB NVMe SSD Intel UHD Graphics 15.6\" Windows 10 Pro 64-bit</a><ul class=\"item-features\"><li><strong>Type:</strong> Mainstream</li><li><strong>Resolution:</strong> 1920 x 1080</li><li><strong>Weight:</strong> 3.53 lbs.</li><li><strong>Graphics Card:</strong> Intel UHD Graphics</li><li><strong>Model #: </strong>Modern 15 A10M-266</li><li><strong>Item #: </strong>N82E16834155458</li><li><strong>Return Policy: </strong><a href=\"https://kb.newegg.com/Article/Index/12/3?id=1167#44\" target=\"_blank\" title=\"Standard Return Policy(New Window)\">Standard Return Policy</a></li></ul></div><div class=\"item-action\"><ul class=\"price\"><li class=\"price-was\"><span class=\"price-was-data\">$799.00</span></li><li class=\"price-map\"> </li><li class=\"price-current\"><span class=\"price-current-label\"></span>$<strong>749</strong><sup>.00</sup> <span class=\"price-current-range\"><abbr title=\"to\">–</abbr></span></li><li class=\"price-save\"><span class=\"price-save-label\">Save: </span><span class=\"price-save-dollar\"></span><span class=\"price-save-percent\">6%</span></li><li class=\"price-note\"><span class=\"price-note-dollar\">$649.00</span><span class=\"price-note-label\"> after </span><span class=\"price-note-dollar\">$100.00</span><span class=\"price-note-label\"> rebate card</span></li><li class=\"price-ship\">Free Shipping</li></ul><div class=\"item-operate hidden-action-button\"><div class=\"item-button-area\"><button class=\"btn btn-mini\" title=\"View Details \">View Details <i class=\"fas fa-caret-right\"></i></button></div><div class=\"item-compare-box\"><label class=\"form-checkbox\"><input autocomplete=\"off\" type=\"checkbox\"/><span class=\"form-checkbox-title\">Compare</span></label></div><div class=\"popover left popover-compare\" style=\"position:absolute;top:0;left:0;opacity:0;pointer-events:none;display:none\"><div class=\"popover-title\">Selected Items</div><i class=\"popover-arrow compare\"></i><div class=\"popover-body\"></div><div class=\"popover-btn-area\"><div class=\"popover-compare-btn-normal\"><button class=\"btn btn-mini btn-tertiary\">EDIT</button><button class=\"btn btn-mini btn-secondary\">COMPARE</button></div></div></div></div></div><div class=\"item-stock\" id=\"stock_34-155-458\"></div></div></div>"
      ]
     },
     "execution_count": 82,
     "metadata": {},
     "output_type": "execute_result"
    }
   ],
   "source": [
    "product"
   ]
  },
  {
   "cell_type": "code",
   "execution_count": 83,
   "metadata": {
    "slideshow": {
     "slide_type": "fragment"
    }
   },
   "outputs": [
    {
     "data": {
      "text/plain": [
       "<div class=\"item-container\"><a class=\"item-img\" href=\"https://www.newegg.com/onyx-black-msi-modern-15-a10m-266-mainstream/p/N82E16834155458?Item=N82E16834155458\"><img alt='MSI Laptop Modern 15 A10M-266 Intel Core i5 10th Gen 10210U (1.60 GHz) 8 GB Memory 256 GB NVMe SSD Intel UHD Graphics 15.6\" Windows 10 Pro 64-bit' src=\"https://c1.neweggimages.com/ProductImageCompressAll300/34-155-458-V20.jpg\" title='MSI Laptop Modern 15 A10M-266 Intel Core i5 10th Gen 10210U (1.60 GHz) 8 GB Memory 256 GB NVMe SSD Intel UHD Graphics 15.6\" Windows 10 Pro 64-bit'/></a><div class=\"item-info\"><div class=\"item-branding\"><a class=\"item-brand\" href=\"https://www.newegg.com/MSI/BrandStore/ID-1312\"><img alt=\"MSI\" src=\"https://c1.neweggimages.com/Brandimage_70x28/Brand1312.gif\" title=\"MSI\"/></a><a class=\"item-rating\" href=\"https://www.newegg.com/onyx-black-msi-modern-15-a10m-266-mainstream/p/N82E16834155458?Item=N82E16834155458&amp;IsFeedbackTab=true#scrollFullInfo\" title=\"Rating + 4\"><i class=\"rating rating-4\"></i><span class=\"item-rating-num\">(3)</span></a></div><a class=\"item-title\" href=\"https://www.newegg.com/onyx-black-msi-modern-15-a10m-266-mainstream/p/N82E16834155458?Item=N82E16834155458\" title=\"View Details\">MSI Laptop Modern 15 A10M-266 Intel Core i5 10th Gen 10210U (1.60 GHz) 8 GB Memory 256 GB NVMe SSD Intel UHD Graphics 15.6\" Windows 10 Pro 64-bit</a><ul class=\"item-features\"><li><strong>Type:</strong> Mainstream</li><li><strong>Resolution:</strong> 1920 x 1080</li><li><strong>Weight:</strong> 3.53 lbs.</li><li><strong>Graphics Card:</strong> Intel UHD Graphics</li><li><strong>Model #: </strong>Modern 15 A10M-266</li><li><strong>Item #: </strong>N82E16834155458</li><li><strong>Return Policy: </strong><a href=\"https://kb.newegg.com/Article/Index/12/3?id=1167#44\" target=\"_blank\" title=\"Standard Return Policy(New Window)\">Standard Return Policy</a></li></ul></div><div class=\"item-action\"><ul class=\"price\"><li class=\"price-was\"><span class=\"price-was-data\">$799.00</span></li><li class=\"price-map\"> </li><li class=\"price-current\"><span class=\"price-current-label\"></span>$<strong>749</strong><sup>.00</sup> <span class=\"price-current-range\"><abbr title=\"to\">–</abbr></span></li><li class=\"price-save\"><span class=\"price-save-label\">Save: </span><span class=\"price-save-dollar\"></span><span class=\"price-save-percent\">6%</span></li><li class=\"price-note\"><span class=\"price-note-dollar\">$649.00</span><span class=\"price-note-label\"> after </span><span class=\"price-note-dollar\">$100.00</span><span class=\"price-note-label\"> rebate card</span></li><li class=\"price-ship\">Free Shipping</li></ul><div class=\"item-operate hidden-action-button\"><div class=\"item-button-area\"><button class=\"btn btn-mini\" title=\"View Details \">View Details <i class=\"fas fa-caret-right\"></i></button></div><div class=\"item-compare-box\"><label class=\"form-checkbox\"><input autocomplete=\"off\" type=\"checkbox\"/><span class=\"form-checkbox-title\">Compare</span></label></div><div class=\"popover left popover-compare\" style=\"position:absolute;top:0;left:0;opacity:0;pointer-events:none;display:none\"><div class=\"popover-title\">Selected Items</div><i class=\"popover-arrow compare\"></i><div class=\"popover-body\"></div><div class=\"popover-btn-area\"><div class=\"popover-compare-btn-normal\"><button class=\"btn btn-mini btn-tertiary\">EDIT</button><button class=\"btn btn-mini btn-secondary\">COMPARE</button></div></div></div></div></div><div class=\"item-stock\" id=\"stock_34-155-458\"></div></div>"
      ]
     },
     "execution_count": 83,
     "metadata": {},
     "output_type": "execute_result"
    }
   ],
   "source": [
    "product.div"
   ]
  },
  {
   "cell_type": "code",
   "execution_count": 84,
   "metadata": {
    "slideshow": {
     "slide_type": "fragment"
    }
   },
   "outputs": [
    {
     "data": {
      "text/plain": [
       "<a class=\"item-brand\" href=\"https://www.newegg.com/MSI/BrandStore/ID-1312\"><img alt=\"MSI\" src=\"https://c1.neweggimages.com/Brandimage_70x28/Brand1312.gif\" title=\"MSI\"/></a>"
      ]
     },
     "execution_count": 84,
     "metadata": {},
     "output_type": "execute_result"
    }
   ],
   "source": [
    "product.div.div.a"
   ]
  },
  {
   "cell_type": "code",
   "execution_count": 85,
   "metadata": {
    "slideshow": {
     "slide_type": "fragment"
    }
   },
   "outputs": [
    {
     "data": {
      "text/plain": [
       "'MSI'"
      ]
     },
     "execution_count": 85,
     "metadata": {},
     "output_type": "execute_result"
    }
   ],
   "source": [
    "product.div.div.a.img['title']"
   ]
  },
  {
   "cell_type": "markdown",
   "metadata": {
    "slideshow": {
     "slide_type": "slide"
    }
   },
   "source": [
    "## Grabbing the name of the model"
   ]
  },
  {
   "cell_type": "code",
   "execution_count": 86,
   "metadata": {
    "slideshow": {
     "slide_type": "fragment"
    }
   },
   "outputs": [
    {
     "data": {
      "text/plain": [
       "<div class=\"item-cell\"><div class=\"item-container\"><a class=\"item-img\" href=\"https://www.newegg.com/onyx-black-msi-modern-15-a10m-266-mainstream/p/N82E16834155458?Item=N82E16834155458\"><img alt='MSI Laptop Modern 15 A10M-266 Intel Core i5 10th Gen 10210U (1.60 GHz) 8 GB Memory 256 GB NVMe SSD Intel UHD Graphics 15.6\" Windows 10 Pro 64-bit' src=\"https://c1.neweggimages.com/ProductImageCompressAll300/34-155-458-V20.jpg\" title='MSI Laptop Modern 15 A10M-266 Intel Core i5 10th Gen 10210U (1.60 GHz) 8 GB Memory 256 GB NVMe SSD Intel UHD Graphics 15.6\" Windows 10 Pro 64-bit'/></a><div class=\"item-info\"><div class=\"item-branding\"><a class=\"item-brand\" href=\"https://www.newegg.com/MSI/BrandStore/ID-1312\"><img alt=\"MSI\" src=\"https://c1.neweggimages.com/Brandimage_70x28/Brand1312.gif\" title=\"MSI\"/></a><a class=\"item-rating\" href=\"https://www.newegg.com/onyx-black-msi-modern-15-a10m-266-mainstream/p/N82E16834155458?Item=N82E16834155458&amp;IsFeedbackTab=true#scrollFullInfo\" title=\"Rating + 4\"><i class=\"rating rating-4\"></i><span class=\"item-rating-num\">(3)</span></a></div><a class=\"item-title\" href=\"https://www.newegg.com/onyx-black-msi-modern-15-a10m-266-mainstream/p/N82E16834155458?Item=N82E16834155458\" title=\"View Details\">MSI Laptop Modern 15 A10M-266 Intel Core i5 10th Gen 10210U (1.60 GHz) 8 GB Memory 256 GB NVMe SSD Intel UHD Graphics 15.6\" Windows 10 Pro 64-bit</a><ul class=\"item-features\"><li><strong>Type:</strong> Mainstream</li><li><strong>Resolution:</strong> 1920 x 1080</li><li><strong>Weight:</strong> 3.53 lbs.</li><li><strong>Graphics Card:</strong> Intel UHD Graphics</li><li><strong>Model #: </strong>Modern 15 A10M-266</li><li><strong>Item #: </strong>N82E16834155458</li><li><strong>Return Policy: </strong><a href=\"https://kb.newegg.com/Article/Index/12/3?id=1167#44\" target=\"_blank\" title=\"Standard Return Policy(New Window)\">Standard Return Policy</a></li></ul></div><div class=\"item-action\"><ul class=\"price\"><li class=\"price-was\"><span class=\"price-was-data\">$799.00</span></li><li class=\"price-map\"> </li><li class=\"price-current\"><span class=\"price-current-label\"></span>$<strong>749</strong><sup>.00</sup> <span class=\"price-current-range\"><abbr title=\"to\">–</abbr></span></li><li class=\"price-save\"><span class=\"price-save-label\">Save: </span><span class=\"price-save-dollar\"></span><span class=\"price-save-percent\">6%</span></li><li class=\"price-note\"><span class=\"price-note-dollar\">$649.00</span><span class=\"price-note-label\"> after </span><span class=\"price-note-dollar\">$100.00</span><span class=\"price-note-label\"> rebate card</span></li><li class=\"price-ship\">Free Shipping</li></ul><div class=\"item-operate hidden-action-button\"><div class=\"item-button-area\"><button class=\"btn btn-mini\" title=\"View Details \">View Details <i class=\"fas fa-caret-right\"></i></button></div><div class=\"item-compare-box\"><label class=\"form-checkbox\"><input autocomplete=\"off\" type=\"checkbox\"/><span class=\"form-checkbox-title\">Compare</span></label></div><div class=\"popover left popover-compare\" style=\"position:absolute;top:0;left:0;opacity:0;pointer-events:none;display:none\"><div class=\"popover-title\">Selected Items</div><i class=\"popover-arrow compare\"></i><div class=\"popover-body\"></div><div class=\"popover-btn-area\"><div class=\"popover-compare-btn-normal\"><button class=\"btn btn-mini btn-tertiary\">EDIT</button><button class=\"btn btn-mini btn-secondary\">COMPARE</button></div></div></div></div></div><div class=\"item-stock\" id=\"stock_34-155-458\"></div></div></div>"
      ]
     },
     "execution_count": 86,
     "metadata": {},
     "output_type": "execute_result"
    }
   ],
   "source": [
    "product"
   ]
  },
  {
   "cell_type": "code",
   "execution_count": 87,
   "metadata": {},
   "outputs": [],
   "source": [
    "model = product.findAll('a', {'class': 'item-title'})"
   ]
  },
  {
   "cell_type": "code",
   "execution_count": 88,
   "metadata": {},
   "outputs": [
    {
     "data": {
      "text/plain": [
       "[<a class=\"item-title\" href=\"https://www.newegg.com/onyx-black-msi-modern-15-a10m-266-mainstream/p/N82E16834155458?Item=N82E16834155458\" title=\"View Details\">MSI Laptop Modern 15 A10M-266 Intel Core i5 10th Gen 10210U (1.60 GHz) 8 GB Memory 256 GB NVMe SSD Intel UHD Graphics 15.6\" Windows 10 Pro 64-bit</a>]"
      ]
     },
     "execution_count": 88,
     "metadata": {},
     "output_type": "execute_result"
    }
   ],
   "source": [
    "model"
   ]
  },
  {
   "cell_type": "code",
   "execution_count": 89,
   "metadata": {
    "slideshow": {
     "slide_type": "fragment"
    }
   },
   "outputs": [
    {
     "data": {
      "text/plain": [
       "'MSI Laptop Modern 15 A10M-266 Intel Core i5 10th Gen 10210U (1.60 GHz) 8 GB Memory 256 GB NVMe SSD Intel UHD Graphics 15.6\" Windows 10 Pro 64-bit'"
      ]
     },
     "execution_count": 89,
     "metadata": {},
     "output_type": "execute_result"
    }
   ],
   "source": [
    "model[0].text"
   ]
  },
  {
   "cell_type": "markdown",
   "metadata": {
    "slideshow": {
     "slide_type": "slide"
    }
   },
   "source": [
    "## Grabbing free shipping"
   ]
  },
  {
   "cell_type": "code",
   "execution_count": 90,
   "metadata": {
    "slideshow": {
     "slide_type": "fragment"
    }
   },
   "outputs": [],
   "source": [
    "shipping = product.findAll('li', {'class':'price-ship'})"
   ]
  },
  {
   "cell_type": "code",
   "execution_count": 91,
   "metadata": {
    "slideshow": {
     "slide_type": "fragment"
    }
   },
   "outputs": [
    {
     "data": {
      "text/plain": [
       "[<li class=\"price-ship\">Free Shipping</li>]"
      ]
     },
     "execution_count": 91,
     "metadata": {},
     "output_type": "execute_result"
    }
   ],
   "source": [
    "shipping"
   ]
  },
  {
   "cell_type": "code",
   "execution_count": 92,
   "metadata": {
    "slideshow": {
     "slide_type": "fragment"
    }
   },
   "outputs": [
    {
     "data": {
      "text/plain": [
       "'Free Shipping'"
      ]
     },
     "execution_count": 92,
     "metadata": {},
     "output_type": "execute_result"
    }
   ],
   "source": [
    "shipping[0].text.strip()"
   ]
  },
  {
   "cell_type": "markdown",
   "metadata": {
    "slideshow": {
     "slide_type": "slide"
    }
   },
   "source": [
    "## Grabbing the price"
   ]
  },
  {
   "cell_type": "code",
   "execution_count": 112,
   "metadata": {
    "slideshow": {
     "slide_type": "fragment"
    }
   },
   "outputs": [],
   "source": [
    "price = product.findAll('li', {'class':'price-current'})"
   ]
  },
  {
   "cell_type": "code",
   "execution_count": 135,
   "metadata": {
    "slideshow": {
     "slide_type": "fragment"
    }
   },
   "outputs": [
    {
     "data": {
      "text/plain": [
       "'$879.00'"
      ]
     },
     "execution_count": 135,
     "metadata": {},
     "output_type": "execute_result"
    }
   ],
   "source": [
    "price[0].text[:7]"
   ]
  },
  {
   "cell_type": "markdown",
   "metadata": {
    "slideshow": {
     "slide_type": "slide"
    }
   },
   "source": [
    "## We create a loop to go trough all of the products"
   ]
  },
  {
   "cell_type": "code",
   "execution_count": 136,
   "metadata": {
    "slideshow": {
     "slide_type": "fragment"
    }
   },
   "outputs": [],
   "source": [
    "laptops = []\n",
    "for product in products:\n",
    "    brand = product.div.div.a.img['title']\n",
    "\n",
    "    model = product.findAll('a', {'class': 'item-title'})\n",
    "    product_name = model[0].text\n",
    "\n",
    "    shipping = product.findAll('li', {'class':'price-ship'})\n",
    "    ship = shipping[0].text.strip()\n",
    "\n",
    "    price = product.findAll('li', {'class':'price-current'})\n",
    "    prices = price[0].text[:7]\n",
    "    laptops.append((brand, product_name, ship, prices))"
   ]
  },
  {
   "cell_type": "code",
   "execution_count": 137,
   "metadata": {},
   "outputs": [
    {
     "data": {
      "text/plain": [
       "12"
      ]
     },
     "execution_count": 137,
     "metadata": {},
     "output_type": "execute_result"
    }
   ],
   "source": [
    "len(laptops)"
   ]
  },
  {
   "cell_type": "markdown",
   "metadata": {
    "slideshow": {
     "slide_type": "slide"
    }
   },
   "source": [
    "## We put ir into a DataFrame"
   ]
  },
  {
   "cell_type": "code",
   "execution_count": 138,
   "metadata": {
    "slideshow": {
     "slide_type": "fragment"
    }
   },
   "outputs": [],
   "source": [
    "df = pd.DataFrame(laptops, columns=['brand', 'product_name', 'ship', 'prices'])"
   ]
  },
  {
   "cell_type": "code",
   "execution_count": 139,
   "metadata": {
    "slideshow": {
     "slide_type": "fragment"
    }
   },
   "outputs": [
    {
     "data": {
      "text/html": [
       "<div>\n",
       "<style scoped>\n",
       "    .dataframe tbody tr th:only-of-type {\n",
       "        vertical-align: middle;\n",
       "    }\n",
       "\n",
       "    .dataframe tbody tr th {\n",
       "        vertical-align: top;\n",
       "    }\n",
       "\n",
       "    .dataframe thead th {\n",
       "        text-align: right;\n",
       "    }\n",
       "</style>\n",
       "<table border=\"1\" class=\"dataframe\">\n",
       "  <thead>\n",
       "    <tr style=\"text-align: right;\">\n",
       "      <th></th>\n",
       "      <th>brand</th>\n",
       "      <th>product_name</th>\n",
       "      <th>ship</th>\n",
       "      <th>prices</th>\n",
       "    </tr>\n",
       "  </thead>\n",
       "  <tbody>\n",
       "    <tr>\n",
       "      <th>0</th>\n",
       "      <td>MSI</td>\n",
       "      <td>MSI Laptop Modern 15 A10M-266 Intel Core i5 10...</td>\n",
       "      <td>Free Shipping</td>\n",
       "      <td>$749.00</td>\n",
       "    </tr>\n",
       "    <tr>\n",
       "      <th>1</th>\n",
       "      <td>ASUS</td>\n",
       "      <td>ASUS VivoBook 14 Laptop, 14\" FHD, AMD Ryzen 7-...</td>\n",
       "      <td>Free Shipping</td>\n",
       "      <td>$599.99</td>\n",
       "    </tr>\n",
       "    <tr>\n",
       "      <th>2</th>\n",
       "      <td>Acer America</td>\n",
       "      <td>Acer Laptop Aspire 5 A515-55-78S9 Intel Core i...</td>\n",
       "      <td>Free Shipping</td>\n",
       "      <td>$769.99</td>\n",
       "    </tr>\n",
       "    <tr>\n",
       "      <th>3</th>\n",
       "      <td>HP</td>\n",
       "      <td>Refurbished: HP Grade A Laptop ProBook 640 G2 ...</td>\n",
       "      <td>Free Shipping</td>\n",
       "      <td>$399.99</td>\n",
       "    </tr>\n",
       "    <tr>\n",
       "      <th>4</th>\n",
       "      <td>ASUS</td>\n",
       "      <td>ASUS ZenBook 15 Ultra-Slim Laptop 15.6\" 4K UHD...</td>\n",
       "      <td>Free Shipping</td>\n",
       "      <td>$1,449.</td>\n",
       "    </tr>\n",
       "    <tr>\n",
       "      <th>5</th>\n",
       "      <td>Lenovo</td>\n",
       "      <td>Lenovo Laptop ThinkPad E495 20NE0002US AMD Ryz...</td>\n",
       "      <td>Free Shipping</td>\n",
       "      <td>$629.99</td>\n",
       "    </tr>\n",
       "    <tr>\n",
       "      <th>6</th>\n",
       "      <td>ASUS</td>\n",
       "      <td>ASUS ZenBook 14 Ultra-Slim Laptop 14\" Full HD ...</td>\n",
       "      <td>Free Shipping</td>\n",
       "      <td>$899.99</td>\n",
       "    </tr>\n",
       "    <tr>\n",
       "      <th>7</th>\n",
       "      <td>ASUS</td>\n",
       "      <td>ASUS ZenBook Flip 14 Ultra Slim Convertible La...</td>\n",
       "      <td>Free Shipping</td>\n",
       "      <td>$1,299.</td>\n",
       "    </tr>\n",
       "    <tr>\n",
       "      <th>8</th>\n",
       "      <td>Acer America</td>\n",
       "      <td>Acer Laptop Aspire 5 A515-55-576H Intel Core i...</td>\n",
       "      <td>Free Shipping</td>\n",
       "      <td>$599.99</td>\n",
       "    </tr>\n",
       "    <tr>\n",
       "      <th>9</th>\n",
       "      <td>MSI</td>\n",
       "      <td>MSI Laptop Modern 14 B10MW-017 Intel Core i5 1...</td>\n",
       "      <td>Free Shipping</td>\n",
       "      <td>$749.00</td>\n",
       "    </tr>\n",
       "    <tr>\n",
       "      <th>10</th>\n",
       "      <td>HP</td>\n",
       "      <td>HP Laptop 250 G7 (5YN09UT#ABA) Intel Core i5 8...</td>\n",
       "      <td>Free Shipping</td>\n",
       "      <td>$659.00</td>\n",
       "    </tr>\n",
       "    <tr>\n",
       "      <th>11</th>\n",
       "      <td>Lenovo</td>\n",
       "      <td>Lenovo ThinkPad E15 Notebook, 15.6\" FHD Displa...</td>\n",
       "      <td>Free Shipping</td>\n",
       "      <td>$879.00</td>\n",
       "    </tr>\n",
       "  </tbody>\n",
       "</table>\n",
       "</div>"
      ],
      "text/plain": [
       "           brand                                       product_name  \\\n",
       "0            MSI  MSI Laptop Modern 15 A10M-266 Intel Core i5 10...   \n",
       "1           ASUS  ASUS VivoBook 14 Laptop, 14\" FHD, AMD Ryzen 7-...   \n",
       "2   Acer America  Acer Laptop Aspire 5 A515-55-78S9 Intel Core i...   \n",
       "3             HP  Refurbished: HP Grade A Laptop ProBook 640 G2 ...   \n",
       "4           ASUS  ASUS ZenBook 15 Ultra-Slim Laptop 15.6\" 4K UHD...   \n",
       "5         Lenovo  Lenovo Laptop ThinkPad E495 20NE0002US AMD Ryz...   \n",
       "6           ASUS  ASUS ZenBook 14 Ultra-Slim Laptop 14\" Full HD ...   \n",
       "7           ASUS  ASUS ZenBook Flip 14 Ultra Slim Convertible La...   \n",
       "8   Acer America  Acer Laptop Aspire 5 A515-55-576H Intel Core i...   \n",
       "9            MSI  MSI Laptop Modern 14 B10MW-017 Intel Core i5 1...   \n",
       "10            HP  HP Laptop 250 G7 (5YN09UT#ABA) Intel Core i5 8...   \n",
       "11        Lenovo  Lenovo ThinkPad E15 Notebook, 15.6\" FHD Displa...   \n",
       "\n",
       "             ship   prices  \n",
       "0   Free Shipping  $749.00  \n",
       "1   Free Shipping  $599.99  \n",
       "2   Free Shipping  $769.99  \n",
       "3   Free Shipping  $399.99  \n",
       "4   Free Shipping  $1,449.  \n",
       "5   Free Shipping  $629.99  \n",
       "6   Free Shipping  $899.99  \n",
       "7   Free Shipping  $1,299.  \n",
       "8   Free Shipping  $599.99  \n",
       "9   Free Shipping  $749.00  \n",
       "10  Free Shipping  $659.00  \n",
       "11  Free Shipping  $879.00  "
      ]
     },
     "execution_count": 139,
     "metadata": {},
     "output_type": "execute_result"
    }
   ],
   "source": [
    "df"
   ]
  },
  {
   "cell_type": "code",
   "execution_count": null,
   "metadata": {},
   "outputs": [],
   "source": []
  }
 ],
 "metadata": {
  "celltoolbar": "Slideshow",
  "kernelspec": {
   "display_name": "Python 3",
   "language": "python",
   "name": "python3"
  },
  "language_info": {
   "codemirror_mode": {
    "name": "ipython",
    "version": 3
   },
   "file_extension": ".py",
   "mimetype": "text/x-python",
   "name": "python",
   "nbconvert_exporter": "python",
   "pygments_lexer": "ipython3",
   "version": "3.7.6"
  }
 },
 "nbformat": 4,
 "nbformat_minor": 4
}
