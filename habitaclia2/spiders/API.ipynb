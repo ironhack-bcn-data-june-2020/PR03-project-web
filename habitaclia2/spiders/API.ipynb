{
 "metadata": {
  "language_info": {
   "codemirror_mode": {
    "name": "ipython",
    "version": 3
   },
   "file_extension": ".py",
   "mimetype": "text/x-python",
   "name": "python",
   "nbconvert_exporter": "python",
   "pygments_lexer": "ipython3",
   "version": "3.8.5-final"
  },
  "orig_nbformat": 2,
  "kernelspec": {
   "name": "python3",
   "display_name": "Python 3.8.5 64-bit ('base': conda)",
   "metadata": {
    "interpreter": {
     "hash": "59eaf4d6d74e1d9eec5b10c94472bd4b4513ca1fc34db018fc328b2040b24e92"
    }
   }
  }
 },
 "nbformat": 4,
 "nbformat_minor": 2,
 "cells": [
  {
   "cell_type": "code",
   "execution_count": 420,
   "metadata": {},
   "outputs": [],
   "source": [
    "# Importo las librerías necesarias\n",
    "\n",
    "import pandas as pd\n",
    "import regex as re\n",
    "import math\n",
    "import numpy as np"
   ]
  },
  {
   "cell_type": "code",
   "execution_count": 513,
   "metadata": {},
   "outputs": [],
   "source": [
    "# Leer el CSV scrapeado de habitaclia\n",
    "\n",
    "barcelona_alquiler = pd.read_csv(\"/Users/miquicampuzano/Documents/Miqui/1. Formación/Ironhack/PR03-project-web/habitaclia2/barcelona_todo_alquiler.csv\")"
   ]
  },
  {
   "cell_type": "code",
   "execution_count": 498,
   "metadata": {},
   "outputs": [
    {
     "output_type": "stream",
     "name": "stdout",
     "text": [
      "<class 'pandas.core.frame.DataFrame'>\nRangeIndex: 11433 entries, 0 to 11432\nData columns (total 12 columns):\n #   Column        Non-Null Count  Dtype  \n---  ------        --------------  -----  \n 0   Título        11433 non-null  object \n 1   Zona          11432 non-null  object \n 2   Precio        11425 non-null  object \n 3   M2            11425 non-null  float64\n 4   Habitaciones  11425 non-null  object \n 5   Baños         11374 non-null  object \n 6   Terraza       1929 non-null   object \n 7   Amueblado     4628 non-null   object \n 8   Parking       7228 non-null   object \n 9   Link          11433 non-null  object \n 10  Latitud       11433 non-null  float64\n 11  Longitud      11433 non-null  float64\ndtypes: float64(3), object(9)\nmemory usage: 1.0+ MB\n"
     ]
    }
   ],
   "source": [
    "# Análisis del DataFrame\n",
    "\n",
    "barcelona_alquiler.info()"
   ]
  },
  {
   "cell_type": "code",
   "execution_count": 521,
   "metadata": {},
   "outputs": [],
   "source": [
    "# Limpieza variables\n",
    "\n",
    "barcelona_alquiler[\"Habitaciones\"] = barcelona_alquiler[\"Habitaciones\"].astype(str).apply(lambda x: re.sub(\",\", \".\",x)).apply(lambda x: 0 if x == \"\" else x).astype(float)\n",
    "\n",
    "barcelona_alquiler[\"Precio\"] = barcelona_alquiler[\"Precio\"].astype(str).apply(lambda x: re.sub(\" €\", \"\", x)).apply(lambda x: re.sub(\"\\.\",\"\",x)).astype(float)\n",
    "\n",
    "barcelona_alquiler[\"Baños\"] = barcelona_alquiler[\"Baños\"].astype(str).apply(lambda x: re.sub(\",\", \".\",x)).apply(lambda x: 0 if x == \"\" else x).astype(float)\n"
   ]
  },
  {
   "cell_type": "code",
   "execution_count": 522,
   "metadata": {},
   "outputs": [],
   "source": [
    "# Limpieza de la variable zona\n",
    "\n",
    "barcelona_alquiler[\"Zona\"] = barcelona_alquiler[\"Zona\"].apply(lambda x: str(x).replace(\"\\r\\n\",\"\").strip()).astype(str)"
   ]
  },
  {
   "cell_type": "code",
   "execution_count": 523,
   "metadata": {},
   "outputs": [],
   "source": [
    "#Obtengo los metros cuadrados de la terraza\n",
    "\n",
    "barcelona_alquiler[\"M2_Terraza\"] = barcelona_alquiler[\"Terraza\"].apply(lambda x: re.findall(\"\\d+\", str(x))).apply(lambda x: str(x))"
   ]
  },
  {
   "cell_type": "code",
   "execution_count": 524,
   "metadata": {},
   "outputs": [],
   "source": [
    "# Convierto la variable Terreaza en una binaria (si o no)\n",
    "\n",
    "barcelona_alquiler[\"Terraza\"] = barcelona_alquiler[\"Terraza\"].apply(lambda x: \"No\" if x is np.nan else \"Si\")"
   ]
  },
  {
   "cell_type": "code",
   "execution_count": 525,
   "metadata": {},
   "outputs": [
    {
     "output_type": "error",
     "ename": "NameError",
     "evalue": "name 'barce' is not defined",
     "traceback": [
      "\u001b[0;31m---------------------------------------------------------------------------\u001b[0m",
      "\u001b[0;31mNameError\u001b[0m                                 Traceback (most recent call last)",
      "\u001b[0;32m<ipython-input-525-52b69af244eb>\u001b[0m in \u001b[0;36m<module>\u001b[0;34m\u001b[0m\n\u001b[1;32m      3\u001b[0m \u001b[0mbarcelona_alquiler\u001b[0m\u001b[0;34m[\u001b[0m\u001b[0;34m\"Amueblado\"\u001b[0m\u001b[0;34m]\u001b[0m \u001b[0;34m=\u001b[0m \u001b[0mbarcelona_alquiler\u001b[0m\u001b[0;34m[\u001b[0m\u001b[0;34m\"Amueblado\"\u001b[0m\u001b[0;34m]\u001b[0m\u001b[0;34m.\u001b[0m\u001b[0mapply\u001b[0m\u001b[0;34m(\u001b[0m\u001b[0;32mlambda\u001b[0m \u001b[0mx\u001b[0m\u001b[0;34m:\u001b[0m \u001b[0;34m\"No\"\u001b[0m \u001b[0;32mif\u001b[0m \u001b[0mx\u001b[0m \u001b[0;32mis\u001b[0m \u001b[0mnp\u001b[0m\u001b[0;34m.\u001b[0m\u001b[0mnan\u001b[0m \u001b[0;32melse\u001b[0m \u001b[0;34m\"Si\"\u001b[0m\u001b[0;34m)\u001b[0m\u001b[0;34m\u001b[0m\u001b[0;34m\u001b[0m\u001b[0m\n\u001b[1;32m      4\u001b[0m \u001b[0;34m\u001b[0m\u001b[0m\n\u001b[0;32m----> 5\u001b[0;31m \u001b[0mbarce\u001b[0m\u001b[0;34m.\u001b[0m\u001b[0mapply\u001b[0m\u001b[0;34m(\u001b[0m\u001b[0;32mlambda\u001b[0m \u001b[0mx\u001b[0m\u001b[0;34m:\u001b[0m \u001b[0mre\u001b[0m\u001b[0;34m.\u001b[0m\u001b[0msub\u001b[0m\u001b[0;34m(\u001b[0m\u001b[0;34m\".\"\u001b[0m\u001b[0;34m,\u001b[0m\u001b[0;34m\"\"\u001b[0m\u001b[0;34m,\u001b[0m\u001b[0mx\u001b[0m\u001b[0;34m)\u001b[0m\u001b[0;34m)\u001b[0m\u001b[0;34m\u001b[0m\u001b[0;34m\u001b[0m\u001b[0m\n\u001b[0m",
      "\u001b[0;31mNameError\u001b[0m: name 'barce' is not defined"
     ]
    }
   ],
   "source": [
    "# Convierto la variable Amueblado en una binaria (si o no)\n",
    "\n",
    "barcelona_alquiler[\"Amueblado\"] = barcelona_alquiler[\"Amueblado\"].apply(lambda x: \"No\" if x is np.nan else \"Si\")\n",
    "\n",
    "barce.apply(lambda x: re.sub(\".\",\"\",x))"
   ]
  },
  {
   "cell_type": "code",
   "execution_count": 532,
   "metadata": {},
   "outputs": [
    {
     "output_type": "stream",
     "name": "stdout",
     "text": [
      "<class 'pandas.core.frame.DataFrame'>\n",
      "RangeIndex: 51 entries, 0 to 50\n",
      "Data columns (total 14 columns):\n",
      " #   Column        Non-Null Count  Dtype  \n",
      "---  ------        --------------  -----  \n",
      " 0   index         51 non-null     int64  \n",
      " 1   Título        51 non-null     object \n",
      " 2   Zona          51 non-null     object \n",
      " 3   Precio        51 non-null     float64\n",
      " 4   M2            51 non-null     float64\n",
      " 5   Habitaciones  51 non-null     float64\n",
      " 6   Baños         51 non-null     float64\n",
      " 7   Terraza       51 non-null     object \n",
      " 8   Amueblado     51 non-null     object \n",
      " 9   Parking       41 non-null     object \n",
      " 10  Link          51 non-null     object \n",
      " 11  Latitud       51 non-null     float64\n",
      " 12  Longitud      51 non-null     float64\n",
      " 13  M2_Terraza    51 non-null     object \n",
      "dtypes: float64(6), int64(1), object(7)\n",
      "memory usage: 5.7+ KB\n",
      "/Users/miquicampuzano/opt/anaconda3/lib/python3.8/site-packages/pandas/core/frame.py:4163: SettingWithCopyWarning: \n",
      "A value is trying to be set on a copy of a slice from a DataFrame\n",
      "\n",
      "See the caveats in the documentation: https://pandas.pydata.org/pandas-docs/stable/user_guide/indexing.html#returning-a-view-versus-a-copy\n",
      "  return super().drop(\n"
     ]
    }
   ],
   "source": [
    "# Limpieza de mi DataFrame en función de mis preferencias\n",
    "\n",
    "barcelona_alquiler_reduced = barcelona_alquiler[(barcelona_alquiler[\"Habitaciones\"] >=4) & (barcelona_alquiler[\"Baños\"] >=2) &(barcelona_alquiler[\"Terraza\"] == \"Si\") & (barcelona_alquiler[\"Amueblado\"] == \"Si\") & (barcelona_alquiler[\"Precio\"] <= 1700)]\n",
    "\n",
    "barcelona_alquiler_reduced.reset_index(inplace=True)\n",
    "\n",
    "# Me quedo con un total de 51 pisos\n",
    "barcelona_alquiler_reduced.info()\n",
    "\n",
    "#Drop de la variable index:\n",
    "\n",
    "barcelona_alquiler_reduced.drop(\"index\", axis = 1, inplace = True)"
   ]
  },
  {
   "cell_type": "code",
   "execution_count": 533,
   "metadata": {},
   "outputs": [],
   "source": [
    "# Definición de latitudes y longitudes de destino:\n",
    "\n",
    "lon_Miqui = \"2.176343\"\n",
    "lat_Miqui = \"41.390335\"\n",
    "lon_Pau =\"2.153436\"\n",
    "lat_Pau = \"41.394817\"\n",
    "lon_Fede = \"2.131837\"\n",
    "lat_Fede = \"41.389851\"\n",
    "lon_Joan = \"2.144370\"\n",
    "lat_Joan = \"41.392003\"\n",
    "lon_vallparc = \"2.135202\" \n",
    "lat_vallparc = \"41.424025\"\n",
    "lon_Pompeia = \"2.146359\"\n",
    "lat_Pompeia = \"41.368455\""
   ]
  },
  {
   "cell_type": "code",
   "execution_count": 534,
   "metadata": {},
   "outputs": [],
   "source": [
    "# De los resultados restantes, calculo la distancia a los sitios de interés.\n",
    "\n",
    "# Duración a mi puesto de trabajo en bici:\n",
    "\n",
    "duration_miqui = []\n",
    "for i,j in zip(barcelona_alquiler_reduced[\"Latitud\"], barcelona_alquiler_reduced[\"Longitud\"]):\n",
    "    duration_miqui.append(requests.get(f\"https://maps.googleapis.com/maps/api/distancematrix/json?origins={lat_Miqui},{lon_Miqui}&destinations={i},{j}&mode=bicycling&language=fr-FR&key=YOURKEY\").json()[\"rows\"][0][\"elements\"][0][\"duration\"][\"value\"])\n",
    "\n",
    "# Duración al puesto de trabajode Pau en bici:\n",
    "\n",
    "duration_pau = []\n",
    "for i,j in zip(barcelona_alquiler_reduced[\"Latitud\"], barcelona_alquiler_reduced[\"Longitud\"]):\n",
    "    duration_pau.append(requests.get(f\"https://maps.googleapis.com/maps/api/distancematrix/json?origins={lat_Pau},{lon_Pau}&destinations={i},{j}&mode=bicycling&language=fr-FR&key=YOURKEY\").json()[\"rows\"][0][\"elements\"][0][\"duration\"][\"value\"])\n",
    "\n",
    "# Duración al puesto de trabajode Fede en bici:\n",
    "\n",
    "duration_fede = []\n",
    "for i,j in zip(barcelona_alquiler_reduced[\"Latitud\"], barcelona_alquiler_reduced[\"Longitud\"]):\n",
    "    duration_fede.append(requests.get(f\"https://maps.googleapis.com/maps/api/distancematrix/json?origins={lat_Fede},{lon_Fede}&destinations={i},{j}&mode=bicycling&language=fr-FR&key=YOURKEY\").json()[\"rows\"][0][\"elements\"][0][\"duration\"][\"value\"])\n",
    "\n",
    "# Duración al puesto de trabajode Joan en bici:\n",
    "\n",
    "duration_joan = []\n",
    "for i,j in zip(barcelona_alquiler_reduced[\"Latitud\"], barcelona_alquiler_reduced[\"Longitud\"]):\n",
    "    duration_joan.append(requests.get(f\"https://maps.googleapis.com/maps/api/distancematrix/json?origins={lat_Joan},{lon_Joan}&destinations={i},{j}&mode=bicycling&language=fr-FR&key=YOURKEY\").json()[\"rows\"][0][\"elements\"][0][\"duration\"][\"value\"])\n",
    "\n",
    "\n",
    "# Duración a Vallparc en coche:\n",
    "\n",
    "duration_vallparc = []\n",
    "for i,j in zip(barcelona_alquiler_reduced[\"Latitud\"], barcelona_alquiler_reduced[\"Longitud\"]):\n",
    "    duration_vallparc.append(requests.get(f\"https://maps.googleapis.com/maps/api/distancematrix/json?origins={lat_vallparc},{lon_vallparc}&destinations={i},{j}&mode=car&language=fr-FR&key=YOURKEY\").json()[\"rows\"][0][\"elements\"][0][\"duration\"][\"value\"])\n",
    "\n",
    "# Duración a Pompeia en coche:\n",
    "\n",
    "duration_pompeia = []\n",
    "for i,j in zip(barcelona_alquiler_reduced[\"Latitud\"], barcelona_alquiler_reduced[\"Longitud\"]):\n",
    "    duration_pompeia.append(requests.get(f\"https://maps.googleapis.com/maps/api/distancematrix/json?origins={lat_Pompeia},{lon_Pompeia}&destinations={i},{j}&mode=car&language=fr-FR&key=YOURKEY\").json()[\"rows\"][0][\"elements\"][0][\"duration\"][\"value\"])"
   ]
  },
  {
   "cell_type": "code",
   "execution_count": 535,
   "metadata": {},
   "outputs": [],
   "source": [
    "# Convierto la lista a una Serie de Pandas\n",
    "\n",
    "series_miqui = pd.Series(duration_miqui)\n",
    "\n",
    "series_pau = pd.Series(duration_pau)\n",
    "\n",
    "series_fede = pd.Series(duration_fede)\n",
    "\n",
    "series_joan = pd.Series(duration_joan)\n",
    "\n",
    "series_vallparc = pd.Series(duration_vallparc)\n",
    "\n",
    "series_pompeia = pd.Series(duration_pompeia)"
   ]
  },
  {
   "cell_type": "code",
   "execution_count": 536,
   "metadata": {},
   "outputs": [
    {
     "output_type": "stream",
     "name": "stderr",
     "text": [
      "<ipython-input-536-c0e33da9aee3>:3: SettingWithCopyWarning: \nA value is trying to be set on a copy of a slice from a DataFrame.\nTry using .loc[row_indexer,col_indexer] = value instead\n\nSee the caveats in the documentation: https://pandas.pydata.org/pandas-docs/stable/user_guide/indexing.html#returning-a-view-versus-a-copy\n  barcelona_alquiler_reduced[\"Duration_Miqui\"] = series_miqui/60\n<ipython-input-536-c0e33da9aee3>:5: SettingWithCopyWarning: \nA value is trying to be set on a copy of a slice from a DataFrame.\nTry using .loc[row_indexer,col_indexer] = value instead\n\nSee the caveats in the documentation: https://pandas.pydata.org/pandas-docs/stable/user_guide/indexing.html#returning-a-view-versus-a-copy\n  barcelona_alquiler_reduced[\"Duracion_Pau\"] = series_pau/60\n<ipython-input-536-c0e33da9aee3>:7: SettingWithCopyWarning: \nA value is trying to be set on a copy of a slice from a DataFrame.\nTry using .loc[row_indexer,col_indexer] = value instead\n\nSee the caveats in the documentation: https://pandas.pydata.org/pandas-docs/stable/user_guide/indexing.html#returning-a-view-versus-a-copy\n  barcelona_alquiler_reduced[\"Duracion_Fede\"] = series_fede/60\n<ipython-input-536-c0e33da9aee3>:9: SettingWithCopyWarning: \nA value is trying to be set on a copy of a slice from a DataFrame.\nTry using .loc[row_indexer,col_indexer] = value instead\n\nSee the caveats in the documentation: https://pandas.pydata.org/pandas-docs/stable/user_guide/indexing.html#returning-a-view-versus-a-copy\n  barcelona_alquiler_reduced[\"Duracion_Joan\"] = series_joan/60\n<ipython-input-536-c0e33da9aee3>:11: SettingWithCopyWarning: \nA value is trying to be set on a copy of a slice from a DataFrame.\nTry using .loc[row_indexer,col_indexer] = value instead\n\nSee the caveats in the documentation: https://pandas.pydata.org/pandas-docs/stable/user_guide/indexing.html#returning-a-view-versus-a-copy\n  barcelona_alquiler_reduced[\"Duracion_Vallparc\"] = series_vallparc/60\n<ipython-input-536-c0e33da9aee3>:13: SettingWithCopyWarning: \nA value is trying to be set on a copy of a slice from a DataFrame.\nTry using .loc[row_indexer,col_indexer] = value instead\n\nSee the caveats in the documentation: https://pandas.pydata.org/pandas-docs/stable/user_guide/indexing.html#returning-a-view-versus-a-copy\n  barcelona_alquiler_reduced[\"Duracion_Pompeia\"] = series_pompeia/60\n"
     ]
    }
   ],
   "source": [
    "# Añado la serie a mi Data Frame\n",
    "\n",
    "barcelona_alquiler_reduced[\"Duration_Miqui\"] = series_miqui/60\n",
    "\n",
    "barcelona_alquiler_reduced[\"Duracion_Pau\"] = series_pau/60\n",
    "\n",
    "barcelona_alquiler_reduced[\"Duracion_Fede\"] = series_fede/60\n",
    "\n",
    "barcelona_alquiler_reduced[\"Duracion_Joan\"] = series_joan/60\n",
    "\n",
    "barcelona_alquiler_reduced[\"Duracion_Vallparc\"] = series_vallparc/60\n",
    "\n",
    "barcelona_alquiler_reduced[\"Duracion_Pompeia\"] = series_pompeia/60\n",
    "\n"
   ]
  },
  {
   "cell_type": "code",
   "execution_count": 538,
   "metadata": {},
   "outputs": [],
   "source": [
    "barcelona_alquiler_reduced.to_csv(\"pisos_finalistas.csv\")"
   ]
  },
  {
   "cell_type": "code",
   "execution_count": null,
   "metadata": {},
   "outputs": [],
   "source": []
  }
 ]
}