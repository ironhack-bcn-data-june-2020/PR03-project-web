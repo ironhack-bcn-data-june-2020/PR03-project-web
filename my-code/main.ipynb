{
 "cells": [
  {
   "cell_type": "markdown",
   "metadata": {
    "slideshow": {
     "slide_type": "slide"
    }
   },
   "source": [
    "# Rocket launches\n",
    "\n",
    "*Web project*\n",
    "----------------------\n",
    "*Lola López Gilabert*\n",
    "\n",
    "![title](pictures/rocket.png)"
   ]
  },
  {
   "cell_type": "markdown",
   "metadata": {
    "slideshow": {
     "slide_type": "skip"
    },
    "toc": true
   },
   "source": [
    "<h1>Table of contents<span class=\"tocSkip\"></span></h1>\n",
    "<div class=\"toc\"><ul class=\"toc-item\"><li><span><a href=\"#Web-project\" data-toc-modified-id=\"Web-project-1\"><span class=\"toc-item-num\">1&nbsp;&nbsp;</span><em>Web project</em></a></span></li><li><span><a href=\"#Imports\" data-toc-modified-id=\"Imports-2\"><span class=\"toc-item-num\">2&nbsp;&nbsp;</span>Imports</a></span></li><li><span><a href=\"#API\" data-toc-modified-id=\"API-3\"><span class=\"toc-item-num\">3&nbsp;&nbsp;</span>API</a></span><ul class=\"toc-item\"><li><span><a href=\"#API-information\" data-toc-modified-id=\"API-information-3.1\"><span class=\"toc-item-num\">3.1&nbsp;&nbsp;</span>API information</a></span></li><li><span><a href=\"#Function-to-get-the-information-of-the-launches-depending-on-their-status\" data-toc-modified-id=\"Function-to-get-the-information-of-the-launches-depending-on-their-status-3.2\"><span class=\"toc-item-num\">3.2&nbsp;&nbsp;</span>Function to get the information of the launches depending on their status</a></span></li><li><span><a href=\"#Execution\" data-toc-modified-id=\"Execution-3.3\"><span class=\"toc-item-num\">3.3&nbsp;&nbsp;</span>Execution</a></span><ul class=\"toc-item\"><li><span><a href=\"#Get-the-information-of-the-future-launches-(confirmed-and-the-ones-to-be-defined)\" data-toc-modified-id=\"Get-the-information-of-the-future-launches-(confirmed-and-the-ones-to-be-defined)-3.3.1\"><span class=\"toc-item-num\">3.3.1&nbsp;&nbsp;</span>Get the information of the future launches (confirmed and the ones to be defined)</a></span></li><li><span><a href=\"#Merge-the-DataFrames-into-a-single-one\" data-toc-modified-id=\"Merge-the-DataFrames-into-a-single-one-3.3.2\"><span class=\"toc-item-num\">3.3.2&nbsp;&nbsp;</span>Merge the DataFrames into a single one</a></span></li><li><span><a href=\"#Delete-the-columns-which-do-not-contain-relevant-information\" data-toc-modified-id=\"Delete-the-columns-which-do-not-contain-relevant-information-3.3.3\"><span class=\"toc-item-num\">3.3.3&nbsp;&nbsp;</span>Delete the columns which do not contain relevant information</a></span></li></ul></li><li><span><a href=\"#Export-to-a-CSV-file\" data-toc-modified-id=\"Export-to-a-CSV-file-3.4\"><span class=\"toc-item-num\">3.4&nbsp;&nbsp;</span>Export to a CSV file</a></span></li></ul></li><li><span><a href=\"#Webscraping-data\" data-toc-modified-id=\"Webscraping-data-4\"><span class=\"toc-item-num\">4&nbsp;&nbsp;</span>Webscraping data</a></span><ul class=\"toc-item\"><li><ul class=\"toc-item\"><li><span><a href=\"#Input:-List-with-the-URLs-to-scrap-and-the-launch-name\" data-toc-modified-id=\"Input:-List-with-the-URLs-to-scrap-and-the-launch-name-4.0.1\"><span class=\"toc-item-num\">4.0.1&nbsp;&nbsp;</span>Input: List with the URLs to scrap and the launch name</a></span></li></ul></li><li><span><a href=\"#Define-a-spider\" data-toc-modified-id=\"Define-a-spider-4.1\"><span class=\"toc-item-num\">4.1&nbsp;&nbsp;</span>Define a spider</a></span></li><li><span><a href=\"#Define-the-parser\" data-toc-modified-id=\"Define-the-parser-4.2\"><span class=\"toc-item-num\">4.2&nbsp;&nbsp;</span>Define the parser</a></span></li><li><span><a href=\"#Execution\" data-toc-modified-id=\"Execution-4.3\"><span class=\"toc-item-num\">4.3&nbsp;&nbsp;</span>Execution</a></span><ul class=\"toc-item\"><li><span><a href=\"#Check-the-length-and-one-of-the-elements\" data-toc-modified-id=\"Check-the-length-and-one-of-the-elements-4.3.1\"><span class=\"toc-item-num\">4.3.1&nbsp;&nbsp;</span>Check the length and one of the elements</a></span></li></ul></li><li><span><a href=\"#Convert-to-a-DataFrame\" data-toc-modified-id=\"Convert-to-a-DataFrame-4.4\"><span class=\"toc-item-num\">4.4&nbsp;&nbsp;</span>Convert to a DataFrame</a></span></li><li><span><a href=\"#Export-to-CSV\" data-toc-modified-id=\"Export-to-CSV-4.5\"><span class=\"toc-item-num\">4.5&nbsp;&nbsp;</span>Export to CSV</a></span></li></ul></li><li><span><a href=\"#Data-merge\" data-toc-modified-id=\"Data-merge-5\"><span class=\"toc-item-num\">5&nbsp;&nbsp;</span>Data merge</a></span><ul class=\"toc-item\"><li><span><a href=\"#Import-both-csv-files\" data-toc-modified-id=\"Import-both-csv-files-5.1\"><span class=\"toc-item-num\">5.1&nbsp;&nbsp;</span>Import both csv files</a></span></li><li><span><a href=\"#Merge-both-data-frames\" data-toc-modified-id=\"Merge-both-data-frames-5.2\"><span class=\"toc-item-num\">5.2&nbsp;&nbsp;</span>Merge both data frames</a></span></li><li><span><a href=\"#Delete-the-slug-and-date-columns-(not-needed-anymore)\" data-toc-modified-id=\"Delete-the-slug-and-date-columns-(not-needed-anymore)-5.3\"><span class=\"toc-item-num\">5.3&nbsp;&nbsp;</span>Delete the slug and date columns (not needed anymore)</a></span></li><li><span><a href=\"#Convert-the-net-column-to-datetime\" data-toc-modified-id=\"Convert-the-net-column-to-datetime-5.4\"><span class=\"toc-item-num\">5.4&nbsp;&nbsp;</span>Convert the net column to datetime</a></span></li><li><span><a href=\"#Export-to-a-CSV\" data-toc-modified-id=\"Export-to-a-CSV-5.5\"><span class=\"toc-item-num\">5.5&nbsp;&nbsp;</span>Export to a CSV</a></span></li></ul></li><li><span><a href=\"#Analysis\" data-toc-modified-id=\"Analysis-6\"><span class=\"toc-item-num\">6&nbsp;&nbsp;</span>Analysis</a></span><ul class=\"toc-item\"><li><span><a href=\"#Next-confirmed-launches\" data-toc-modified-id=\"Next-confirmed-launches-6.1\"><span class=\"toc-item-num\">6.1&nbsp;&nbsp;</span>Next confirmed launches</a></span></li><li><span><a href=\"#Next-10-launches-TBD\" data-toc-modified-id=\"Next-10-launches-TBD-6.2\"><span class=\"toc-item-num\">6.2&nbsp;&nbsp;</span>Next 10 launches TBD</a></span></li><li><span><a href=\"#How-many-launches-are-planned-for-each-location-in-the-next-12-months?\" data-toc-modified-id=\"How-many-launches-are-planned-for-each-location-in-the-next-12-months?-6.3\"><span class=\"toc-item-num\">6.3&nbsp;&nbsp;</span>How many launches are planned for each location in the next 12 months?</a></span><ul class=\"toc-item\"><li><span><a href=\"#Filter-by-time-(only-the-next-12-months)\" data-toc-modified-id=\"Filter-by-time-(only-the-next-12-months)-6.3.1\"><span class=\"toc-item-num\">6.3.1&nbsp;&nbsp;</span>Filter by time (only the next 12 months)</a></span></li><li><span><a href=\"#Group-by-location-and-count\" data-toc-modified-id=\"Group-by-location-and-count-6.3.2\"><span class=\"toc-item-num\">6.3.2&nbsp;&nbsp;</span>Group by location and count</a></span></li></ul></li></ul></li></ul></div>"
   ]
  },
  {
   "cell_type": "markdown",
   "metadata": {
    "slideshow": {
     "slide_type": "skip"
    }
   },
   "source": [
    "## Imports"
   ]
  },
  {
   "cell_type": "markdown",
   "metadata": {
    "slideshow": {
     "slide_type": "skip"
    }
   },
   "source": [
    "Libraries to import for the API and webscraping"
   ]
  },
  {
   "cell_type": "code",
   "execution_count": 1,
   "metadata": {
    "ExecuteTime": {
     "end_time": "2020-08-21T18:10:34.730581Z",
     "start_time": "2020-08-21T18:10:33.422748Z"
    },
    "slideshow": {
     "slide_type": "skip"
    }
   },
   "outputs": [],
   "source": [
    "import requests, random, time\n",
    "from datetime import datetime, date, timedelta\n",
    "from bs4 import BeautifulSoup\n",
    "import json\n",
    "import pandas as pd\n",
    "import geocoder"
   ]
  },
  {
   "cell_type": "markdown",
   "metadata": {
    "slideshow": {
     "slide_type": "slide"
    }
   },
   "source": [
    "## API\n",
    "\n",
    "\n",
    "\n",
    "\n",
    "\n",
    "\n",
    "\n",
    "\n",
    "![API](pictures/api.png)"
   ]
  },
  {
   "cell_type": "markdown",
   "metadata": {
    "slideshow": {
     "slide_type": "subslide"
    }
   },
   "source": [
    "### API information\n",
    "\n",
    "**Mode**\n",
    "\n",
    "The options are:\n",
    "- list\n",
    "- detailed\n",
    "\n",
    "**Status**\n",
    "\n",
    "It refers to the launch status. The options are:\n",
    "- 1 = GO\n",
    "- 2 = TBD\n",
    "- 3 = Success\n",
    "- 4 = Failure\n",
    "- 5 = Hold\n",
    "- 6 = In-flight\n",
    "- 7 = Partial failure"
   ]
  },
  {
   "cell_type": "markdown",
   "metadata": {
    "slideshow": {
     "slide_type": "subslide"
    }
   },
   "source": [
    "### Function to get the information of the launches depending on their status"
   ]
  },
  {
   "cell_type": "code",
   "execution_count": 2,
   "metadata": {
    "ExecuteTime": {
     "end_time": "2020-08-21T18:11:18.114867Z",
     "start_time": "2020-08-21T18:11:18.094131Z"
    },
    "slideshow": {
     "slide_type": "subslide"
    }
   },
   "outputs": [],
   "source": [
    "def get_launches(limit=100, status=2):\n",
    "    \n",
    "    # Initial offset of the query\n",
    "    offset = 0\n",
    "    # API URL\n",
    "    url_api = 'https://spacelaunchnow.me/api/3.3.0/launch/?'\n",
    "    \n",
    "    # Loop until all the elements are requested\n",
    "    while True:\n",
    "        \n",
    "        # Query\n",
    "        q = {'mode':'list', 'limit':limit, 'offset':offset, 'status':status}\n",
    "        # Request\n",
    "        r = requests.get(url_api, params=q).json()\n",
    "        \n",
    "        # First request:\n",
    "        if offset == 0:\n",
    "            # Export the information to a DataFrame\n",
    "            launches = pd.json_normalize(r['results'])\n",
    "        else:\n",
    "            #merge to previous dataframe\n",
    "            df = pd.json_normalize(r['results'])\n",
    "            launches = pd.concat([launches, df], ignore_index=True)\n",
    "            \n",
    "        # Check if all the elements have been requested and if so, break the loop\n",
    "        if (offset+limit) < r['count']:\n",
    "            offset += limit\n",
    "        else:\n",
    "            break\n",
    "    \n",
    "    return launches"
   ]
  },
  {
   "cell_type": "markdown",
   "metadata": {
    "slideshow": {
     "slide_type": "subslide"
    }
   },
   "source": [
    "### Execution"
   ]
  },
  {
   "cell_type": "markdown",
   "metadata": {
    "slideshow": {
     "slide_type": "subslide"
    }
   },
   "source": [
    "#### Get the information of the future launches (confirmed and the ones to be defined)"
   ]
  },
  {
   "cell_type": "code",
   "execution_count": 3,
   "metadata": {
    "ExecuteTime": {
     "end_time": "2020-08-21T18:11:26.329322Z",
     "start_time": "2020-08-21T18:11:24.612496Z"
    },
    "slideshow": {
     "slide_type": "-"
    }
   },
   "outputs": [],
   "source": [
    "launches_go = get_launches(status=1)\n",
    "launches_tbd = get_launches(status=2)"
   ]
  },
  {
   "cell_type": "markdown",
   "metadata": {
    "slideshow": {
     "slide_type": "subslide"
    }
   },
   "source": [
    "#### Merge the DataFrames into a single one"
   ]
  },
  {
   "cell_type": "code",
   "execution_count": 4,
   "metadata": {
    "ExecuteTime": {
     "end_time": "2020-08-21T18:11:26.458255Z",
     "start_time": "2020-08-21T18:11:26.441589Z"
    },
    "slideshow": {
     "slide_type": "skip"
    }
   },
   "outputs": [],
   "source": [
    "launches_info = pd.concat([launches_go, launches_tbd], ignore_index=True)"
   ]
  },
  {
   "cell_type": "code",
   "execution_count": 104,
   "metadata": {
    "ExecuteTime": {
     "end_time": "2020-08-21T18:11:26.697009Z",
     "start_time": "2020-08-21T18:11:26.649065Z"
    },
    "slideshow": {
     "slide_type": "-"
    }
   },
   "outputs": [
    {
     "data": {
      "text/html": [
       "<div>\n",
       "<style scoped>\n",
       "    .dataframe tbody tr th:only-of-type {\n",
       "        vertical-align: middle;\n",
       "    }\n",
       "\n",
       "    .dataframe tbody tr th {\n",
       "        vertical-align: top;\n",
       "    }\n",
       "\n",
       "    .dataframe thead th {\n",
       "        text-align: right;\n",
       "    }\n",
       "</style>\n",
       "<table border=\"1\" class=\"dataframe\">\n",
       "  <thead>\n",
       "    <tr style=\"text-align: right;\">\n",
       "      <th></th>\n",
       "      <th>slug</th>\n",
       "      <th>name</th>\n",
       "      <th>net</th>\n",
       "      <th>window_end</th>\n",
       "      <th>window_start</th>\n",
       "      <th>mission</th>\n",
       "      <th>pad</th>\n",
       "      <th>location</th>\n",
       "      <th>orbit</th>\n",
       "      <th>status.name</th>\n",
       "      <th>mission_type</th>\n",
       "    </tr>\n",
       "  </thead>\n",
       "  <tbody>\n",
       "    <tr>\n",
       "      <th>0</th>\n",
       "      <td>https://spacelaunchnow.me/launch/long-march-2d...</td>\n",
       "      <td>Long March 2D | Gaofen-9-05</td>\n",
       "      <td>2020-08-23T02:25:00Z</td>\n",
       "      <td>2020-08-23T02:43:00Z</td>\n",
       "      <td>2020-08-23T02:19:00Z</td>\n",
       "      <td>None</td>\n",
       "      <td>Launch Area 4 (SLS-2 / 603)</td>\n",
       "      <td>Jiuquan, People's Republic of China</td>\n",
       "      <td>None</td>\n",
       "      <td>Go</td>\n",
       "      <td>NaN</td>\n",
       "    </tr>\n",
       "    <tr>\n",
       "      <th>1</th>\n",
       "      <td>https://spacelaunchnow.me/launch/delta-iv-heav...</td>\n",
       "      <td>Delta IV Heavy | NROL-44</td>\n",
       "      <td>2020-08-26T06:16:00Z</td>\n",
       "      <td>2020-08-26T10:25:00Z</td>\n",
       "      <td>2020-08-26T05:50:00Z</td>\n",
       "      <td>None</td>\n",
       "      <td>Space Launch Complex 37B</td>\n",
       "      <td>Cape Canaveral, FL, USA</td>\n",
       "      <td>None</td>\n",
       "      <td>Go</td>\n",
       "      <td>NaN</td>\n",
       "    </tr>\n",
       "  </tbody>\n",
       "</table>\n",
       "</div>"
      ],
      "text/plain": [
       "                                                slug  \\\n",
       "0  https://spacelaunchnow.me/launch/long-march-2d...   \n",
       "1  https://spacelaunchnow.me/launch/delta-iv-heav...   \n",
       "\n",
       "                          name                   net            window_end  \\\n",
       "0  Long March 2D | Gaofen-9-05  2020-08-23T02:25:00Z  2020-08-23T02:43:00Z   \n",
       "1     Delta IV Heavy | NROL-44  2020-08-26T06:16:00Z  2020-08-26T10:25:00Z   \n",
       "\n",
       "           window_start mission                          pad  \\\n",
       "0  2020-08-23T02:19:00Z    None  Launch Area 4 (SLS-2 / 603)   \n",
       "1  2020-08-26T05:50:00Z    None     Space Launch Complex 37B   \n",
       "\n",
       "                              location orbit status.name mission_type  \n",
       "0  Jiuquan, People's Republic of China  None          Go          NaN  \n",
       "1              Cape Canaveral, FL, USA  None          Go          NaN  "
      ]
     },
     "metadata": {},
     "output_type": "display_data"
    }
   ],
   "source": [
    "display(launches_info.head(2))"
   ]
  },
  {
   "cell_type": "markdown",
   "metadata": {
    "slideshow": {
     "slide_type": "skip"
    }
   },
   "source": [
    "#### Delete the columns which do not contain relevant information"
   ]
  },
  {
   "cell_type": "code",
   "execution_count": 6,
   "metadata": {
    "ExecuteTime": {
     "end_time": "2020-08-21T18:11:29.410476Z",
     "start_time": "2020-08-21T18:11:29.400866Z"
    },
    "slideshow": {
     "slide_type": "skip"
    }
   },
   "outputs": [
    {
     "data": {
      "text/plain": [
       "Index(['id', 'url', 'launch_library_id', 'slug', 'name', 'net', 'window_end',\n",
       "       'window_start', 'mission', 'pad', 'location', 'landing',\n",
       "       'landing_success', 'launcher', 'orbit', 'image', 'status.id',\n",
       "       'status.name', 'mission_type'],\n",
       "      dtype='object')"
      ]
     },
     "metadata": {},
     "output_type": "display_data"
    }
   ],
   "source": [
    "display(launches_info.columns)"
   ]
  },
  {
   "cell_type": "code",
   "execution_count": 7,
   "metadata": {
    "ExecuteTime": {
     "end_time": "2020-08-21T18:11:29.946332Z",
     "start_time": "2020-08-21T18:11:29.938946Z"
    },
    "slideshow": {
     "slide_type": "skip"
    }
   },
   "outputs": [],
   "source": [
    "launches_info.drop(columns=['id', 'url', 'launch_library_id', 'landing',\n",
    "                            'landing_success', 'launcher', 'image', 'status.id'], inplace=True)"
   ]
  },
  {
   "cell_type": "markdown",
   "metadata": {
    "slideshow": {
     "slide_type": "skip"
    }
   },
   "source": [
    "### Export to a CSV file"
   ]
  },
  {
   "cell_type": "code",
   "execution_count": 8,
   "metadata": {
    "ExecuteTime": {
     "end_time": "2020-08-21T18:11:32.803163Z",
     "start_time": "2020-08-21T18:11:32.787390Z"
    },
    "slideshow": {
     "slide_type": "skip"
    }
   },
   "outputs": [],
   "source": [
    "launches_info.to_csv('output/api_data.csv', index=False)"
   ]
  },
  {
   "cell_type": "markdown",
   "metadata": {
    "slideshow": {
     "slide_type": "slide"
    }
   },
   "source": [
    "## Webscraping data\n",
    "\n",
    "\n",
    "![Web](pictures/webscraping.png)"
   ]
  },
  {
   "cell_type": "markdown",
   "metadata": {
    "slideshow": {
     "slide_type": "skip"
    }
   },
   "source": [
    "From the API, there is a URL associated a each launch. Scrapping it, I will obtain more information about the launch and this information will be added to the DataFrame to complete it."
   ]
  },
  {
   "cell_type": "markdown",
   "metadata": {
    "slideshow": {
     "slide_type": "subslide"
    }
   },
   "source": [
    "#### Input: List with the URLs to scrap and the launch name"
   ]
  },
  {
   "cell_type": "code",
   "execution_count": 9,
   "metadata": {
    "ExecuteTime": {
     "end_time": "2020-08-21T18:12:11.541626Z",
     "start_time": "2020-08-21T18:12:11.530382Z"
    },
    "slideshow": {
     "slide_type": "-"
    }
   },
   "outputs": [],
   "source": [
    "input_list = launches_info.sort_values(['net'])[['name','slug']].values.tolist()"
   ]
  },
  {
   "cell_type": "markdown",
   "metadata": {
    "slideshow": {
     "slide_type": "subslide"
    }
   },
   "source": [
    "### Define a spider"
   ]
  },
  {
   "cell_type": "code",
   "execution_count": 11,
   "metadata": {
    "ExecuteTime": {
     "end_time": "2020-08-21T18:12:23.507106Z",
     "start_time": "2020-08-21T18:12:23.484226Z"
    },
    "slideshow": {
     "slide_type": "-"
    }
   },
   "outputs": [],
   "source": [
    "class LaunchSpider:\n",
    "    \"\"\"\n",
    "    Parameters:\n",
    "    - url_list: List of urls to scrape and the name\n",
    "    - sleep_interval: The time interval in seconds to delay between requests. If <0, requests will not be delayed.\n",
    "    - content_parser: The function reference that will extract the intended info from the scraped content\n",
    "    - output_list: it will be the final output list with the information scrapped\n",
    "    \"\"\"\n",
    "    def __init__(self, url_list, sleep_interval=-1, content_parser=None):\n",
    "        self.url_list = url_list\n",
    "        self.sleep_interval = sleep_interval\n",
    "        self.content_parser = content_parser\n",
    "        self.output_list = []\n",
    "        \n",
    "    \"\"\"\n",
    "    Generate a random user-agent for the headers\n",
    "    \"\"\"\n",
    "    def get_random_ua(self):\n",
    "         browsers = ['Mozilla/5.0 CK={} (Windows NT 6.1; WOW64; Trident/7.0; rv:11.0) like Gecko',\n",
    "           'Mozilla/5.0 (iPhone; CPU iPhone OS 12_2 like Mac OS X) AppleWebKit/605.1.15 (KHTML, like Gecko) Mobile/15E148\t',\n",
    "           'Mozilla/5.0 (Windows NT 10.0; Win64; x64) AppleWebKit/537.36 (KHTML, like Gecko) Chrome/69.0.3497.100 Safari/537.36',\n",
    "           'Mozilla/5.0 (X11; Linux x86_64) AppleWebKit/537.36 (KHTML, like Gecko) Chrome/44.0.2403.157 Safari/537.36']\n",
    "        \n",
    "         self.user_agent = random.choice(browsers)\n",
    "    \n",
    "    \"\"\"\n",
    "    Scrape the content of a single url\n",
    "    \"\"\"\n",
    "    def scrape_url(self, url):\n",
    "        \n",
    "        # Get a random user-agent\n",
    "        ua = self.get_random_ua()\n",
    "        \n",
    "        # Generate the headers\n",
    "        headers = {'user-agent':ua}\n",
    "    \n",
    "        # If there is an error, print it\n",
    "        try:\n",
    "            response = requests.get(url, headers=headers, timeout=10)\n",
    "            if response.status_code >= 400 and response.status_code < 500:\n",
    "                print('The request failed because the resource either does not exist or is forbidden')\n",
    "            elif response.status_code >= 300 and response.status_code < 400:\n",
    "                print('Redirection error')\n",
    "            elif response.status_code >= 500:\n",
    "                print('Server error')\n",
    "        except requests.exceptions.Timeout:\n",
    "            # timeout error\n",
    "            print('There has been a timeout error')\n",
    "        except requests.exceptions.TooManyRedirects:\n",
    "            # Too many redirects error\n",
    "            print('Too many redirects')\n",
    "        except requests.exceptions.SSLError:\n",
    "            # SSL error\n",
    "            print('SSL error')\n",
    "        except requests.exceptions.RequestException as e:\n",
    "            # Other unknown error\n",
    "            print(f'{e}')\n",
    "        \n",
    "        result = self.content_parser(response.content)\n",
    "        self.output_results(result)\n",
    "    \n",
    "    \"\"\"\n",
    "    Export the scraped content to the output list attribute\n",
    "    \"\"\"\n",
    "    def output_results(self, r):\n",
    "        \n",
    "        # append to the output list\n",
    "        self.output_list.append(r)\n",
    "        \n",
    "    \"\"\"\n",
    "    After the class is initiated, call this function to start the scraping of the urls list.\n",
    "    This function uses a FOR loop to call `scrape_url()` for each url to scrape\n",
    "    \"\"\"\n",
    "    def kickstart(self):\n",
    "        for name, url in self.url_list:\n",
    "            self.scrape_url(url)\n",
    "            if self.sleep_interval > 0:\n",
    "                time.sleep(self.sleep_interval)\n",
    "            \n",
    "        # give the results list as an output\n",
    "        return self.output_list"
   ]
  },
  {
   "cell_type": "markdown",
   "metadata": {
    "slideshow": {
     "slide_type": "subslide"
    }
   },
   "source": [
    "### Define the parser"
   ]
  },
  {
   "cell_type": "markdown",
   "metadata": {
    "slideshow": {
     "slide_type": "notes"
    }
   },
   "source": [
    "From each URL, we would like to obtain the description of the launch. It usually includes a description of the payload inside the rocket."
   ]
  },
  {
   "cell_type": "code",
   "execution_count": 12,
   "metadata": {
    "ExecuteTime": {
     "end_time": "2020-08-21T18:12:25.200873Z",
     "start_time": "2020-08-21T18:12:25.187027Z"
    },
    "slideshow": {
     "slide_type": "-"
    }
   },
   "outputs": [],
   "source": [
    "def launch_parser(content):\n",
    "\n",
    "    soup = BeautifulSoup(content, 'html.parser')\n",
    "    desc = 'no information'\n",
    "    date = soup.find('h3', attrs={'id':'date'}).text\n",
    "    \n",
    "    # Split the date to keep only year, month and day\n",
    "    date = date.split()\n",
    "    month = date[0]\n",
    "    month = month[:3]\n",
    "    day = date[1]\n",
    "    year = date[2]\n",
    "    date = ' '.join([month, day, year])\n",
    "    \n",
    "    #Transform the date into a datetime\n",
    "    date = datetime.strptime(date, '%b %d, %Y,')\n",
    "    \n",
    "    # Some of the launches do not have any description yet and in this case there is\n",
    "    # no additional information to add\n",
    "    \n",
    "    try: \n",
    "        desc = soup.find('div', attrs={'class':'col-md-12 mx-auto'}).find('p').text       \n",
    "        return [desc, date]\n",
    "    \n",
    "    except:\n",
    "        return [desc, date]"
   ]
  },
  {
   "cell_type": "markdown",
   "metadata": {
    "slideshow": {
     "slide_type": "subslide"
    }
   },
   "source": [
    "### Execution"
   ]
  },
  {
   "cell_type": "code",
   "execution_count": 15,
   "metadata": {
    "ExecuteTime": {
     "end_time": "2020-08-21T18:12:59.212825Z",
     "start_time": "2020-08-21T18:12:59.203415Z"
    },
    "slideshow": {
     "slide_type": "-"
    }
   },
   "outputs": [],
   "source": [
    "spider = LaunchSpider(input_list, sleep_interval=0, content_parser=launch_parser)"
   ]
  },
  {
   "cell_type": "code",
   "execution_count": 16,
   "metadata": {
    "ExecuteTime": {
     "end_time": "2020-08-21T18:15:03.702863Z",
     "start_time": "2020-08-21T18:12:59.831414Z"
    },
    "slideshow": {
     "slide_type": "-"
    }
   },
   "outputs": [],
   "source": [
    "launch_list = spider.kickstart()"
   ]
  },
  {
   "cell_type": "markdown",
   "metadata": {
    "slideshow": {
     "slide_type": "notes"
    }
   },
   "source": [
    "#### Check the length and one of the elements"
   ]
  },
  {
   "cell_type": "code",
   "execution_count": 17,
   "metadata": {
    "ExecuteTime": {
     "end_time": "2020-08-21T18:15:15.808224Z",
     "start_time": "2020-08-21T18:15:15.799982Z"
    },
    "slideshow": {
     "slide_type": "notes"
    }
   },
   "outputs": [
    {
     "data": {
      "text/plain": [
       "202"
      ]
     },
     "execution_count": 17,
     "metadata": {},
     "output_type": "execute_result"
    }
   ],
   "source": [
    "len(launch_list)"
   ]
  },
  {
   "cell_type": "code",
   "execution_count": 18,
   "metadata": {
    "ExecuteTime": {
     "end_time": "2020-08-21T18:15:16.571879Z",
     "start_time": "2020-08-21T18:15:16.562308Z"
    },
    "slideshow": {
     "slide_type": "notes"
    }
   },
   "outputs": [
    {
     "data": {
      "text/plain": [
       "['no information', datetime.datetime(2020, 10, 1, 0, 0)]"
      ]
     },
     "execution_count": 18,
     "metadata": {},
     "output_type": "execute_result"
    }
   ],
   "source": [
    "launch_list[16]"
   ]
  },
  {
   "cell_type": "markdown",
   "metadata": {
    "slideshow": {
     "slide_type": "subslide"
    }
   },
   "source": [
    "### Convert to a DataFrame"
   ]
  },
  {
   "cell_type": "code",
   "execution_count": 19,
   "metadata": {
    "ExecuteTime": {
     "end_time": "2020-08-21T18:15:21.763580Z",
     "start_time": "2020-08-21T18:15:21.756612Z"
    },
    "slideshow": {
     "slide_type": "skip"
    }
   },
   "outputs": [],
   "source": [
    "data = {'name':[name for name, url in input_list], 'description': [desc for desc, date in launch_list], 'date':[date for desc, date in launch_list]}"
   ]
  },
  {
   "cell_type": "code",
   "execution_count": 20,
   "metadata": {
    "ExecuteTime": {
     "end_time": "2020-08-21T18:15:22.554295Z",
     "start_time": "2020-08-21T18:15:22.547903Z"
    },
    "slideshow": {
     "slide_type": "skip"
    }
   },
   "outputs": [],
   "source": [
    "launch_description = pd.DataFrame(data)"
   ]
  },
  {
   "cell_type": "code",
   "execution_count": 21,
   "metadata": {
    "ExecuteTime": {
     "end_time": "2020-08-21T18:15:23.254735Z",
     "start_time": "2020-08-21T18:15:23.238019Z"
    },
    "slideshow": {
     "slide_type": "subslide"
    }
   },
   "outputs": [
    {
     "data": {
      "text/html": [
       "<div>\n",
       "<style scoped>\n",
       "    .dataframe tbody tr th:only-of-type {\n",
       "        vertical-align: middle;\n",
       "    }\n",
       "\n",
       "    .dataframe tbody tr th {\n",
       "        vertical-align: top;\n",
       "    }\n",
       "\n",
       "    .dataframe thead th {\n",
       "        text-align: right;\n",
       "    }\n",
       "</style>\n",
       "<table border=\"1\" class=\"dataframe\">\n",
       "  <thead>\n",
       "    <tr style=\"text-align: right;\">\n",
       "      <th></th>\n",
       "      <th>name</th>\n",
       "      <th>description</th>\n",
       "      <th>date</th>\n",
       "    </tr>\n",
       "  </thead>\n",
       "  <tbody>\n",
       "    <tr>\n",
       "      <th>0</th>\n",
       "      <td>Long March 2D | Gaofen-9-05</td>\n",
       "      <td>no information</td>\n",
       "      <td>2020-08-23</td>\n",
       "    </tr>\n",
       "    <tr>\n",
       "      <th>1</th>\n",
       "      <td>Delta IV Heavy | NROL-44</td>\n",
       "      <td>no information</td>\n",
       "      <td>2020-08-26</td>\n",
       "    </tr>\n",
       "    <tr>\n",
       "      <th>2</th>\n",
       "      <td>Falcon 9 Block 5 | SAOCOM 1B</td>\n",
       "      <td>The SAOCOM 1B spacecraft is the second of the ...</td>\n",
       "      <td>2020-08-27</td>\n",
       "    </tr>\n",
       "    <tr>\n",
       "      <th>3</th>\n",
       "      <td>Electron | STP-27RM</td>\n",
       "      <td>A U.S. Air Force experimental spacecraft.</td>\n",
       "      <td>2020-08-31</td>\n",
       "    </tr>\n",
       "    <tr>\n",
       "      <th>4</th>\n",
       "      <td>MOMO | Flight 7</td>\n",
       "      <td>The sixth (Flight 6 has not happened yet) flig...</td>\n",
       "      <td>2020-08-31</td>\n",
       "    </tr>\n",
       "  </tbody>\n",
       "</table>\n",
       "</div>"
      ],
      "text/plain": [
       "                           name  \\\n",
       "0   Long March 2D | Gaofen-9-05   \n",
       "1      Delta IV Heavy | NROL-44   \n",
       "2  Falcon 9 Block 5 | SAOCOM 1B   \n",
       "3           Electron | STP-27RM   \n",
       "4               MOMO | Flight 7   \n",
       "\n",
       "                                         description       date  \n",
       "0                                     no information 2020-08-23  \n",
       "1                                     no information 2020-08-26  \n",
       "2  The SAOCOM 1B spacecraft is the second of the ... 2020-08-27  \n",
       "3          A U.S. Air Force experimental spacecraft. 2020-08-31  \n",
       "4  The sixth (Flight 6 has not happened yet) flig... 2020-08-31  "
      ]
     },
     "execution_count": 21,
     "metadata": {},
     "output_type": "execute_result"
    }
   ],
   "source": [
    "launch_description.head()"
   ]
  },
  {
   "cell_type": "markdown",
   "metadata": {
    "slideshow": {
     "slide_type": "subslide"
    }
   },
   "source": [
    "### Export to CSV"
   ]
  },
  {
   "cell_type": "code",
   "execution_count": 23,
   "metadata": {
    "ExecuteTime": {
     "end_time": "2020-08-21T18:15:37.775397Z",
     "start_time": "2020-08-21T18:15:37.761178Z"
    },
    "slideshow": {
     "slide_type": "skip"
    }
   },
   "outputs": [],
   "source": [
    "launch_description.to_csv('output/web_data.csv', index=False)"
   ]
  },
  {
   "cell_type": "markdown",
   "metadata": {
    "slideshow": {
     "slide_type": "slide"
    }
   },
   "source": [
    "## Data merge"
   ]
  },
  {
   "cell_type": "markdown",
   "metadata": {
    "slideshow": {
     "slide_type": "subslide"
    }
   },
   "source": [
    "### Import both csv files"
   ]
  },
  {
   "cell_type": "code",
   "execution_count": 24,
   "metadata": {
    "ExecuteTime": {
     "end_time": "2020-08-21T18:15:39.932300Z",
     "start_time": "2020-08-21T18:15:39.908751Z"
    }
   },
   "outputs": [],
   "source": [
    "df1 = pd.read_csv('output/api_data.csv')\n",
    "df2 = pd.read_csv('output/web_data.csv')"
   ]
  },
  {
   "cell_type": "markdown",
   "metadata": {
    "slideshow": {
     "slide_type": "subslide"
    }
   },
   "source": [
    "### Merge both data frames"
   ]
  },
  {
   "cell_type": "code",
   "execution_count": 25,
   "metadata": {
    "ExecuteTime": {
     "end_time": "2020-08-21T18:15:41.724787Z",
     "start_time": "2020-08-21T18:15:41.712330Z"
    }
   },
   "outputs": [
    {
     "data": {
      "text/plain": [
       "Index(['slug', 'name', 'net', 'window_end', 'window_start', 'mission', 'pad',\n",
       "       'location', 'orbit', 'status.name', 'mission_type'],\n",
       "      dtype='object')"
      ]
     },
     "execution_count": 25,
     "metadata": {},
     "output_type": "execute_result"
    }
   ],
   "source": [
    "df1.columns"
   ]
  },
  {
   "cell_type": "code",
   "execution_count": 26,
   "metadata": {
    "ExecuteTime": {
     "end_time": "2020-08-21T18:15:42.287896Z",
     "start_time": "2020-08-21T18:15:42.274191Z"
    }
   },
   "outputs": [
    {
     "data": {
      "text/plain": [
       "Index(['name', 'description', 'date'], dtype='object')"
      ]
     },
     "execution_count": 26,
     "metadata": {},
     "output_type": "execute_result"
    }
   ],
   "source": [
    "df2.columns"
   ]
  },
  {
   "cell_type": "markdown",
   "metadata": {},
   "source": [
    "Both dataframes have the column \"name\" in common"
   ]
  },
  {
   "cell_type": "code",
   "execution_count": 27,
   "metadata": {
    "ExecuteTime": {
     "end_time": "2020-08-21T18:15:44.200527Z",
     "start_time": "2020-08-21T18:15:44.188529Z"
    }
   },
   "outputs": [],
   "source": [
    "df3 = pd.merge(df1, df2, how='inner', on='name')"
   ]
  },
  {
   "cell_type": "code",
   "execution_count": 28,
   "metadata": {
    "ExecuteTime": {
     "end_time": "2020-08-21T18:15:45.344919Z",
     "start_time": "2020-08-21T18:15:45.301162Z"
    }
   },
   "outputs": [
    {
     "data": {
      "text/html": [
       "<div>\n",
       "<style scoped>\n",
       "    .dataframe tbody tr th:only-of-type {\n",
       "        vertical-align: middle;\n",
       "    }\n",
       "\n",
       "    .dataframe tbody tr th {\n",
       "        vertical-align: top;\n",
       "    }\n",
       "\n",
       "    .dataframe thead th {\n",
       "        text-align: right;\n",
       "    }\n",
       "</style>\n",
       "<table border=\"1\" class=\"dataframe\">\n",
       "  <thead>\n",
       "    <tr style=\"text-align: right;\">\n",
       "      <th></th>\n",
       "      <th>slug</th>\n",
       "      <th>name</th>\n",
       "      <th>net</th>\n",
       "      <th>window_end</th>\n",
       "      <th>window_start</th>\n",
       "      <th>mission</th>\n",
       "      <th>pad</th>\n",
       "      <th>location</th>\n",
       "      <th>orbit</th>\n",
       "      <th>status.name</th>\n",
       "      <th>mission_type</th>\n",
       "      <th>description</th>\n",
       "      <th>date</th>\n",
       "    </tr>\n",
       "  </thead>\n",
       "  <tbody>\n",
       "    <tr>\n",
       "      <th>0</th>\n",
       "      <td>https://spacelaunchnow.me/launch/long-march-2d...</td>\n",
       "      <td>Long March 2D | Gaofen-9-05</td>\n",
       "      <td>2020-08-23T02:25:00Z</td>\n",
       "      <td>2020-08-23T02:43:00Z</td>\n",
       "      <td>2020-08-23T02:19:00Z</td>\n",
       "      <td>NaN</td>\n",
       "      <td>Launch Area 4 (SLS-2 / 603)</td>\n",
       "      <td>Jiuquan, People's Republic of China</td>\n",
       "      <td>NaN</td>\n",
       "      <td>Go</td>\n",
       "      <td>NaN</td>\n",
       "      <td>no information</td>\n",
       "      <td>2020-08-23</td>\n",
       "    </tr>\n",
       "    <tr>\n",
       "      <th>1</th>\n",
       "      <td>https://spacelaunchnow.me/launch/delta-iv-heav...</td>\n",
       "      <td>Delta IV Heavy | NROL-44</td>\n",
       "      <td>2020-08-26T06:16:00Z</td>\n",
       "      <td>2020-08-26T10:25:00Z</td>\n",
       "      <td>2020-08-26T05:50:00Z</td>\n",
       "      <td>NaN</td>\n",
       "      <td>Space Launch Complex 37B</td>\n",
       "      <td>Cape Canaveral, FL, USA</td>\n",
       "      <td>NaN</td>\n",
       "      <td>Go</td>\n",
       "      <td>NaN</td>\n",
       "      <td>no information</td>\n",
       "      <td>2020-08-26</td>\n",
       "    </tr>\n",
       "    <tr>\n",
       "      <th>2</th>\n",
       "      <td>https://spacelaunchnow.me/launch/falcon-9-bloc...</td>\n",
       "      <td>Falcon 9 Block 5 | SAOCOM 1B</td>\n",
       "      <td>2020-08-27T23:19:00Z</td>\n",
       "      <td>2020-08-27T23:19:00Z</td>\n",
       "      <td>2020-08-27T23:19:00Z</td>\n",
       "      <td>SAOCOM 1B</td>\n",
       "      <td>Space Launch Complex 40</td>\n",
       "      <td>Cape Canaveral, FL, USA</td>\n",
       "      <td>NaN</td>\n",
       "      <td>TBD</td>\n",
       "      <td>Communications</td>\n",
       "      <td>The SAOCOM 1B spacecraft is the second of the ...</td>\n",
       "      <td>2020-08-27</td>\n",
       "    </tr>\n",
       "    <tr>\n",
       "      <th>3</th>\n",
       "      <td>https://spacelaunchnow.me/launch/electron-stp-...</td>\n",
       "      <td>Electron | STP-27RM</td>\n",
       "      <td>2020-08-31T00:00:00Z</td>\n",
       "      <td>2020-08-31T00:00:00Z</td>\n",
       "      <td>2020-08-31T00:00:00Z</td>\n",
       "      <td>STP-27RM</td>\n",
       "      <td>Rocket Lab Launch Complex 2</td>\n",
       "      <td>Wallops Island, Virginia, USA</td>\n",
       "      <td>NaN</td>\n",
       "      <td>TBD</td>\n",
       "      <td>Government/Top Secret</td>\n",
       "      <td>A U.S. Air Force experimental spacecraft.</td>\n",
       "      <td>2020-08-31</td>\n",
       "    </tr>\n",
       "    <tr>\n",
       "      <th>4</th>\n",
       "      <td>https://spacelaunchnow.me/launch/momo-flight-7</td>\n",
       "      <td>MOMO | Flight 7</td>\n",
       "      <td>2020-08-31T00:00:00Z</td>\n",
       "      <td>2020-08-31T00:00:00Z</td>\n",
       "      <td>2020-08-31T00:00:00Z</td>\n",
       "      <td>Flight 7</td>\n",
       "      <td>Taiki-cho, Hokkaido, Japan</td>\n",
       "      <td>Taiki-cho, Hokkaido, Japan</td>\n",
       "      <td>Sub Orbital</td>\n",
       "      <td>TBD</td>\n",
       "      <td>Suborbital</td>\n",
       "      <td>The sixth (Flight 6 has not happened yet) flig...</td>\n",
       "      <td>2020-08-31</td>\n",
       "    </tr>\n",
       "    <tr>\n",
       "      <th>...</th>\n",
       "      <td>...</td>\n",
       "      <td>...</td>\n",
       "      <td>...</td>\n",
       "      <td>...</td>\n",
       "      <td>...</td>\n",
       "      <td>...</td>\n",
       "      <td>...</td>\n",
       "      <td>...</td>\n",
       "      <td>...</td>\n",
       "      <td>...</td>\n",
       "      <td>...</td>\n",
       "      <td>...</td>\n",
       "      <td>...</td>\n",
       "    </tr>\n",
       "    <tr>\n",
       "      <th>201</th>\n",
       "      <td>https://spacelaunchnow.me/launch/sls-block-1-e...</td>\n",
       "      <td>SLS Block 1 | Europa Clipper</td>\n",
       "      <td>2025-01-01T00:00:00Z</td>\n",
       "      <td>2025-01-01T00:00:00Z</td>\n",
       "      <td>2025-01-01T00:00:00Z</td>\n",
       "      <td>Europa Clipper</td>\n",
       "      <td>Launch Complex 39B</td>\n",
       "      <td>Kennedy Space Center, FL, USA</td>\n",
       "      <td>Helio-N/A</td>\n",
       "      <td>TBD</td>\n",
       "      <td>Planetary Science</td>\n",
       "      <td>Europa Clipper is the first dedicated mission ...</td>\n",
       "      <td>2025-01-01</td>\n",
       "    </tr>\n",
       "    <tr>\n",
       "      <th>202</th>\n",
       "      <td>https://spacelaunchnow.me/launch/sls-block-1b-...</td>\n",
       "      <td>SLS Block 1B | Artemis-5</td>\n",
       "      <td>2026-01-01T00:00:00Z</td>\n",
       "      <td>2026-01-01T00:00:00Z</td>\n",
       "      <td>2026-01-01T00:00:00Z</td>\n",
       "      <td>NaN</td>\n",
       "      <td>Launch Complex 39B</td>\n",
       "      <td>Kennedy Space Center, FL, USA</td>\n",
       "      <td>NaN</td>\n",
       "      <td>TBD</td>\n",
       "      <td>NaN</td>\n",
       "      <td>no information</td>\n",
       "      <td>2026-01-01</td>\n",
       "    </tr>\n",
       "    <tr>\n",
       "      <th>203</th>\n",
       "      <td>https://spacelaunchnow.me/launch/sls-block-1b-...</td>\n",
       "      <td>SLS Block 1B | Artemis-6</td>\n",
       "      <td>2027-01-01T00:00:00Z</td>\n",
       "      <td>2027-01-01T00:00:00Z</td>\n",
       "      <td>2027-01-01T00:00:00Z</td>\n",
       "      <td>NaN</td>\n",
       "      <td>Launch Complex 39B</td>\n",
       "      <td>Kennedy Space Center, FL, USA</td>\n",
       "      <td>NaN</td>\n",
       "      <td>TBD</td>\n",
       "      <td>NaN</td>\n",
       "      <td>no information</td>\n",
       "      <td>2027-01-01</td>\n",
       "    </tr>\n",
       "    <tr>\n",
       "      <th>204</th>\n",
       "      <td>https://spacelaunchnow.me/launch/sls-block-1b-...</td>\n",
       "      <td>SLS Block 1B | Artemis-7</td>\n",
       "      <td>2028-01-01T00:00:00Z</td>\n",
       "      <td>2028-01-01T00:00:00Z</td>\n",
       "      <td>2028-01-01T00:00:00Z</td>\n",
       "      <td>NaN</td>\n",
       "      <td>Launch Complex 39B</td>\n",
       "      <td>Kennedy Space Center, FL, USA</td>\n",
       "      <td>NaN</td>\n",
       "      <td>TBD</td>\n",
       "      <td>NaN</td>\n",
       "      <td>no information</td>\n",
       "      <td>2028-01-01</td>\n",
       "    </tr>\n",
       "    <tr>\n",
       "      <th>205</th>\n",
       "      <td>https://spacelaunchnow.me/launch/ariane-62-ari...</td>\n",
       "      <td>Ariane 62 | ARIEL &amp; Comet Interceptor</td>\n",
       "      <td>2028-06-01T00:00:00Z</td>\n",
       "      <td>2028-06-01T00:00:00Z</td>\n",
       "      <td>2028-06-01T00:00:00Z</td>\n",
       "      <td>ARIEL &amp; Comet Interceptor</td>\n",
       "      <td>Ariane Launch Area 4</td>\n",
       "      <td>Kourou, French Guiana</td>\n",
       "      <td>L2</td>\n",
       "      <td>TBD</td>\n",
       "      <td>Planetary Science</td>\n",
       "      <td>Atmospheric Remoteâ€sensing Infrared Exoplane...</td>\n",
       "      <td>2028-06-01</td>\n",
       "    </tr>\n",
       "  </tbody>\n",
       "</table>\n",
       "<p>206 rows × 13 columns</p>\n",
       "</div>"
      ],
      "text/plain": [
       "                                                  slug  \\\n",
       "0    https://spacelaunchnow.me/launch/long-march-2d...   \n",
       "1    https://spacelaunchnow.me/launch/delta-iv-heav...   \n",
       "2    https://spacelaunchnow.me/launch/falcon-9-bloc...   \n",
       "3    https://spacelaunchnow.me/launch/electron-stp-...   \n",
       "4       https://spacelaunchnow.me/launch/momo-flight-7   \n",
       "..                                                 ...   \n",
       "201  https://spacelaunchnow.me/launch/sls-block-1-e...   \n",
       "202  https://spacelaunchnow.me/launch/sls-block-1b-...   \n",
       "203  https://spacelaunchnow.me/launch/sls-block-1b-...   \n",
       "204  https://spacelaunchnow.me/launch/sls-block-1b-...   \n",
       "205  https://spacelaunchnow.me/launch/ariane-62-ari...   \n",
       "\n",
       "                                      name                   net  \\\n",
       "0              Long March 2D | Gaofen-9-05  2020-08-23T02:25:00Z   \n",
       "1                 Delta IV Heavy | NROL-44  2020-08-26T06:16:00Z   \n",
       "2             Falcon 9 Block 5 | SAOCOM 1B  2020-08-27T23:19:00Z   \n",
       "3                      Electron | STP-27RM  2020-08-31T00:00:00Z   \n",
       "4                          MOMO | Flight 7  2020-08-31T00:00:00Z   \n",
       "..                                     ...                   ...   \n",
       "201           SLS Block 1 | Europa Clipper  2025-01-01T00:00:00Z   \n",
       "202               SLS Block 1B | Artemis-5  2026-01-01T00:00:00Z   \n",
       "203               SLS Block 1B | Artemis-6  2027-01-01T00:00:00Z   \n",
       "204               SLS Block 1B | Artemis-7  2028-01-01T00:00:00Z   \n",
       "205  Ariane 62 | ARIEL & Comet Interceptor  2028-06-01T00:00:00Z   \n",
       "\n",
       "               window_end          window_start                    mission  \\\n",
       "0    2020-08-23T02:43:00Z  2020-08-23T02:19:00Z                        NaN   \n",
       "1    2020-08-26T10:25:00Z  2020-08-26T05:50:00Z                        NaN   \n",
       "2    2020-08-27T23:19:00Z  2020-08-27T23:19:00Z                  SAOCOM 1B   \n",
       "3    2020-08-31T00:00:00Z  2020-08-31T00:00:00Z                   STP-27RM   \n",
       "4    2020-08-31T00:00:00Z  2020-08-31T00:00:00Z                   Flight 7   \n",
       "..                    ...                   ...                        ...   \n",
       "201  2025-01-01T00:00:00Z  2025-01-01T00:00:00Z             Europa Clipper   \n",
       "202  2026-01-01T00:00:00Z  2026-01-01T00:00:00Z                        NaN   \n",
       "203  2027-01-01T00:00:00Z  2027-01-01T00:00:00Z                        NaN   \n",
       "204  2028-01-01T00:00:00Z  2028-01-01T00:00:00Z                        NaN   \n",
       "205  2028-06-01T00:00:00Z  2028-06-01T00:00:00Z  ARIEL & Comet Interceptor   \n",
       "\n",
       "                             pad                             location  \\\n",
       "0    Launch Area 4 (SLS-2 / 603)  Jiuquan, People's Republic of China   \n",
       "1       Space Launch Complex 37B              Cape Canaveral, FL, USA   \n",
       "2        Space Launch Complex 40              Cape Canaveral, FL, USA   \n",
       "3    Rocket Lab Launch Complex 2        Wallops Island, Virginia, USA   \n",
       "4     Taiki-cho, Hokkaido, Japan           Taiki-cho, Hokkaido, Japan   \n",
       "..                           ...                                  ...   \n",
       "201           Launch Complex 39B        Kennedy Space Center, FL, USA   \n",
       "202           Launch Complex 39B        Kennedy Space Center, FL, USA   \n",
       "203           Launch Complex 39B        Kennedy Space Center, FL, USA   \n",
       "204           Launch Complex 39B        Kennedy Space Center, FL, USA   \n",
       "205         Ariane Launch Area 4                Kourou, French Guiana   \n",
       "\n",
       "           orbit status.name           mission_type  \\\n",
       "0            NaN          Go                    NaN   \n",
       "1            NaN          Go                    NaN   \n",
       "2            NaN         TBD         Communications   \n",
       "3            NaN         TBD  Government/Top Secret   \n",
       "4    Sub Orbital         TBD             Suborbital   \n",
       "..           ...         ...                    ...   \n",
       "201    Helio-N/A         TBD      Planetary Science   \n",
       "202          NaN         TBD                    NaN   \n",
       "203          NaN         TBD                    NaN   \n",
       "204          NaN         TBD                    NaN   \n",
       "205           L2         TBD      Planetary Science   \n",
       "\n",
       "                                           description        date  \n",
       "0                                       no information  2020-08-23  \n",
       "1                                       no information  2020-08-26  \n",
       "2    The SAOCOM 1B spacecraft is the second of the ...  2020-08-27  \n",
       "3            A U.S. Air Force experimental spacecraft.  2020-08-31  \n",
       "4    The sixth (Flight 6 has not happened yet) flig...  2020-08-31  \n",
       "..                                                 ...         ...  \n",
       "201  Europa Clipper is the first dedicated mission ...  2025-01-01  \n",
       "202                                     no information  2026-01-01  \n",
       "203                                     no information  2027-01-01  \n",
       "204                                     no information  2028-01-01  \n",
       "205  Atmospheric Remoteâ€sensing Infrared Exoplane...  2028-06-01  \n",
       "\n",
       "[206 rows x 13 columns]"
      ]
     },
     "execution_count": 28,
     "metadata": {},
     "output_type": "execute_result"
    }
   ],
   "source": [
    "df3"
   ]
  },
  {
   "cell_type": "code",
   "execution_count": 29,
   "metadata": {
    "ExecuteTime": {
     "end_time": "2020-08-21T18:15:50.468522Z",
     "start_time": "2020-08-21T18:15:50.452394Z"
    }
   },
   "outputs": [
    {
     "data": {
      "text/plain": [
       "slug              0\n",
       "name              0\n",
       "net               0\n",
       "window_end        0\n",
       "window_start      0\n",
       "mission         139\n",
       "pad               0\n",
       "location          0\n",
       "orbit           167\n",
       "status.name       0\n",
       "mission_type    139\n",
       "description       0\n",
       "date              0\n",
       "dtype: int64"
      ]
     },
     "execution_count": 29,
     "metadata": {},
     "output_type": "execute_result"
    }
   ],
   "source": [
    "df3.isnull().sum()"
   ]
  },
  {
   "cell_type": "markdown",
   "metadata": {
    "slideshow": {
     "slide_type": "subslide"
    }
   },
   "source": [
    "### Delete the slug and date columns (not needed anymore)"
   ]
  },
  {
   "cell_type": "code",
   "execution_count": 30,
   "metadata": {
    "ExecuteTime": {
     "end_time": "2020-08-21T18:16:32.613380Z",
     "start_time": "2020-08-21T18:16:32.605550Z"
    }
   },
   "outputs": [],
   "source": [
    "df3.drop(columns=['slug', 'date'], inplace=True)"
   ]
  },
  {
   "cell_type": "markdown",
   "metadata": {
    "slideshow": {
     "slide_type": "subslide"
    }
   },
   "source": [
    "### Convert the net column to datetime"
   ]
  },
  {
   "cell_type": "code",
   "execution_count": 31,
   "metadata": {
    "ExecuteTime": {
     "end_time": "2020-08-21T18:16:34.112019Z",
     "start_time": "2020-08-21T18:16:34.103054Z"
    }
   },
   "outputs": [],
   "source": [
    "df3['net'] = pd.to_datetime(df3['net'])"
   ]
  },
  {
   "cell_type": "markdown",
   "metadata": {
    "slideshow": {
     "slide_type": "subslide"
    }
   },
   "source": [
    "### Export to a CSV"
   ]
  },
  {
   "cell_type": "code",
   "execution_count": 32,
   "metadata": {
    "ExecuteTime": {
     "end_time": "2020-08-21T18:16:35.646948Z",
     "start_time": "2020-08-21T18:16:35.630855Z"
    }
   },
   "outputs": [],
   "source": [
    "df3.to_csv('output/merged_data.csv', index=False)"
   ]
  },
  {
   "cell_type": "markdown",
   "metadata": {
    "slideshow": {
     "slide_type": "slide"
    }
   },
   "source": [
    "## Analysis"
   ]
  },
  {
   "cell_type": "markdown",
   "metadata": {
    "slideshow": {
     "slide_type": "subslide"
    }
   },
   "source": [
    "### Next confirmed launches"
   ]
  },
  {
   "cell_type": "code",
   "execution_count": 33,
   "metadata": {
    "ExecuteTime": {
     "end_time": "2020-08-21T18:16:52.712221Z",
     "start_time": "2020-08-21T18:16:52.683774Z"
    },
    "slideshow": {
     "slide_type": "-"
    }
   },
   "outputs": [
    {
     "data": {
      "text/html": [
       "<div>\n",
       "<style scoped>\n",
       "    .dataframe tbody tr th:only-of-type {\n",
       "        vertical-align: middle;\n",
       "    }\n",
       "\n",
       "    .dataframe tbody tr th {\n",
       "        vertical-align: top;\n",
       "    }\n",
       "\n",
       "    .dataframe thead th {\n",
       "        text-align: right;\n",
       "    }\n",
       "</style>\n",
       "<table border=\"1\" class=\"dataframe\">\n",
       "  <thead>\n",
       "    <tr style=\"text-align: right;\">\n",
       "      <th></th>\n",
       "      <th>name</th>\n",
       "      <th>net</th>\n",
       "      <th>window_end</th>\n",
       "      <th>window_start</th>\n",
       "      <th>mission</th>\n",
       "      <th>pad</th>\n",
       "      <th>location</th>\n",
       "      <th>orbit</th>\n",
       "      <th>status.name</th>\n",
       "      <th>mission_type</th>\n",
       "      <th>description</th>\n",
       "    </tr>\n",
       "  </thead>\n",
       "  <tbody>\n",
       "    <tr>\n",
       "      <th>0</th>\n",
       "      <td>Long March 2D | Gaofen-9-05</td>\n",
       "      <td>2020-08-23 02:25:00+00:00</td>\n",
       "      <td>2020-08-23T02:43:00Z</td>\n",
       "      <td>2020-08-23T02:19:00Z</td>\n",
       "      <td>NaN</td>\n",
       "      <td>Launch Area 4 (SLS-2 / 603)</td>\n",
       "      <td>Jiuquan, People's Republic of China</td>\n",
       "      <td>NaN</td>\n",
       "      <td>Go</td>\n",
       "      <td>NaN</td>\n",
       "      <td>no information</td>\n",
       "    </tr>\n",
       "    <tr>\n",
       "      <th>1</th>\n",
       "      <td>Delta IV Heavy | NROL-44</td>\n",
       "      <td>2020-08-26 06:16:00+00:00</td>\n",
       "      <td>2020-08-26T10:25:00Z</td>\n",
       "      <td>2020-08-26T05:50:00Z</td>\n",
       "      <td>NaN</td>\n",
       "      <td>Space Launch Complex 37B</td>\n",
       "      <td>Cape Canaveral, FL, USA</td>\n",
       "      <td>NaN</td>\n",
       "      <td>Go</td>\n",
       "      <td>NaN</td>\n",
       "      <td>no information</td>\n",
       "    </tr>\n",
       "  </tbody>\n",
       "</table>\n",
       "</div>"
      ],
      "text/plain": [
       "                          name                       net  \\\n",
       "0  Long March 2D | Gaofen-9-05 2020-08-23 02:25:00+00:00   \n",
       "1     Delta IV Heavy | NROL-44 2020-08-26 06:16:00+00:00   \n",
       "\n",
       "             window_end          window_start mission  \\\n",
       "0  2020-08-23T02:43:00Z  2020-08-23T02:19:00Z     NaN   \n",
       "1  2020-08-26T10:25:00Z  2020-08-26T05:50:00Z     NaN   \n",
       "\n",
       "                           pad                             location orbit  \\\n",
       "0  Launch Area 4 (SLS-2 / 603)  Jiuquan, People's Republic of China   NaN   \n",
       "1     Space Launch Complex 37B              Cape Canaveral, FL, USA   NaN   \n",
       "\n",
       "  status.name mission_type     description  \n",
       "0          Go          NaN  no information  \n",
       "1          Go          NaN  no information  "
      ]
     },
     "execution_count": 33,
     "metadata": {},
     "output_type": "execute_result"
    }
   ],
   "source": [
    "df3[df3['status.name']=='Go']"
   ]
  },
  {
   "cell_type": "markdown",
   "metadata": {
    "slideshow": {
     "slide_type": "subslide"
    }
   },
   "source": [
    "### Next 10 launches TBD"
   ]
  },
  {
   "cell_type": "code",
   "execution_count": 34,
   "metadata": {
    "ExecuteTime": {
     "end_time": "2020-08-21T18:17:42.780872Z",
     "start_time": "2020-08-21T18:17:42.739166Z"
    },
    "slideshow": {
     "slide_type": "-"
    }
   },
   "outputs": [
    {
     "data": {
      "text/html": [
       "<div>\n",
       "<style scoped>\n",
       "    .dataframe tbody tr th:only-of-type {\n",
       "        vertical-align: middle;\n",
       "    }\n",
       "\n",
       "    .dataframe tbody tr th {\n",
       "        vertical-align: top;\n",
       "    }\n",
       "\n",
       "    .dataframe thead th {\n",
       "        text-align: right;\n",
       "    }\n",
       "</style>\n",
       "<table border=\"1\" class=\"dataframe\">\n",
       "  <thead>\n",
       "    <tr style=\"text-align: right;\">\n",
       "      <th></th>\n",
       "      <th>name</th>\n",
       "      <th>net</th>\n",
       "      <th>window_end</th>\n",
       "      <th>window_start</th>\n",
       "      <th>mission</th>\n",
       "      <th>pad</th>\n",
       "      <th>location</th>\n",
       "      <th>orbit</th>\n",
       "      <th>status.name</th>\n",
       "      <th>mission_type</th>\n",
       "      <th>description</th>\n",
       "    </tr>\n",
       "  </thead>\n",
       "  <tbody>\n",
       "    <tr>\n",
       "      <th>2</th>\n",
       "      <td>Falcon 9 Block 5 | SAOCOM 1B</td>\n",
       "      <td>2020-08-27 23:19:00+00:00</td>\n",
       "      <td>2020-08-27T23:19:00Z</td>\n",
       "      <td>2020-08-27T23:19:00Z</td>\n",
       "      <td>SAOCOM 1B</td>\n",
       "      <td>Space Launch Complex 40</td>\n",
       "      <td>Cape Canaveral, FL, USA</td>\n",
       "      <td>NaN</td>\n",
       "      <td>TBD</td>\n",
       "      <td>Communications</td>\n",
       "      <td>The SAOCOM 1B spacecraft is the second of the ...</td>\n",
       "    </tr>\n",
       "    <tr>\n",
       "      <th>3</th>\n",
       "      <td>Electron | STP-27RM</td>\n",
       "      <td>2020-08-31 00:00:00+00:00</td>\n",
       "      <td>2020-08-31T00:00:00Z</td>\n",
       "      <td>2020-08-31T00:00:00Z</td>\n",
       "      <td>STP-27RM</td>\n",
       "      <td>Rocket Lab Launch Complex 2</td>\n",
       "      <td>Wallops Island, Virginia, USA</td>\n",
       "      <td>NaN</td>\n",
       "      <td>TBD</td>\n",
       "      <td>Government/Top Secret</td>\n",
       "      <td>A U.S. Air Force experimental spacecraft.</td>\n",
       "    </tr>\n",
       "    <tr>\n",
       "      <th>4</th>\n",
       "      <td>MOMO | Flight 7</td>\n",
       "      <td>2020-08-31 00:00:00+00:00</td>\n",
       "      <td>2020-08-31T00:00:00Z</td>\n",
       "      <td>2020-08-31T00:00:00Z</td>\n",
       "      <td>Flight 7</td>\n",
       "      <td>Taiki-cho, Hokkaido, Japan</td>\n",
       "      <td>Taiki-cho, Hokkaido, Japan</td>\n",
       "      <td>Sub Orbital</td>\n",
       "      <td>TBD</td>\n",
       "      <td>Suborbital</td>\n",
       "      <td>The sixth (Flight 6 has not happened yet) flig...</td>\n",
       "    </tr>\n",
       "    <tr>\n",
       "      <th>5</th>\n",
       "      <td>Soyuz 2.1a | Bars-M No. 3</td>\n",
       "      <td>2020-08-31 00:00:00+00:00</td>\n",
       "      <td>2020-08-31T00:00:00Z</td>\n",
       "      <td>2020-08-31T00:00:00Z</td>\n",
       "      <td>Bars-M No. 3</td>\n",
       "      <td>43/4 (43R)</td>\n",
       "      <td>Plesetsk Cosmodrome, Russian Federation</td>\n",
       "      <td>SSO</td>\n",
       "      <td>TBD</td>\n",
       "      <td>Government/Top Secret</td>\n",
       "      <td>Bars-M is the second incarnation of the Bars p...</td>\n",
       "    </tr>\n",
       "    <tr>\n",
       "      <th>6</th>\n",
       "      <td>Astra Rocket 3.1 | Maiden Flight</td>\n",
       "      <td>2020-08-31 02:00:00+00:00</td>\n",
       "      <td>2020-08-31T04:30:00Z</td>\n",
       "      <td>2020-08-31T02:00:00Z</td>\n",
       "      <td>Maiden Flight</td>\n",
       "      <td>Launch Pad B</td>\n",
       "      <td>Kodiak Launch Complex, Alaska, USA</td>\n",
       "      <td>NaN</td>\n",
       "      <td>TBD</td>\n",
       "      <td>Test Flight</td>\n",
       "      <td>This is the first orbital attempt of Astra Spa...</td>\n",
       "    </tr>\n",
       "    <tr>\n",
       "      <th>7</th>\n",
       "      <td>Electron | Return To Flight (Payload unknown)</td>\n",
       "      <td>2020-08-31 03:00:00+00:00</td>\n",
       "      <td>2020-08-31T07:00:00Z</td>\n",
       "      <td>2020-08-31T03:00:00Z</td>\n",
       "      <td>NaN</td>\n",
       "      <td>Rocket Lab Launch Complex 1A</td>\n",
       "      <td>Onenui Station, Mahia Peninsula, New Zealand</td>\n",
       "      <td>NaN</td>\n",
       "      <td>TBD</td>\n",
       "      <td>NaN</td>\n",
       "      <td>no information</td>\n",
       "    </tr>\n",
       "    <tr>\n",
       "      <th>8</th>\n",
       "      <td>Atlas V 531 | NROL-101</td>\n",
       "      <td>2020-09-01 00:00:00+00:00</td>\n",
       "      <td>2020-09-01T00:00:00Z</td>\n",
       "      <td>2020-09-01T00:00:00Z</td>\n",
       "      <td>NROL-101</td>\n",
       "      <td>Space Launch Complex 41</td>\n",
       "      <td>Cape Canaveral, FL, USA</td>\n",
       "      <td>NaN</td>\n",
       "      <td>TBD</td>\n",
       "      <td>Government/Top Secret</td>\n",
       "      <td>Classified payload for the U.S. National Recon...</td>\n",
       "    </tr>\n",
       "    <tr>\n",
       "      <th>9</th>\n",
       "      <td>Vega | SSMS POC</td>\n",
       "      <td>2020-09-01 01:51:10+00:00</td>\n",
       "      <td>2020-09-01T01:51:10Z</td>\n",
       "      <td>2020-09-01T01:51:10Z</td>\n",
       "      <td>SSMS POC</td>\n",
       "      <td>Ariane Launch Area 1</td>\n",
       "      <td>Kourou, French Guiana</td>\n",
       "      <td>NaN</td>\n",
       "      <td>TBD</td>\n",
       "      <td>Dedicated Rideshare</td>\n",
       "      <td>The Vega POC (Proof Of Concept) flight will be...</td>\n",
       "    </tr>\n",
       "    <tr>\n",
       "      <th>10</th>\n",
       "      <td>Soyuz 2.1b/Fregat-M | Gonets-M27, Gonets-M28, ...</td>\n",
       "      <td>2020-09-29 00:00:00+00:00</td>\n",
       "      <td>2020-09-29T00:00:00Z</td>\n",
       "      <td>2020-09-29T00:00:00Z</td>\n",
       "      <td>NaN</td>\n",
       "      <td>43/3 (43L)</td>\n",
       "      <td>Plesetsk Cosmodrome, Russian Federation</td>\n",
       "      <td>NaN</td>\n",
       "      <td>TBD</td>\n",
       "      <td>NaN</td>\n",
       "      <td>no information</td>\n",
       "    </tr>\n",
       "    <tr>\n",
       "      <th>12</th>\n",
       "      <td>Falcon 9 Block 5 | Sirius SXM-7</td>\n",
       "      <td>2020-09-30 00:00:00+00:00</td>\n",
       "      <td>2020-09-30T00:00:00Z</td>\n",
       "      <td>2020-09-30T00:00:00Z</td>\n",
       "      <td>SXM-7</td>\n",
       "      <td>Space Launch Complex 40</td>\n",
       "      <td>Cape Canaveral, FL, USA</td>\n",
       "      <td>NaN</td>\n",
       "      <td>TBD</td>\n",
       "      <td>Communications</td>\n",
       "      <td>SXM-7 is a large high power broadcasting satel...</td>\n",
       "    </tr>\n",
       "  </tbody>\n",
       "</table>\n",
       "</div>"
      ],
      "text/plain": [
       "                                                 name  \\\n",
       "2                        Falcon 9 Block 5 | SAOCOM 1B   \n",
       "3                                 Electron | STP-27RM   \n",
       "4                                     MOMO | Flight 7   \n",
       "5                           Soyuz 2.1a | Bars-M No. 3   \n",
       "6                    Astra Rocket 3.1 | Maiden Flight   \n",
       "7       Electron | Return To Flight (Payload unknown)   \n",
       "8                              Atlas V 531 | NROL-101   \n",
       "9                                     Vega | SSMS POC   \n",
       "10  Soyuz 2.1b/Fregat-M | Gonets-M27, Gonets-M28, ...   \n",
       "12                    Falcon 9 Block 5 | Sirius SXM-7   \n",
       "\n",
       "                         net            window_end          window_start  \\\n",
       "2  2020-08-27 23:19:00+00:00  2020-08-27T23:19:00Z  2020-08-27T23:19:00Z   \n",
       "3  2020-08-31 00:00:00+00:00  2020-08-31T00:00:00Z  2020-08-31T00:00:00Z   \n",
       "4  2020-08-31 00:00:00+00:00  2020-08-31T00:00:00Z  2020-08-31T00:00:00Z   \n",
       "5  2020-08-31 00:00:00+00:00  2020-08-31T00:00:00Z  2020-08-31T00:00:00Z   \n",
       "6  2020-08-31 02:00:00+00:00  2020-08-31T04:30:00Z  2020-08-31T02:00:00Z   \n",
       "7  2020-08-31 03:00:00+00:00  2020-08-31T07:00:00Z  2020-08-31T03:00:00Z   \n",
       "8  2020-09-01 00:00:00+00:00  2020-09-01T00:00:00Z  2020-09-01T00:00:00Z   \n",
       "9  2020-09-01 01:51:10+00:00  2020-09-01T01:51:10Z  2020-09-01T01:51:10Z   \n",
       "10 2020-09-29 00:00:00+00:00  2020-09-29T00:00:00Z  2020-09-29T00:00:00Z   \n",
       "12 2020-09-30 00:00:00+00:00  2020-09-30T00:00:00Z  2020-09-30T00:00:00Z   \n",
       "\n",
       "          mission                           pad  \\\n",
       "2       SAOCOM 1B       Space Launch Complex 40   \n",
       "3        STP-27RM   Rocket Lab Launch Complex 2   \n",
       "4        Flight 7    Taiki-cho, Hokkaido, Japan   \n",
       "5    Bars-M No. 3                    43/4 (43R)   \n",
       "6   Maiden Flight                  Launch Pad B   \n",
       "7             NaN  Rocket Lab Launch Complex 1A   \n",
       "8        NROL-101       Space Launch Complex 41   \n",
       "9        SSMS POC          Ariane Launch Area 1   \n",
       "10            NaN                    43/3 (43L)   \n",
       "12          SXM-7       Space Launch Complex 40   \n",
       "\n",
       "                                        location        orbit status.name  \\\n",
       "2                        Cape Canaveral, FL, USA          NaN         TBD   \n",
       "3                  Wallops Island, Virginia, USA          NaN         TBD   \n",
       "4                     Taiki-cho, Hokkaido, Japan  Sub Orbital         TBD   \n",
       "5        Plesetsk Cosmodrome, Russian Federation          SSO         TBD   \n",
       "6             Kodiak Launch Complex, Alaska, USA          NaN         TBD   \n",
       "7   Onenui Station, Mahia Peninsula, New Zealand          NaN         TBD   \n",
       "8                        Cape Canaveral, FL, USA          NaN         TBD   \n",
       "9                          Kourou, French Guiana          NaN         TBD   \n",
       "10       Plesetsk Cosmodrome, Russian Federation          NaN         TBD   \n",
       "12                       Cape Canaveral, FL, USA          NaN         TBD   \n",
       "\n",
       "             mission_type                                        description  \n",
       "2          Communications  The SAOCOM 1B spacecraft is the second of the ...  \n",
       "3   Government/Top Secret          A U.S. Air Force experimental spacecraft.  \n",
       "4              Suborbital  The sixth (Flight 6 has not happened yet) flig...  \n",
       "5   Government/Top Secret  Bars-M is the second incarnation of the Bars p...  \n",
       "6             Test Flight  This is the first orbital attempt of Astra Spa...  \n",
       "7                     NaN                                     no information  \n",
       "8   Government/Top Secret  Classified payload for the U.S. National Recon...  \n",
       "9     Dedicated Rideshare  The Vega POC (Proof Of Concept) flight will be...  \n",
       "10                    NaN                                     no information  \n",
       "12         Communications  SXM-7 is a large high power broadcasting satel...  "
      ]
     },
     "execution_count": 34,
     "metadata": {},
     "output_type": "execute_result"
    }
   ],
   "source": [
    "df3_bytime = df3.sort_values(['net'])\n",
    "df3_bytime[df3_bytime['status.name']=='TBD'][:10]"
   ]
  },
  {
   "cell_type": "markdown",
   "metadata": {
    "slideshow": {
     "slide_type": "subslide"
    }
   },
   "source": [
    "### How many launches are planned for each location in the next 12 months?"
   ]
  },
  {
   "cell_type": "markdown",
   "metadata": {
    "slideshow": {
     "slide_type": "skip"
    }
   },
   "source": [
    "#### Filter by time (only the next 12 months)"
   ]
  },
  {
   "cell_type": "code",
   "execution_count": 35,
   "metadata": {
    "ExecuteTime": {
     "end_time": "2020-08-21T18:18:06.160271Z",
     "start_time": "2020-08-21T18:18:06.154705Z"
    },
    "slideshow": {
     "slide_type": "skip"
    }
   },
   "outputs": [],
   "source": [
    "today_12months = date.today()+timedelta(365)"
   ]
  },
  {
   "cell_type": "code",
   "execution_count": 36,
   "metadata": {
    "ExecuteTime": {
     "end_time": "2020-08-21T18:18:06.521090Z",
     "start_time": "2020-08-21T18:18:06.513897Z"
    },
    "slideshow": {
     "slide_type": "skip"
    }
   },
   "outputs": [],
   "source": [
    "date2compare = pd.Timestamp(today_12months.year, today_12months.month, today_12months.day).tz_localize('UTC')"
   ]
  },
  {
   "cell_type": "code",
   "execution_count": 37,
   "metadata": {
    "ExecuteTime": {
     "end_time": "2020-08-21T18:18:06.948090Z",
     "start_time": "2020-08-21T18:18:06.941404Z"
    },
    "slideshow": {
     "slide_type": "skip"
    }
   },
   "outputs": [],
   "source": [
    "df3_12months = df3[df3['net']<=date2compare]"
   ]
  },
  {
   "cell_type": "markdown",
   "metadata": {
    "slideshow": {
     "slide_type": "skip"
    }
   },
   "source": [
    "#### Group by location and count"
   ]
  },
  {
   "cell_type": "code",
   "execution_count": 81,
   "metadata": {
    "ExecuteTime": {
     "end_time": "2020-08-21T18:35:26.096617Z",
     "start_time": "2020-08-21T18:35:26.089256Z"
    },
    "slideshow": {
     "slide_type": "skip"
    }
   },
   "outputs": [
    {
     "data": {
      "text/plain": [
       "array([\"Jiuquan, People's Republic of China\", 'Cape Canaveral, FL, USA',\n",
       "       'Wallops Island, Virginia, USA', 'Taiki-cho, Hokkaido, Japan',\n",
       "       'Plesetsk Cosmodrome, Russian Federation',\n",
       "       'Kodiak Launch Complex, Alaska, USA',\n",
       "       'Onenui Station, Mahia Peninsula, New Zealand',\n",
       "       'Kourou, French Guiana', \"Taiyuan, People's Republic of China\",\n",
       "       'Kennedy Space Center, FL, USA', 'Vandenberg AFB, CA, USA',\n",
       "       'Vostochny Cosmodrome, Siberia, Russian Federation',\n",
       "       'Tanegashima, Japan',\n",
       "       'Baikonur Cosmodrome, Republic of Kazakhstan',\n",
       "       'Air launch to orbit',\n",
       "       \"Wenchang Satellite Launch Center, People's Republic of China\",\n",
       "       'Sriharikota, Republic of India', 'Unknown Location',\n",
       "       \"Xichang Satellite Launch Center, People's Republic of China\"],\n",
       "      dtype=object)"
      ]
     },
     "execution_count": 81,
     "metadata": {},
     "output_type": "execute_result"
    }
   ],
   "source": [
    "df3_12months['location'].unique()"
   ]
  },
  {
   "cell_type": "code",
   "execution_count": 103,
   "metadata": {
    "ExecuteTime": {
     "end_time": "2020-08-21T18:44:08.957601Z",
     "start_time": "2020-08-21T18:44:08.112436Z"
    },
    "slideshow": {
     "slide_type": "skip"
    }
   },
   "outputs": [
    {
     "data": {
      "image/png": "[encoded data removed]",
      "text/plain": [
       "<Figure size 1440x720 with 1 Axes>"
      ]
     },
     "metadata": {
      "needs_background": "light"
     },
     "output_type": "display_data"
    }
   ],
   "source": [
    "ax = df3_12months['location'].value_counts().plot(kind='barh', figsize=(20,10), fontsize = 15)\n",
    "ax.legend(['total number of launches in 1 year'])\n",
    "# Write the total number for each location\n",
    "for i in range(len(df3_12months['location'].unique())): \n",
    "    value = df3_12months['location'].value_counts()[i]\n",
    "    ax.text(value, i, str(value))"
   ]
  },
  {
   "cell_type": "code",
   "execution_count": 40,
   "metadata": {
    "ExecuteTime": {
     "end_time": "2020-08-21T18:18:25.636088Z",
     "start_time": "2020-08-21T18:18:16.596849Z"
    },
    "slideshow": {
     "slide_type": "skip"
    }
   },
   "outputs": [],
   "source": [
    "# Empty list to store the location which its latitude and its longitude\n",
    "locations = []\n",
    "\n",
    "# Loop over the unique locations\n",
    "for location in df3_12months['location'].unique():\n",
    "    name=location.split(', ')\n",
    "    \n",
    "    # Check if the word cosmodrome is inside the name, if so, remove it\n",
    "    if 'Cosmodrome' in name[0]:\n",
    "        name[0] = name[0].split(' Cosmodrome')[0]\n",
    "    # exception with Wenchang satellite launch center, otherwise it cannoz find it\n",
    "    elif 'Wenchang' in name[0]:\n",
    "        name[0] = 'Wenchang'\n",
    "    \n",
    "    # Check if the location is air launch, then skip it\n",
    "    if 'Air launch' in name[0]:\n",
    "        locations.append([location, 0, 0])\n",
    "        continue\n",
    "    g = geocoder.osm(name[0])\n",
    "\n",
    "    locations.append([location, g.json['lat'], g.json['lng']])"
   ]
  },
  {
   "cell_type": "code",
   "execution_count": 123,
   "metadata": {
    "slideshow": {
     "slide_type": "skip"
    }
   },
   "outputs": [],
   "source": [
    "# Add the number of launches in each location\n",
    "\n",
    "# Create a empty DataFrame\n",
    "df_locations = pd.DataFrame(columns=['location', 'latitude', 'longitude', 'total'])\n",
    "\n",
    "# Auxiliar counter\n",
    "i = 0\n",
    "\n",
    "# Loop over all the locations and fill up the DataFrame\n",
    "for location, lat, long in locations:\n",
    "    \n",
    "    for j in range(len(df3_12months['location'].value_counts())):\n",
    "        \n",
    "        if location == df3_12months['location'].value_counts().index[j]:\n",
    "            df_locations.loc[i] = [location, lat, long, df3_12months['location'].value_counts()[j]]\n",
    "            # increase the counter\n",
    "            i +=1\n",
    "        "
   ]
  },
  {
   "cell_type": "code",
   "execution_count": 126,
   "metadata": {
    "scrolled": true,
    "slideshow": {
     "slide_type": "skip"
    }
   },
   "outputs": [
    {
     "data": {
      "text/html": [
       "<div>\n",
       "<style scoped>\n",
       "    .dataframe tbody tr th:only-of-type {\n",
       "        vertical-align: middle;\n",
       "    }\n",
       "\n",
       "    .dataframe tbody tr th {\n",
       "        vertical-align: top;\n",
       "    }\n",
       "\n",
       "    .dataframe thead th {\n",
       "        text-align: right;\n",
       "    }\n",
       "</style>\n",
       "<table border=\"1\" class=\"dataframe\">\n",
       "  <thead>\n",
       "    <tr style=\"text-align: right;\">\n",
       "      <th></th>\n",
       "      <th>location</th>\n",
       "      <th>latitude</th>\n",
       "      <th>longitude</th>\n",
       "      <th>total</th>\n",
       "    </tr>\n",
       "  </thead>\n",
       "  <tbody>\n",
       "    <tr>\n",
       "      <th>0</th>\n",
       "      <td>Jiuquan, People's Republic of China</td>\n",
       "      <td>39.732126</td>\n",
       "      <td>98.493684</td>\n",
       "      <td>3</td>\n",
       "    </tr>\n",
       "    <tr>\n",
       "      <th>1</th>\n",
       "      <td>Cape Canaveral, FL, USA</td>\n",
       "      <td>28.450770</td>\n",
       "      <td>-80.526620</td>\n",
       "      <td>22</td>\n",
       "    </tr>\n",
       "    <tr>\n",
       "      <th>2</th>\n",
       "      <td>Wallops Island, Virginia, USA</td>\n",
       "      <td>37.883871</td>\n",
       "      <td>-75.456167</td>\n",
       "      <td>5</td>\n",
       "    </tr>\n",
       "    <tr>\n",
       "      <th>3</th>\n",
       "      <td>Taiki-cho, Hokkaido, Japan</td>\n",
       "      <td>42.497169</td>\n",
       "      <td>143.278810</td>\n",
       "      <td>1</td>\n",
       "    </tr>\n",
       "    <tr>\n",
       "      <th>4</th>\n",
       "      <td>Plesetsk Cosmodrome, Russian Federation</td>\n",
       "      <td>62.709524</td>\n",
       "      <td>40.284388</td>\n",
       "      <td>11</td>\n",
       "    </tr>\n",
       "    <tr>\n",
       "      <th>5</th>\n",
       "      <td>Kodiak Launch Complex, Alaska, USA</td>\n",
       "      <td>57.442952</td>\n",
       "      <td>-152.365289</td>\n",
       "      <td>1</td>\n",
       "    </tr>\n",
       "    <tr>\n",
       "      <th>6</th>\n",
       "      <td>Onenui Station, Mahia Peninsula, New Zealand</td>\n",
       "      <td>-39.234140</td>\n",
       "      <td>177.877127</td>\n",
       "      <td>5</td>\n",
       "    </tr>\n",
       "    <tr>\n",
       "      <th>7</th>\n",
       "      <td>Kourou, French Guiana</td>\n",
       "      <td>5.158120</td>\n",
       "      <td>-52.642630</td>\n",
       "      <td>22</td>\n",
       "    </tr>\n",
       "    <tr>\n",
       "      <th>8</th>\n",
       "      <td>Taiyuan, People's Republic of China</td>\n",
       "      <td>37.856186</td>\n",
       "      <td>112.556174</td>\n",
       "      <td>2</td>\n",
       "    </tr>\n",
       "    <tr>\n",
       "      <th>9</th>\n",
       "      <td>Kennedy Space Center, FL, USA</td>\n",
       "      <td>28.522529</td>\n",
       "      <td>-80.680367</td>\n",
       "      <td>10</td>\n",
       "    </tr>\n",
       "    <tr>\n",
       "      <th>10</th>\n",
       "      <td>Vandenberg AFB, CA, USA</td>\n",
       "      <td>34.742593</td>\n",
       "      <td>-120.515599</td>\n",
       "      <td>11</td>\n",
       "    </tr>\n",
       "    <tr>\n",
       "      <th>11</th>\n",
       "      <td>Vostochny Cosmodrome, Siberia, Russian Federation</td>\n",
       "      <td>58.801740</td>\n",
       "      <td>61.802580</td>\n",
       "      <td>6</td>\n",
       "    </tr>\n",
       "    <tr>\n",
       "      <th>12</th>\n",
       "      <td>Tanegashima, Japan</td>\n",
       "      <td>30.591848</td>\n",
       "      <td>130.995895</td>\n",
       "      <td>4</td>\n",
       "    </tr>\n",
       "    <tr>\n",
       "      <th>13</th>\n",
       "      <td>Baikonur Cosmodrome, Republic of Kazakhstan</td>\n",
       "      <td>45.632198</td>\n",
       "      <td>63.320920</td>\n",
       "      <td>9</td>\n",
       "    </tr>\n",
       "    <tr>\n",
       "      <th>14</th>\n",
       "      <td>Air launch to orbit</td>\n",
       "      <td>0.000000</td>\n",
       "      <td>0.000000</td>\n",
       "      <td>5</td>\n",
       "    </tr>\n",
       "    <tr>\n",
       "      <th>15</th>\n",
       "      <td>Wenchang Satellite Launch Center, People's Rep...</td>\n",
       "      <td>19.545260</td>\n",
       "      <td>110.793221</td>\n",
       "      <td>3</td>\n",
       "    </tr>\n",
       "    <tr>\n",
       "      <th>16</th>\n",
       "      <td>Sriharikota, Republic of India</td>\n",
       "      <td>13.628051</td>\n",
       "      <td>80.225642</td>\n",
       "      <td>15</td>\n",
       "    </tr>\n",
       "    <tr>\n",
       "      <th>17</th>\n",
       "      <td>Unknown Location</td>\n",
       "      <td>-0.999945</td>\n",
       "      <td>36.741661</td>\n",
       "      <td>4</td>\n",
       "    </tr>\n",
       "    <tr>\n",
       "      <th>18</th>\n",
       "      <td>Xichang Satellite Launch Center, People's Repu...</td>\n",
       "      <td>28.245938</td>\n",
       "      <td>102.028175</td>\n",
       "      <td>1</td>\n",
       "    </tr>\n",
       "  </tbody>\n",
       "</table>\n",
       "</div>"
      ],
      "text/plain": [
       "                                             location   latitude   longitude  \\\n",
       "0                 Jiuquan, People's Republic of China  39.732126   98.493684   \n",
       "1                             Cape Canaveral, FL, USA  28.450770  -80.526620   \n",
       "2                       Wallops Island, Virginia, USA  37.883871  -75.456167   \n",
       "3                          Taiki-cho, Hokkaido, Japan  42.497169  143.278810   \n",
       "4             Plesetsk Cosmodrome, Russian Federation  62.709524   40.284388   \n",
       "5                  Kodiak Launch Complex, Alaska, USA  57.442952 -152.365289   \n",
       "6        Onenui Station, Mahia Peninsula, New Zealand -39.234140  177.877127   \n",
       "7                               Kourou, French Guiana   5.158120  -52.642630   \n",
       "8                 Taiyuan, People's Republic of China  37.856186  112.556174   \n",
       "9                       Kennedy Space Center, FL, USA  28.522529  -80.680367   \n",
       "10                            Vandenberg AFB, CA, USA  34.742593 -120.515599   \n",
       "11  Vostochny Cosmodrome, Siberia, Russian Federation  58.801740   61.802580   \n",
       "12                                 Tanegashima, Japan  30.591848  130.995895   \n",
       "13        Baikonur Cosmodrome, Republic of Kazakhstan  45.632198   63.320920   \n",
       "14                                Air launch to orbit   0.000000    0.000000   \n",
       "15  Wenchang Satellite Launch Center, People's Rep...  19.545260  110.793221   \n",
       "16                     Sriharikota, Republic of India  13.628051   80.225642   \n",
       "17                                   Unknown Location  -0.999945   36.741661   \n",
       "18  Xichang Satellite Launch Center, People's Repu...  28.245938  102.028175   \n",
       "\n",
       "   total  \n",
       "0      3  \n",
       "1     22  \n",
       "2      5  \n",
       "3      1  \n",
       "4     11  \n",
       "5      1  \n",
       "6      5  \n",
       "7     22  \n",
       "8      2  \n",
       "9     10  \n",
       "10    11  \n",
       "11     6  \n",
       "12     4  \n",
       "13     9  \n",
       "14     5  \n",
       "15     3  \n",
       "16    15  \n",
       "17     4  \n",
       "18     1  "
      ]
     },
     "execution_count": 126,
     "metadata": {},
     "output_type": "execute_result"
    }
   ],
   "source": [
    "df_locations"
   ]
  },
  {
   "cell_type": "code",
   "execution_count": 133,
   "metadata": {
    "slideshow": {
     "slide_type": "skip"
    }
   },
   "outputs": [],
   "source": [
    "# Create a world map to show distributions of users \n",
    "import folium\n",
    "from folium.plugins import MarkerCluster\n",
    "\n",
    "#empty map\n",
    "world_map= folium.Map(tiles=\"cartodbpositron\")\n",
    "marker_cluster = MarkerCluster().add_to(world_map)\n",
    "\n",
    "#for each coordinate, create circlemarker of user percent\n",
    "for i in range(len(df_locations)):\n",
    "        lat = df_locations.iloc[i]['latitude']\n",
    "        long = df_locations.iloc[i]['longitude']\n",
    "        \n",
    "        popup_text = \"\"\"Location : {}<br>\n",
    "                    number of launches : {}<br>\"\"\"\n",
    "        popup_text = popup_text.format(df_locations.iloc[i]['location'],\n",
    "                                   df_locations.iloc[i]['total']\n",
    "                                   )\n",
    "        folium.Marker([lat, long], popup= popup_text).add_to(marker_cluster)\n"
   ]
  },
  {
   "cell_type": "code",
   "execution_count": 132,
   "metadata": {
    "slideshow": {
     "slide_type": "subslide"
    }
   },
   "outputs": [
    {
     "data": {
      "text/html": [
       "<div style=\"width:100%;\"><div style=\"position:relative;width:100%;height:0;padding-bottom:60%;\"><span style=\"color:#565656\">Make this Notebook Trusted to load map: File -> Trust Notebook</span><iframe src=\"about:blank\" style=\"position:absolute;width:100%;height:100%;left:0;top:0;border:none !important;\" data-html=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 onload=\"this.contentDocument.open();this.contentDocument.write(atob(this.getAttribute('data-html')));this.contentDocument.close();\" allowfullscreen webkitallowfullscreen mozallowfullscreen></iframe></div></div>"
      ],
      "text/plain": [
       "<folium.folium.Map at 0x7f87ccdd6610>"
      ]
     },
     "execution_count": 132,
     "metadata": {},
     "output_type": "execute_result"
    }
   ],
   "source": [
    "#show the map\n",
    "world_map"
   ]
  },
  {
   "cell_type": "code",
   "execution_count": null,
   "metadata": {},
   "outputs": [],
   "source": []
  }
 ],
 "metadata": {
  "kernelspec": {
   "display_name": "Python 3",
   "language": "python",
   "name": "python3"
  },
  "language_info": {
   "codemirror_mode": {
    "name": "ipython",
    "version": 3
   },
   "file_extension": ".py",
   "mimetype": "text/x-python",
   "name": "python",
   "nbconvert_exporter": "python",
   "pygments_lexer": "ipython3",
   "version": "3.7.6"
  },
  "toc": {
   "base_numbering": 1,
   "nav_menu": {
    "height": "210px",
    "width": "278px"
   },
   "number_sections": true,
   "sideBar": true,
   "skip_h1_title": true,
   "title_cell": "Table of contents",
   "title_sidebar": "Contents",
   "toc_cell": true,
   "toc_position": {
    "height": "calc(100% - 180px)",
    "left": "10px",
    "top": "150px",
    "width": "165px"
   },
   "toc_section_display": true,
   "toc_window_display": false
  },
  "varInspector": {
   "cols": {
    "lenName": 16,
    "lenType": 16,
    "lenVar": 40
   },
   "kernels_config": {
    "python": {
     "delete_cmd_postfix": "",
     "delete_cmd_prefix": "del ",
     "library": "var_list.py",
     "varRefreshCmd": "print(var_dic_list())"
    },
    "r": {
     "delete_cmd_postfix": ") ",
     "delete_cmd_prefix": "rm(",
     "library": "var_list.r",
     "varRefreshCmd": "cat(var_dic_list()) "
    }
   },
   "position": {
    "height": "393px",
    "left": "866px",
    "right": "20px",
    "top": "121px",
    "width": "350px"
   },
   "types_to_exclude": [
    "module",
    "function",
    "builtin_function_or_method",
    "instance",
    "_Feature"
   ],
   "window_display": false
  }
 },
 "nbformat": 4,
 "nbformat_minor": 4
}
