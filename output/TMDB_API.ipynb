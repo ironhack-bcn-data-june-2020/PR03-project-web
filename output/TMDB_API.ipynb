{
 "cells": [
  {
   "cell_type": "markdown",
   "metadata": {},
   "source": [
    "# THE MOVIE DATA BASE API"
   ]
  },
  {
   "cell_type": "markdown",
   "metadata": {},
   "source": [
    "### Importing libraries"
   ]
  },
  {
   "cell_type": "code",
   "execution_count": 3,
   "metadata": {},
   "outputs": [],
   "source": [
    "import requests\n",
    "import json\n",
    "import pandas as pd"
   ]
  },
  {
   "cell_type": "markdown",
   "metadata": {},
   "source": [
    "### Finding id for Billy Wilder"
   ]
  },
  {
   "cell_type": "code",
   "execution_count": 5,
   "metadata": {},
   "outputs": [
    {
     "name": "stdout",
     "output_type": "stream",
     "text": [
      "{'page': 1, 'total_results': 1, 'total_pages': 1, 'results': [{'popularity': 4.092, 'known_for_department': 'Writing', 'name': 'Billy Wilder', 'id': 3146, 'profile_path': '/nWV9BDDCbRegP7etiPjl3vYnJEq.jpg', 'adult': False, 'known_for': [{'poster_path': '/hVIKyTK13AvOGv7ICmJjK44DTzp.jpg', 'vote_count': 2068, 'video': False, 'media_type': 'movie', 'id': 239, 'adult': False, 'backdrop_path': '/m7v4Qi1y7UFgMZn2sIWoTXDpYSu.jpg', 'original_language': 'en', 'original_title': 'Some Like It Hot', 'genre_ids': [35, 10402, 10749], 'title': 'Some Like It Hot', 'vote_average': 8.2, 'overview': 'Two musicians witness a mob hit and struggle to find a way out of the city before they are found by the gangsters. Their only opportunity is to join an all-girl band as they leave on a tour. To make their getaway they must first disguise themselves as women, then keep their identities secret and deal with the problems this brings - such as an attractive bandmate and a very determined suitor.', 'release_date': '1959-03-19'}, {'vote_count': 1438, 'id': 599, 'video': False, 'media_type': 'movie', 'vote_average': 8.4, 'title': 'Sunset Boulevard', 'release_date': '1950-08-10', 'original_language': 'en', 'original_title': 'Sunset Boulevard', 'genre_ids': [18], 'backdrop_path': '/p47ihFj4A7EpBjmPHdTj4ipyq1S.jpg', 'adult': False, 'overview': 'A hack screenwriter writes a screenplay for a former silent film star who has faded into Hollywood obscurity.', 'poster_path': '/zt8aQ6ksqK6p1AopC5zVTDS9pKT.jpg'}, {'poster_path': '/95zlq13ql7d5V6TEMRRYilTmTOp.jpg', 'vote_count': 1230, 'video': False, 'media_type': 'movie', 'id': 284, 'adult': False, 'backdrop_path': '/1HSgkvoOyr47cSNKgDLbRYhEoMq.jpg', 'original_language': 'en', 'original_title': 'The Apartment', 'genre_ids': [35, 18, 10749], 'title': 'The Apartment', 'vote_average': 8.3, 'overview': \"Bud Baxter is a minor clerk in a huge New York insurance company, until he discovers a quick way to climb the corporate ladder. He lends out his apartment to the executives as a place to take their mistresses. Although he often has to deal with the aftermath of their visits, one night he's left with a major problem to solve.\", 'release_date': '1960-06-21'}], 'gender': 2}]}\n"
     ]
    }
   ],
   "source": [
    "url = 'https://api.themoviedb.org/3/search/person?api_key=09b09c0c69e7f9ac6eb3dcd74076222b&query=billy+wilder'\n",
    "response = requests.get(url)\n",
    "data = json.loads(response.text)\n",
    "print(data)"
   ]
  },
  {
   "cell_type": "code",
   "execution_count": 6,
   "metadata": {},
   "outputs": [],
   "source": [
    "#The id for Billy Wilder is 3146"
   ]
  },
  {
   "cell_type": "code",
   "execution_count": 7,
   "metadata": {},
   "outputs": [],
   "source": [
    "query = {'api_key':'09b09c0c69e7f9ac6eb3dcd74076222b'}"
   ]
  },
  {
   "cell_type": "code",
   "execution_count": 8,
   "metadata": {},
   "outputs": [],
   "source": [
    "api_url = 'https://api.themoviedb.org/3/person/'"
   ]
  },
  {
   "cell_type": "code",
   "execution_count": 11,
   "metadata": {},
   "outputs": [],
   "source": [
    "def get_person(person_id):\n",
    "    query = {'api_key':'09b09c0c69e7f9ac6eb3dcd74076222b'}\n",
    "    api_url = 'https://api.themoviedb.org/3/person/'\n",
    "    return requests.get(f'{api_url}{person_id}', params = query).json()"
   ]
  },
  {
   "cell_type": "code",
   "execution_count": 12,
   "metadata": {},
   "outputs": [
    {
     "data": {
      "text/plain": [
       "{'birthday': '1906-06-22',\n",
       " 'known_for_department': 'Writing',\n",
       " 'deathday': '2002-03-27',\n",
       " 'id': 3146,\n",
       " 'name': 'Billy Wilder',\n",
       " 'also_known_as': [],\n",
       " 'gender': 2,\n",
       " 'biography': \"From Wikipedia, the free encyclopedia.  Billy Wilder (22 June 1906 – 27 March 2002) was an Austria/Hungarian-born American filmmaker, screenwriter, producer, artist, and journalist, whose career spanned more than 50 years and 60 films. He is regarded as one of the most brilliant and versatile filmmakers of Hollywood's golden age. Wilder is one of only five people who have won Academy Awards as producer, director, and writer for the same film (The Apartment).\\n\\nWilder became a screenwriter in the late 1920s while living in Berlin. After the rise of Adolf Hitler, Wilder, who was Jewish, left for Paris, where he made his directorial debut. He relocated to Hollywood in 1933, and in 1939 he had a hit as a co-writer of the screenplay to the screwball comedy Ninotchka. Wilder established his directorial reputation after helming Double Indemnity (1944), a film noir he co-wrote with mystery novelist Raymond Chandler. Wilder earned the Best Director and Best Screenplay Academy Awards for the adaptation of a Charles R. Jackson story The Lost Weekend, about alcoholism. In 1950, Wilder co-wrote and directed the critically acclaimed Sunset Boulevard.\\n\\nFrom the mid-1950s on, Wilder made mostly comedies. Among the classics Wilder created in this period are the farces The Seven Year Itch (1955) and Some Like It Hot (1959), satires such as The Apartment (1960), and the romantic comedy Sabrina (1954). He directed fourteen different actors in Oscar-nominated performances. Wilder was recognized with the AFI Life Achievement Award in 1986. In 1988, Wilder was awarded the Irving G. Thalberg Memorial Award. In 1993, he was awarded the National Medal of Arts. Wilder holds a significant place in the history of Hollywood censorship for expanding the range of acceptable subject matter.\\n\\nDescription above from the Wikipedia article Billy Wilder, licensed under CC-BY-SA, full list of contributors on Wikipedia.\",\n",
       " 'popularity': 4.092,\n",
       " 'place_of_birth': 'Sucha, Galicia, Austria-Hungary',\n",
       " 'profile_path': '/nWV9BDDCbRegP7etiPjl3vYnJEq.jpg',\n",
       " 'adult': False,\n",
       " 'imdb_id': 'nm0000697',\n",
       " 'homepage': None}"
      ]
     },
     "execution_count": 12,
     "metadata": {},
     "output_type": "execute_result"
    }
   ],
   "source": [
    "get_person(3146)"
   ]
  },
  {
   "cell_type": "code",
   "execution_count": null,
   "metadata": {},
   "outputs": [],
   "source": []
  }
 ],
 "metadata": {
  "kernelspec": {
   "display_name": "Python 3",
   "language": "python",
   "name": "python3"
  },
  "language_info": {
   "codemirror_mode": {
    "name": "ipython",
    "version": 3
   },
   "file_extension": ".py",
   "mimetype": "text/x-python",
   "name": "python",
   "nbconvert_exporter": "python",
   "pygments_lexer": "ipython3",
   "version": "3.7.7"
  }
 },
 "nbformat": 4,
 "nbformat_minor": 4
}
