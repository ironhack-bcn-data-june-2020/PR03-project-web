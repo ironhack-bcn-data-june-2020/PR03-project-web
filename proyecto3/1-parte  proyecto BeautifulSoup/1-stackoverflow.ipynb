{
 "cells": [
  {
   "cell_type": "code",
   "execution_count": 40,
   "metadata": {},
   "outputs": [],
   "source": [
    "import requests\n",
    "from bs4 import BeautifulSoup\n",
    "import pandas as pd"
   ]
  },
  {
   "cell_type": "code",
   "execution_count": 18,
   "metadata": {},
   "outputs": [],
   "source": [
    "headers = {\n",
    "        'USER_AGENT': 'Mozilla/5.0 (Windows NT 6.1; Win64; x64; rv:47.0) Gecko/20100101 Firefox/47.0'\n",
    "    }"
   ]
  },
  {
   "cell_type": "code",
   "execution_count": 19,
   "metadata": {},
   "outputs": [],
   "source": [
    "url = 'https://stackoverflow.com/questions'"
   ]
  },
  {
   "cell_type": "code",
   "execution_count": 20,
   "metadata": {},
   "outputs": [],
   "source": [
    "respuesta = requests.get(url, headers=headers)"
   ]
  },
  {
   "cell_type": "code",
   "execution_count": 21,
   "metadata": {},
   "outputs": [],
   "source": [
    "soup = BeautifulSoup(respuesta.text)"
   ]
  },
  {
   "cell_type": "code",
   "execution_count": 22,
   "metadata": {},
   "outputs": [],
   "source": [
    "contenedor_preguntas = soup.find('div', id=\"questions\")"
   ]
  },
  {
   "cell_type": "code",
   "execution_count": 37,
   "metadata": {},
   "outputs": [],
   "source": [
    "lista_preguntas = contenedor_preguntas.find_all('div', class_=\"question-summary\")\n",
    "lista_usuario = contenedor_preguntas.find_all('div', class_=\"user-details\")"
   ]
  },
  {
   "cell_type": "code",
   "execution_count": 38,
   "metadata": {},
   "outputs": [],
   "source": [
    "texto_pregunta = [pregunta.find('h3').text for pregunta in lista_preguntas]\n",
    "usuarios = [usuario.find('a').text for usuario in lista_usuario]"
   ]
  },
  {
   "cell_type": "code",
   "execution_count": 39,
   "metadata": {},
   "outputs": [
    {
     "data": {
      "text/plain": [
       "['Fraser Hitchen',\n",
       " 'Shannon',\n",
       " 'The Ultimate Wanderer',\n",
       " 'Chris Choi',\n",
       " 'Tejendra Singh',\n",
       " 'Nightloewe',\n",
       " 'Casper Smit',\n",
       " 'iagordev',\n",
       " 'David Carvalho',\n",
       " 'Stick',\n",
       " 'CrypticDev',\n",
       " 'kgrab',\n",
       " 'progpro',\n",
       " 'Ellez bayramov',\n",
       " 'am2021',\n",
       " 'mimic',\n",
       " 'Sergej Bechtold',\n",
       " 'Maxwell Ledermann',\n",
       " 'Vox',\n",
       " 'sagar mandal',\n",
       " 'Moses',\n",
       " 'Christoffer',\n",
       " 'Bruno Wallner',\n",
       " 'Trevor',\n",
       " 'Janachter',\n",
       " 'MichaelPurcell',\n",
       " 'roadtrack_530',\n",
       " 'Pedro Barata Fernandes',\n",
       " 'toraritte',\n",
       " 'Coco Zeng',\n",
       " 'yuw444',\n",
       " 'AbdelrHman Ahmed',\n",
       " 'aHardReset',\n",
       " 'Blue',\n",
       " 'eleojo adegbe',\n",
       " 'Ralvagar',\n",
       " 'user3264350',\n",
       " 'Michael A',\n",
       " 'Frankie',\n",
       " 'Fors',\n",
       " 'Ricardo Silva',\n",
       " 'Dee Star',\n",
       " 'LUCA DELLA GHEZZA',\n",
       " 'Verv',\n",
       " 'Sardorek Aminjonov',\n",
       " 'rausted',\n",
       " 'user3916',\n",
       " 'Efoskhi',\n",
       " 'codingdude8932489',\n",
       " 'Ivan González ']"
      ]
     },
     "execution_count": 39,
     "metadata": {},
     "output_type": "execute_result"
    }
   ],
   "source": [
    "usuarios"
   ]
  },
  {
   "cell_type": "code",
   "execution_count": 41,
   "metadata": {},
   "outputs": [],
   "source": [
    "data = pd.DataFrame(list(zip(texto_pregunta, usuarios)), columns=['preguntas', 'usuarios'])"
   ]
  },
  {
   "cell_type": "code",
   "execution_count": 43,
   "metadata": {},
   "outputs": [],
   "source": [
    "data.to_csv('stackoverflowwebscraping')"
   ]
  }
 ],
 "metadata": {
  "kernelspec": {
   "display_name": "Python 3",
   "language": "python",
   "name": "python3"
  },
  "language_info": {
   "codemirror_mode": {
    "name": "ipython",
    "version": 3
   },
   "file_extension": ".py",
   "mimetype": "text/x-python",
   "name": "python",
   "nbconvert_exporter": "python",
   "pygments_lexer": "ipython3",
   "version": "3.8.5"
  },
  "toc": {
   "base_numbering": 1,
   "nav_menu": {},
   "number_sections": true,
   "sideBar": true,
   "skip_h1_title": false,
   "title_cell": "Table of Contents",
   "title_sidebar": "Contents",
   "toc_cell": false,
   "toc_position": {},
   "toc_section_display": true,
   "toc_window_display": false
  },
  "varInspector": {
   "cols": {
    "lenName": 16,
    "lenType": 16,
    "lenVar": 40
   },
   "kernels_config": {
    "python": {
     "delete_cmd_postfix": "",
     "delete_cmd_prefix": "del ",
     "library": "var_list.py",
     "varRefreshCmd": "print(var_dic_list())"
    },
    "r": {
     "delete_cmd_postfix": ") ",
     "delete_cmd_prefix": "rm(",
     "library": "var_list.r",
     "varRefreshCmd": "cat(var_dic_list()) "
    }
   },
   "types_to_exclude": [
    "module",
    "function",
    "builtin_function_or_method",
    "instance",
    "_Feature"
   ],
   "window_display": false
  }
 },
 "nbformat": 4,
 "nbformat_minor": 4
}
