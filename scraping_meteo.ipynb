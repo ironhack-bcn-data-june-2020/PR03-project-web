{
 "cells": [
  {
   "cell_type": "markdown",
   "metadata": {},
   "source": [
    "# Scraping Weatherspark.com"
   ]
  },
  {
   "cell_type": "markdown",
   "metadata": {},
   "source": [
    "## 1. Web scraping Weatherspark."
   ]
  },
  {
   "cell_type": "code",
   "execution_count": 27,
   "metadata": {},
   "outputs": [],
   "source": [
    "#Importando las librerías necesarias.\n",
    "\n",
    "import requests\n",
    "from selenium import webdriver\n",
    "from selenium.webdriver.common.keys import Keys"
   ]
  },
  {
   "cell_type": "code",
   "execution_count": 28,
   "metadata": {},
   "outputs": [],
   "source": [
    "#Adjudicando el driver correcto para nuestro navegador, muy importante.\n",
    "\n",
    "driver = webdriver.Chrome()"
   ]
  },
  {
   "cell_type": "code",
   "execution_count": 29,
   "metadata": {},
   "outputs": [],
   "source": [
    "#Getting url.\n",
    "\n",
    "driver.get('https://es.weatherspark.com/')"
   ]
  },
  {
   "cell_type": "code",
   "execution_count": 30,
   "metadata": {},
   "outputs": [],
   "source": [
    "#Asignamos la caja de búsqueda al elemento correspondiente del site.\n",
    "\n",
    "query_box = driver.find_element_by_class_name('LiveSearch-FrontPage-field')"
   ]
  },
  {
   "cell_type": "code",
   "execution_count": 31,
   "metadata": {},
   "outputs": [
    {
     "data": {
      "text/plain": [
       "<selenium.webdriver.remote.webelement.WebElement (session=\"2a6121a70ba5f6fd24af1541a478fac8\", element=\"2e8873d8-df08-4f89-99c1-9d93c2218f38\")>"
      ]
     },
     "execution_count": 31,
     "metadata": {},
     "output_type": "execute_result"
    }
   ],
   "source": [
    "#Comprobamos que nos devuelva un WebElement.\n",
    "\n",
    "query_box"
   ]
  },
  {
   "cell_type": "code",
   "execution_count": 32,
   "metadata": {},
   "outputs": [],
   "source": [
    "#Haciendo click en el search box.\n",
    "\n",
    "query_box.click()"
   ]
  },
  {
   "cell_type": "code",
   "execution_count": 33,
   "metadata": {},
   "outputs": [],
   "source": [
    "#Buscando con el keyword Madrid.\n",
    "\n",
    "query_box.send_keys('Madrid')"
   ]
  },
  {
   "cell_type": "code",
   "execution_count": 34,
   "metadata": {},
   "outputs": [],
   "source": [
    "#Simulando la tecla enter ya que el botón de búsqueda nos arrojaba fallos.\n",
    "\n",
    "query_box.send_keys(Keys.ENTER)"
   ]
  },
  {
   "cell_type": "code",
   "execution_count": 35,
   "metadata": {},
   "outputs": [],
   "source": [
    "results = driver.find_element_by_id(\"Report-Body\")"
   ]
  },
  {
   "cell_type": "code",
   "execution_count": 36,
   "metadata": {},
   "outputs": [],
   "source": [
    "#Resultados del query.\n",
    "\n",
    "results_text = results.text"
   ]
  },
  {
   "cell_type": "code",
   "execution_count": 37,
   "metadata": {},
   "outputs": [],
   "source": [
    "#Eliminamos los saltos de línea.\n",
    "\n",
    "results_stripped = results_text.replace('\\n','')"
   ]
  },
  {
   "cell_type": "code",
   "execution_count": 38,
   "metadata": {},
   "outputs": [
    {
     "data": {
      "text/plain": [
       "'Anuncio publicitarioEl clima promedio en Madrid EspañaEn Madrid, los veranos son cortos, muy caliente, secos y mayormente despejados y los inviernos son muy frío y parcialmente nublados. Durante el transcurso del año, la temperatura generalmente varía de 0 °C a 33 °C y rara vez baja a menos de -5 °C o sube a más de 37 °C.En base a la puntuación de playa/piscina, la mejor época del año para visitar Madrid para las actividades de calor es desde finales de junio hasta finales de agostoAnuncio publicitarioResumen del climafríafrescacómodamuy calientefrescafríaene.feb.mar.abr.may.jun.jul.ago.sept.oct.nov.dic.AhoraAhora88 %88 %48 %48 %despejadonubladoprecipitación: 48 mmprecipitación: 48 mm6 mm6 mmbochornoso: 0 %bochornoso: 0 %0 %0 %secosecopuntuación de playa/piscina: 8.6puntuación de playa/piscina: 8.60.00.0Haga clic en cada gráfico para ver más informaciónAnuncio publicitarioTemperaturaLa temporada calurosa dura 2,9 meses, del 15 de junio al 10 de septiembre, y la temperatura máxima promedio diaria es más de 29 °C. El día más caluroso del año es el 23 de julio, con una temperatura máxima promedio de 33 °C y una temperatura mínima promedio de 18 °C.La temporada fresca dura 3,7 meses, del 14 de noviembre al 5 de marzo, y la temperatura máxima promedio diaria es menos de 15 °C. El día más frío del año es el 15 de enero, con una temperatura mínima promedio de 0 °C y máxima promedio de 10 °C.Temperatura máxima y mínima promedioTemperatura máxima y mínima promedio en Madridmuy calientefrescofrescoene.feb.mar.abr.may.jun.jul.ago.sept.oct.nov.dic.-20 °C-20 °C-15 °C-15 °C-10 °C-10 °C-5 °C-5 °C0 °C0 °C5 °C5 °C10 °C10 °C15 °C15 °C20 °C20 °C25 °C25 °C30 °C30 °C35 °C35 °C40 °C40 °C15 ene.10 °C15 ene.10 °C23 jul.33 °C23 jul.33 °C0 °C0 °C18 °C18 °C15 jun.29 °C15 jun.29 °C10 sept.29 °C10 sept.29 °C14 nov.15 °C14 nov.15 °C5 mar.15 °C5 mar.15 °C14 °C14 °C14 °C14 °C5 °C5 °C2 °C2 °CAhoraAhoraLa temperatura máxima (línea roja) y la temperatura mínima (línea azul) promedio diaria con las bandas de los percentiles 25º a 75º, y 10º a 90º. Las líneas delgadas punteadas son las temperaturas promedio percibidas correspondientes.La figura siguiente muestra una ilustración compacta de las temperaturas promedio por hora de todo el año. El eje horizontal es el día del año, el eje vertical es la hora y el color es la temperatura promedio para ese día y a esa hora.Temperatura promedio por horaTemperatura promedio por hora en Madridene.feb.mar.abr.may.jun.jul.ago.sept.oct.nov.dic.00448812121616202000AhoraAhoramuy fríamuy fríamuy fríafríafríafrescacómodacalientemuy calientecalientemuy fríacómodafrígida-9 °Chelada0 °Cmuy fría7 °Cfría13 °Cfresca18 °Ccómoda24 °Ccaliente29 °Cmuy caliente35 °CtórridaLa temperatura promedio por hora, codificada por colores en bandas. Las áreas sombreadas superpuestas indican la noche y el crepúsculo civil.NubesEn Madrid, el promedio del porcentaje del cielo cubierto con nubes varía considerablemente en el transcurso del año.La parte más despejada del año en Madrid comienza aproximadamente el 11 de junio; dura 3,0 meses y se termina aproximadamente el 12 de septiembre. El 21 de julio, el día más despejado del año, el cielo está despejado, mayormente despejado o parcialmente nublado el 88 % del tiempo y nublado o mayormente nublado el 12 % del tiempo.La parte más nublada del año comienza aproximadamente el 12 de septiembre; dura 9,0 meses y se termina aproximadamente el 11 de junio. El 16 de diciembre, el día más nublado del año, el cielo está nublado o mayormente nublado el 52 % del tiempo y despejado, mayormente despejado o parcialmente nublado el 48 % del tiempo.Categorías de nubosidadCategorías de nubosidad en Madridmás despejadomás nubladomás nubladoene.feb.mar.abr.may.jun.jul.ago.sept.oct.nov.dic.0 %100 %10 %90 %20 %80 %30 %70 %40 %60 %50 %50 %60 %40 %70 %30 %80 %20 %90 %10 %100 %0 %21 jul.88 %21 jul.88 %16 dic.48 %16 dic.48 %11 jun.68 %11 jun.68 %12 sept.69 %12 sept.69 %AhoraAhoradespejadomayormente despejadonubladomayormente nubladoparcialmente nublado0 %despejado20 %mayormente despejado40 %parcialmente nublado60 %mayormente nublado80 %nublado100 %El porcentaje de tiempo pasado en cada banda de cobertura de nubes, categorizado según el porcentaje del cielo cubierto de nubes.PrecipitaciónUn día mojado es un día con por lo menos 1 milímetro de líquido o precipitación equivalente a líquido. La probabilidad de días mojados en Madrid varía durante el año.La temporada más mojada dura 8,4 meses, de 1 de octubre a 14 de junio, con una probabilidad de más del 14 % de que cierto día será un día mojado. La probabilidad máxima de un día mojado es del 23 % el 29 de abril.La temporada más seca dura 3,6 meses, del 14 de junio al 1 de octubre. La probabilidad mínima de un día mojado es del 4 % el 19 de julio.Entre los días mojados, distinguimos entre los que tienen solamente lluvia, solamente nieve o una combinación de las dos. En base a esta categorización, el tipo más común de precipitación durante el año es solo lluvia, con una probabilidad máxima del 23 % el 29 de abril.Probabilidad diaria de precipitaciónProbabilidad diaria de precipitación en Madridmojadomojadosecoene.feb.mar.abr.may.jun.jul.ago.sept.oct.nov.dic.0 %0 %10 %10 %20 %20 %30 %30 %40 %40 %50 %50 %60 %60 %70 %70 %80 %80 %90 %90 %100 %100 %29 abr.23 %29 abr.23 %19 jul.4 %19 jul.4 %1 ene.19 %1 ene.19 %1 oct.14 %1 oct.14 %14 jun.14 %14 jun.14 %AhoraAhoralluviaEl porcentaje de días en los que se observan diferentes tipos de precipitación, excluidas las cantidades ínfimas: solo lluvia, solo nieve, mezcla (llovió y nevó el mismo día).LluviaPara mostrar la variación durante un mes y no solamente los totales mensuales, mostramos la precipitación de lluvia acumulada durante un período móvil de 31 días centrado alrededor de cada día del año. Madrid tiene una variación ligera de lluvia mensual por estación.La temporada de lluvia dura 9,9 meses, del 4 de septiembre al 2 de julio, con un intervalo móvil de 31 días de lluvia de por lo menos 13 milímetros. La mayoría de la lluvia cae durante los 31 días centrados alrededor del 27 de octubre, con una acumulación total promedio de 48 milímetros.El periodo del año sin lluvia dura 2,1 meses, del 2 de julio al 4 de septiembre. La fecha aproximada con la menor cantidad de lluvia es el 31 de julio, con una acumulación total promedio de 6 milímetros.Precipitación de lluvia mensual promedioPromedio mensual de lluvia en Madridlluvialluviaene.feb.mar.abr.may.jun.jul.ago.sept.oct.nov.dic.0 mm0 mm20 mm20 mm40 mm40 mm60 mm60 mm80 mm80 mm100 mm100 mm27 oct.48 mm27 oct.48 mm31 jul.6 mm31 jul.6 mm8 may.35 mm8 may.35 mm5 mar.20 mm5 mar.20 mm4 sept.13 mm4 sept.13 mmAhoraAhoraLa lluvia promedio (línea sólida) acumulada en un periodo móvil de 31 días centrado en el día en cuestión, con las bandas de percentiles del 25º al 75º y del 10º al 90º. La línea delgada punteada es el equivalente de nieve en líquido promedio correspondiente.SolLa duración del día en Madrid varía considerablemente durante el año. En 2021, el día más corto es el 21 de diciembre, con 9 horas y 17 minutos de luz natural; el día más largo es el 21 de junio, con 15 horas y 4 minutos de luz natural.Horas de luz natural y crepúsculoHoras de luz natural y crepúsculo en Madridene.feb.mar.abr.may.jun.jul.ago.sept.oct.nov.dic.0 h24 h4 h20 h8 h16 h12 h12 h16 h8 h20 h4 h24 h0 h12 h y 6 min20 mar.12 h y 6 min20 mar.15 h y 4 min21 jun.15 h y 4 min21 jun.12 h y 9 min22 sept.12 h y 9 min22 sept.9 h y 17 min21 dic.9 h y 17 min21 dic.nochenochedíaAhoraAhoraLa cantidad de horas durante las cuales el sol está visible (línea negra). De abajo (más amarillo) hacia arriba (más gris), las bandas de color indican: luz natural total, crepúsculo (civil, náutico y astronómico) y noche total.La salida del sol más temprana es a las 6:43 el 14 de junio, y la salida del sol más tardía es 1 hora y 58 minutos más tarde a las 8:42 el 30 de octubre. La puesta del sol más temprana es a las 17:48 el 7 de diciembre, y la puesta del sol más tardía es 4 horas y 1 minuto más tarde a las 21:49 el 27 de junio.Se observó el horario de verano (HDV) en Madrid durante el 2021; comenzó en la primavera el 28 de marzo, duró 7,1 meses, y se terminó en el otoño del 31 de octubre.Salida del sol y puesta del sol con crepúsculo y horario de veranoSalida del sol y puesta del sol con crepúsculo y horario de verano en Madridene.feb.mar.abr.may.jun.jul.ago.sept.oct.nov.dic.2468101214161820220214 jun.6:4314 jun.6:4321:4927 jun.21:4927 jun.7 dic.17:487 dic.17:488:4230 oct.8:4230 oct.28 mar.HDV28 mar.HDVHDV31 oct.HDV31 oct.díanochenochenochenocheMedianochesolarMedianochesolarMediodíasolarAmanecerAtardecerAhoraAhoraEl día solar durante el año 2021. De abajo hacia arriba, las líneas negras son la medianoche solar anterior, la salida del sol, el mediodía solar, la puesta del sol y la siguiente medianoche solar. El día, los crepúsculos (civil, náutico y astronómico) y la noche se indican por el color de las bandas, de amarillo a gris. Las transiciones hacia y del horario de verano se indican con la sigla HDV.LunaLa siguiente figura es una representación compacta de los principales datos de la luna en el 2021. El eje horizontal es el día, el eje vertical es la hora del día y las áreas sombreadas indican cuándo está la luna sobre el horizonte. Las barras grises verticales (luna nueva) y las barras azules (luna llena) indican las fases de la luna.Salida, puesta y fases de la lunaSalida, puesta y fases de la luna en Madridene.feb.mar.abr.may.jun.jul.ago.sept.oct.nov.dic.0044881212161620200013 ene.13 ene.28 ene.28 ene.11 feb.11 feb.27 feb.27 feb.13 mar.13 mar.28 mar.28 mar.12 abr.12 abr.27 abr.27 abr.11 may.11 may.26 may.26 may.10 jun.10 jun.24 jun.24 jun.10 jul.10 jul.24 jul.24 jul.8 ago.8 ago.22 ago.22 ago.7 sept.7 sept.21 sept.21 sept.6 oct.6 oct.20 oct.20 oct.4 nov.4 nov.19 nov.19 nov.4 dic.4 dic.19 dic.19 dic.La hora a la que la luna está sobre el horizonte (área azul claro) con la luna nueva (líneas gris obscuro) y la luna llena (líneas azules) indicadas. Las áreas sombreadas superpuestas indican la noche y el crepúsculo civil.HumedadBasamos el nivel de comodidad de la humedad en el punto de rocío, ya que éste determina si el sudor se evaporará de la piel enfriando así el cuerpo. Cuando los puntos de rocío son más bajos se siente más seco y cuando son altos se siente más húmedo. A diferencia de la temperatura, que generalmente varía considerablemente entre la noche y el día, el punto de rocío tiende a cambiar más lentamente, así es que aunque la temperatura baje en la noche, en un día húmedo generalmente la noche es húmeda.El nivel de humedad percibido en Madrid, medido por el porcentaje de tiempo en el cual el nivel de comodidad de humedad es bochornoso, opresivo o insoportable, no varía considerablemente durante el año, y permanece prácticamente constante en 0 %.Niveles de comodidad de la humedadNiveles de comodidad de la humedad en Madridene.feb.mar.abr.may.jun.jul.ago.sept.oct.nov.dic.0 %0 %10 %10 %20 %20 %30 %30 %40 %40 %50 %50 %60 %60 %70 %70 %80 %80 %90 %90 %100 %100 %3 feb.0 %3 feb.0 %26 jul.0 %26 jul.0 %AhoraAhoracómodocómodosecosecoseco13 °Ccómodo16 °Chúmedo18 °Cbochornoso21 °Copresivo24 °CinsoportableEl porcentaje de tiempo pasado en varios niveles de comodidad de humedad, categorizado por el punto de rocío.VientoEsta sección trata sobre el vector de viento promedio por hora del área ancha (velocidad y dirección) a 10 metros sobre el suelo. El viento de cierta ubicación depende en gran medida de la topografía local y de otros factores; y la velocidad instantánea y dirección del viento varían más ampliamente que los promedios por hora.La velocidad promedio del viento por hora en Madrid tiene variaciones estacionales leves en el transcurso del año.La parte más ventosa del año dura 3,4 meses, del 27 de enero al 7 de mayo, con velocidades promedio del viento de más de 12,7 kilómetros por hora. El día más ventoso del año en el 5 de abril, con una velocidad promedio del viento de 14,1 kilómetros por hora.El tiempo más calmado del año dura 8,6 meses, del 7 de mayo al 27 de enero. El día más calmado del año es el 16 de septiembre, con una velocidad promedio del viento de 11,4 kilómetros por hora.Velocidad promedio del vientoVelocidad promedio del viento en Madridventosoene.feb.mar.abr.may.jun.jul.ago.sept.oct.nov.dic.0 km/h0 km/h5 km/h5 km/h10 km/h10 km/h15 km/h15 km/h20 km/h20 km/h5 abr.14,1 km/h5 abr.14,1 km/h16 sept.11,4 km/h16 sept.11,4 km/h27 ene.12,7 km/h27 ene.12,7 km/hAhoraAhoraEl promedio de la velocidad media del viento por hora (línea gris oscuro), con las bandas de percentil 25º a 75º y 10º a 90º.La dirección predominante promedio por hora del viento en Madrid varía durante el año.El viento con más frecuencia viene del oeste durante 2,0 semanas, del 4 de abril al 18 de abril y durante 6,2 meses, del 26 de abril al 31 de octubre, con un porcentaje máximo del 33 % en 4 de agosto. El viento con más frecuencia viene del norte durante 1,1 semanas, del 18 de abril al 26 de abril y durante 5,1 meses, del 31 de octubre al 4 de abril, con un porcentaje máximo del 32 % en 21 de abril.Dirección del vientoDirección del viento en MadridNOONene.feb.mar.abr.may.jun.jul.ago.sept.oct.nov.dic.0 %100 %20 %80 %40 %60 %60 %40 %80 %20 %100 %0 %AhoraAhoraoestenortesurestenorteestesuroesteEl porcentaje de horas en las que la dirección media del viento viene de cada uno de los cuatro puntos cardinales, excluidas las horas en que la velocidad media del viento es menos de 1,6 km/h. Las áreas de colores claros en los límites son el porcentaje de horas que pasa en las direcciones intermedias implícitas (noreste, sureste, suroeste y noroeste).La mejor época del año para visitarPara describir qué tan agradable es el clima en Madrid durante el año, calculamos dos puntuaciones para viajar.La puntuación de turismo favorece los días despejados y sin lluvia con temperaturas percibidas entre 18 °C y 27 °C. En base a esta puntuación, la mejor época del año para visitar Madrid para las actividades turísticas generales a la intemperie es desde finales de mayo hasta principios de octubre, con una puntuación máxima en la segunda semana de septiembre.Puntuación de turismoPuntuación de turismo en Madridmejor épocaene.feb.mar.abr.may.jun.jul.ago.sept.oct.nov.dic.002244668810107.57.50.50.57.27.26.76.7AhoraAhoraprecipitaciónprecipitaciónnubesnubestemperaturatemperaturapuntuación de turismoLa puntuación de turismo (área rellena) y sus componentes: la puntuación de temperatura (línea roja), la puntuación de nubosidad (línea azul) y la puntuación de precipitación (línea verde).La puntuación de playa/piscina favorece días despejados, sin lluvia, con temperaturas percibidas entre 24 °C y 32 °C. En base a esta puntuación, la mejor época del año para visitar Madrid para actividades de clima caluroso es desde finales de junio hasta finales de agosto, con una puntuación máxima en la última semana de julio.Puntuación de playa/piscinaPunturación de playa/piscina en Madridmejor épocaene.feb.mar.abr.may.jun.jul.ago.sept.oct.nov.dic.002244668810108.68.60.00.0AhoraAhoraprecipitaciónprecipitaciónnubesnubestemperaturatemperaturapuntuación de playa/piscinaLa puntuación de playa/piscina (área rellena) y sus componentes: la puntuación de temperatura (línea roja), la puntuación de cobertura de nubes (línea azul) y la puntuación de precipitación (línea verde).MetodologíaPara cada hora entre 8:00 y 21:00 del día en el período de análisis (1980 a 2016), se calculan las puntuaciones independientes de temperatura percibida, nubosidad y precipitación total. Esas puntuaciones se combinan en una sola puntuación compuesta por hora, que luego se agregan por día y se promedian todos los años del periodo de análisis y se suavizan.Nuestra puntuación de nubosidad es 10 cuando el cielo está despejado y baja linealmente a 9 cuando el cielo está mayormente despejado y a 1 cuando el cielo está totalmente nublado.Nuestra puntuación de precipitación, que se basa en la precipitación de tres horas centrada en la hora en cuestión, es 10 si no hay precipitación y baja linealmente a 9 si hay vestigios de precipitación y a 0 si hay 1 milímetro o más de precipitación.Nuestra puntuación de turismo es 0 si las temperaturas percibidas son inferiores a 10 °C, sube linealmente a 9 si son 18 °C, a 10 si son 24 °C y baja linealmente a 9 si son 27 °C y a 1 si son superiores 32 °C o superiores.Nuestra puntuación de playa/piscina es 0 si las temperaturas percibidas son inferiores a 18 °C, aumenta linealmente a 9 si son 24 °C, a 10 si son 28 °C, y baja linealmente a 9 si son 32 °C y a 1 si son 38 °C o superiores.Periodo de cultivoLas definiciones del periodo de cultivo varían en todo el mundo, pero para fines de este informe, lo definimos con el periodo continuo más largo de temperaturas sin heladas (≥ 0 °C) del año (el año calendario en el hemisferio norte o del 1 de julio al 30 de junio en el hemisferio sur).El periodo de cultivo en Madrid normalmente dura 7,6 meses (232 días), desde aproximadamente el 28 de marzo hasta aproximadamente el 15 de noviembre, rara vez comienza antes del 27 de febrero o después del 22 de abril y rara vez se termina antes del 27 de octubre o después del 7 de diciembre.Tiempo que se pasa en diferentes bandas de temperatura y el periodo de cultivoTiempo que se pasa en diferentes bandas de temperatura y el periodo de cultivo en Madridperiodo de cultivoene.feb.mar.abr.may.jun.jul.ago.sept.oct.nov.dic.0 %100 %10 %90 %20 %80 %30 %70 %40 %60 %50 %50 %60 %40 %70 %30 %80 %20 %90 %10 %100 %0 %50 %28 mar.50 %28 mar.50 %15 nov.50 %15 nov.90 %22 abr.90 %22 abr.90 %27 oct.90 %27 oct.10 %27 feb.10 %27 feb.10 %7 dic.10 %7 dic.0 %20 ene.0 %20 ene.1 ago.100 %1 ago.100 %AhoraAhoramuy fríafríafrescacómodacalientemuy calientefrígida-9 °Chelada0 °Cmuy fría7 °Cfría13 °Cfresca18 °Ccómoda24 °Ccaliente29 °Cmuy caliente35 °CtórridaEl porcentaje de tiempo que se pasa en diferentes bandas de temperatura. La línea negra es el porcentaje de probabilidad de que un día dado esté dentro del periodo de cultivo.Los grados día de crecimiento son una medida de la acumulación de calor anual que se usan para predecir el desarrollo de las plantas y los animales y se define como la integral térmica por encima de una temperatura base, descartando el exceso por encima de una temperatura máxima. En este informe usamos una base de 10 °C y un tope máximo de 30 °CEn base únicamente a los grados día de crecimiento, en Madrid las primeras flores brotan alrededor del 13 de marzo y rara vez brotan antes del 2 de marzo o después del 31 de marzo.Grados día de crecimientoGrados día de crecimiento en Madridene.feb.mar.abr.may.jun.jul.ago.sept.oct.nov.dic.0 °C0 °C500 °C500 °C1.000 °C1.000 °C1.500 °C1.500 °C2.000 °C2.000 °C13 mar.49 °C13 mar.49 °C11 jun.500 °C11 jun.500 °C19 jul.1.000 °C19 jul.1.000 °C31 dic.2.172 °C31 dic.2.172 °CAhoraAhoraLos grados día de crecimiento promedio acumulados en el transcurso del año, con las bandas de percentiles 25 a 75 y 10 a 90.Energía solarEsta sección trata sobre la energía solar de onda corta incidente diaria total que llega a la superficie de la tierra en una área amplia, tomando en cuenta las variaciones estacionales de la duración del día, la elevación del sol sobre el horizonte y la absorción de las nubes y otros elementos atmosféricos. La radiación de onda corta incluye luz visible y radiación ultravioleta.La energía solar de onda corta incidente promedio diaria tiene variaciones estacionales extremas durante el año.El período más resplandeciente del año dura 3,2 meses, del 13 de mayo al 21 de agosto, con una energía de onda corta incidente diaria promedio por metro cuadrado superior a 7,0 kWh. El día más resplandeciente del año es el 6 de julio, con un promedio de 8,3 kWh.El periodo más obscuro del año dura 3,5 meses, del 28 de octubre al 13 de febrero, con una energía de onda corta incidente diaria promedio por metro cuadrado de menos de 3,2 kWh. El día más obscuro del año es el 20 de diciembre, con un promedio de 2,0 kWh.Energía solar de onda corta incidente diaria promedioEnergía solar de onda corta incidente diaria promedio en Madridresplandecienteobscuroobscuroene.feb.mar.abr.may.jun.jul.ago.sept.oct.nov.dic.0 kWh0 kWh1 kWh1 kWh2 kWh2 kWh3 kWh3 kWh4 kWh4 kWh5 kWh5 kWh6 kWh6 kWh7 kWh7 kWh8 kWh8 kWh9 kWh9 kWh10 kWh10 kWh6 jul.8,3 kWh6 jul.8,3 kWh20 dic.2,0 kWh20 dic.2,0 kWh13 may.7,0 kWh13 may.7,0 kWh21 ago.7,0 kWh21 ago.7,0 kWh28 oct.3,2 kWh28 oct.3,2 kWh13 feb.3,2 kWh13 feb.3,2 kWhAhoraAhoraLa energía solar de onda corta promedio diaria que llega a la tierra por metro cuadrado (línea anaranjada), con las bandas de percentiles 25º a 75º y 10º a 90º.TopografíaPara fines de este informe, las coordenadas geográficas de Madrid son latitud: 40,417°, longitud: -3,703°, y elevación: 665 m.La topografía en un radio de 3 kilómetros de Madrid contiene solamente variaciones modestas de altitud, con un cambio máximo de altitud de 144 metros y una altitud promedio sobre el nivel del mar de 644 metros. En un radio de 16 kilómetros contiene solamente variaciones modestas de altitud (238 metros). En un radio de 80 kilómetros contiene variaciones grandes de altitud (2.017 metros).El área en un radio de 3 kilómetros de Madrid está cubierta de superficies artificiales (100 %), en un radio de 16 kilómetros de superficies artificiales (61 %) y tierra de cultivo (19 %) y en un radio de 80 kilómetros de tierra de cultivo (50 %) y árboles (19 %).Fuentes de los datosEste informe ilustra el clima típico en Madrid, basado en un análisis estadístico de informes climatológicos históricos por hora y reconstrucciones de modelos del 1 de enero de 1980 al 31 de diciembre de 2016.Temperatura y punto de rocíoHay 3 estaciones meteorológicas suficientemente cerca para contribuir a nuestros cálculos de temperatura y punto de rocío en Madrid.Los valores se corrigen para cada estación según la diferencia de altitud entre esa estación y Madrid, de conformidad con la International Standard Atmosphere y con el cambio relativo presente en el reanálisis de la era de satélites MERRA-2 entre las dos ubicaciones.El valor estimado en Madrid se calcula como un promedio ponderado de las aportaciones individuales de cada estación, siendo estos promedios ponderados proporcionales a la inversa de la distancia entre Madrid y una estación dada.Las estaciones que contribuyen a esta reconstrucción son: Aeropuerto de Madrid-Barajas (95 %, 14 kilómetros, noreste); Aeropuerto de Salamanca (2,7 %, 163 kilómetros, oeste) y Aeropuerto de Valladolid (2,5 %, 173 kilómetros, noroeste).Otros datosTodos los datos relacionados con la posición del sol (salida del sol y puesta del sol) se calculan usando fórmulas astronómicas del libro Astronomical Algorithms, 2ª edición , de Jean Meeus.Todos los datos climatológicos, incluida la nubosidad, precipitación, velocidad y dirección del viento y flujo solar vienen de MERRA-2 Modern-Era Retrospective Analysis de NASA. Este reanálisis combina una variedad de medidas de área amplia en un moderno modelo meteorológico mundial para reconstruir la historia del clima, hora por hora, de todo el mundo en una cuadrícula con bloques de 50 km.Los datos del uso de la tierra vienen de la base de datos de la superficie terrestre Global Land Cover SHARE database , publicada por la Organización de las Naciones Unidas para la Alimentación y Agricultura.Los datos de las elevaciones vienen de Shuttle Radar Topography Mission (SRTM) , publicado por el laboratorio Jet Propulsion Laboratory de NASA.Los nombres, las ubicaciones y los husos horarios de los lugares y de algunos aeropuertos provienen de la base de datos GeoNames Geographical Database .AskGeo.com proporciona los husos horarios para los aeropuertos y las estaciones meteorológicas.Los mapas tienen © de Esri, con datos de National Geographic, Esri, DeLorme, AVTEQ, UNEP-WCMC, USGS, NASA, ESA, METI, NRCAN, GEBCO, NOAA y iPC.Descargo de responsabilidadLa información de este sitio se proporciona tal cual, sin garantías sobre su veracidad o idoneidad para un fin en particular. Los datos climatológicos son propensos a errores, discrepancias y otros defectos. No asumimos responsabilidad alguna por decisiones tomadas en base al contenido de este sitio.Hacemos incapié cauteloso en que nos basamos en las reconstrucciones basadas en el modelo MERRA-2 para una variedad de importantes series de datos. Aunque tenemos las grandes ventajas de información espacial y temporal completa, estas reconstrucciones: (1) se basan en modelos informáticos que podrían tener errores en el modelo, (2) se muestrean a grandes rasgos en una cuadrícula de 50 km y, por lo tanto, no se pueden reconstruir con las variaciones locales de muchos microclimas y (3) tienen una dificultad particular con el clima en algunas áreas costeras, especialmente islas pequeñas.Se advierte además que nuestras puntuaciones de viaje solamente son tan buenas como los datos en los que se basan, que las condiciones del clima en una ubicación y un momento dados son impredecibles y variables y que la definición de las puntuaciones refleja un conjunto en particular de preferencias que quizás no estén de acuerdo con las de un lector en particular.MadridProvincia de Madrid, Comunidad Autónoma de Madrid, EspañaMapa interactivo »© Esri, et al.Año completoHoyene.feb.mar.abr.may.jun.jul.ago.sept.oct.nov.dic.ResumenTemperaturaNubesPrecipitaciónSolLunaHumedadVientoLa mejor época para visitarPeriodo de cultivoEnergía solarTopografíaFuentes de los datos'"
      ]
     },
     "execution_count": 38,
     "metadata": {},
     "output_type": "execute_result"
    }
   ],
   "source": [
    "#Nuestros resultados para Madrid. Ahora nos tocará buscar las secciones del reporte meteorológico que nos interesen y\n",
    "#seleccionarlas mediante regex.\n",
    "\n",
    "results_stripped"
   ]
  },
  {
   "cell_type": "code",
   "execution_count": 39,
   "metadata": {},
   "outputs": [
    {
     "data": {
      "text/plain": [
       "['La temporada calurosa dura 2,9 meses, del 15 de junio al 10 de septiembre, y la temperatura máxima promedio diaria es más de 29 °C. El día más caluroso del año es el 23 de julio, con una temperatura máxima promedio de 33 °C y una temperatura mínima promedio de 18 °C.La temporada fresca dura 3,7 meses, del 14 de noviembre al 5 de marzo, y la temperatura máxima promedio diaria es menos de 15 °C. El día más frío del año es el 15 de enero, con una temperatura mínima promedio de 0 °C y máxima promedio de 10 °C.']"
      ]
     },
     "execution_count": 39,
     "metadata": {},
     "output_type": "execute_result"
    }
   ],
   "source": [
    "#Comprobamos que nuestro primer filtro mediante regex captura el elemento que realmente buscamos.\n",
    "\n",
    "import re\n",
    "\n",
    "temporada = re.findall(\"(?=La temporada calurosa).*?(?=Temperatura máxima)\", results_stripped)\n",
    "temporada"
   ]
  },
  {
   "cell_type": "code",
   "execution_count": 40,
   "metadata": {},
   "outputs": [
    {
     "data": {
      "text/plain": [
       "['La parte más despejada del año en Madrid comienza aproximadamente el 11 de junio; dura 3,0 meses y se termina aproximadamente el 12 de septiembre. El 21 de julio, el día más despejado del año, el cielo está despejado, mayormente despejado o parcialmente nublado el 88 % del tiempo y nublado o mayormente nublado el 12 % del tiempo.La parte más nublada del año comienza aproximadamente el 12 de septiembre; dura 9,0 meses y se termina aproximadamente el 11 de junio. El 16 de diciembre, el día más nublado del año, el cielo está nublado o mayormente nublado el 52 % del tiempo y despejado, mayormente despejado o parcialmente nublado el 48 % del tiempo.']"
      ]
     },
     "execution_count": 40,
     "metadata": {},
     "output_type": "execute_result"
    }
   ],
   "source": [
    "#Repetimos el mismo procedimiento para cada sección de interés. Asignar la búsqueda por regex a una variable nos facilitará\n",
    "#crear una función para hacer el web scraping y generar un diccionario fácilmente.\n",
    "\n",
    "nubosidad = re.findall(\"(?=La parte más despejada).*?(?=Categorías de nubosidad)\", results_stripped)\n",
    "nubosidad"
   ]
  },
  {
   "cell_type": "code",
   "execution_count": 41,
   "metadata": {},
   "outputs": [
    {
     "data": {
      "text/plain": [
       "['La temporada más mojada dura 8,4 meses, de 1 de octubre a 14 de junio, con una probabilidad de más del 14 % de que cierto día será un día mojado. La probabilidad máxima de un día mojado es del 23 % el 29 de abril.La temporada más seca dura 3,6 meses, del 14 de junio al 1 de octubre. La probabilidad mínima de un día mojado es del 4 % el 19 de julio.Entre los días mojados, distinguimos entre los que tienen solamente lluvia, solamente nieve o una combinación de las dos. En base a esta categorización, el tipo más común de precipitación durante el año es solo lluvia, con una probabilidad máxima del 23 % el 29 de abril.']"
      ]
     },
     "execution_count": 41,
     "metadata": {},
     "output_type": "execute_result"
    }
   ],
   "source": [
    "precipitaciones = re.findall(\"(?=La temporada más mojada).*?(?=Probabilidad diaria de precipitación)\", results_stripped)\n",
    "precipitaciones"
   ]
  },
  {
   "cell_type": "code",
   "execution_count": 42,
   "metadata": {},
   "outputs": [
    {
     "data": {
      "text/plain": [
       "['La temporada de lluvia dura 9,9 meses, del 4 de septiembre al 2 de julio, con un intervalo móvil de 31 días de lluvia de por lo menos 13 milímetros. La mayoría de la lluvia cae durante los 31 días centrados alrededor del 27 de octubre, con una acumulación total promedio de 48 milímetros.El periodo del año sin lluvia dura 2,1 meses, del 2 de julio al 4 de septiembre. La fecha aproximada con la menor cantidad de lluvia es el 31 de julio, con una acumulación total promedio de 6 milímetros.']"
      ]
     },
     "execution_count": 42,
     "metadata": {},
     "output_type": "execute_result"
    }
   ],
   "source": [
    "lluvia = re.findall(\"(?=La temporada de lluvia).*?(?=Precipitación de lluvia mensual promedio)\", results_stripped)\n",
    "lluvia"
   ]
  },
  {
   "cell_type": "code",
   "execution_count": 43,
   "metadata": {},
   "outputs": [
    {
     "data": {
      "text/plain": [
       "['La puntuación de turismo favorece los días despejados y sin lluvia con temperaturas percibidas entre 18 °C y 27 °C. En base a esta puntuación, la mejor época del año para visitar Madrid para las actividades turísticas generales a la intemperie es desde finales de mayo hasta principios de octubre, con una puntuación máxima en la segunda semana de septiembre.']"
      ]
     },
     "execution_count": 43,
     "metadata": {},
     "output_type": "execute_result"
    }
   ],
   "source": [
    "turismo = re.findall(\"(?=La puntuación de turismo).*?(?=Puntuación de turismo)\", results_stripped)\n",
    "turismo"
   ]
  },
  {
   "cell_type": "code",
   "execution_count": 85,
   "metadata": {},
   "outputs": [],
   "source": [
    "#Ahora que tenemos todas los componentes de la función testeados individualmente es hora de ponerlos a trabajar. Definimos\n",
    "#la función para realizar el scraping de las localidades (en nuestro caso serán las capitales de provincia).\n",
    "\n",
    "import time\n",
    "\n",
    "def meteo(localidad):\n",
    "    df_provincias \n",
    "    driver = webdriver.Chrome()\n",
    "    driver.get('https://es.weatherspark.com/')\n",
    "    query_box = driver.find_element_by_class_name('LiveSearch-FrontPage-field')\n",
    "    time.sleep(1) #Incluimos una pausa de 1s para que el navegador tenga tiempo de cargar la información.\n",
    "    query_box.click()\n",
    "    query_box.send_keys(localidad + ' ' + 'ESPAÑA')\n",
    "    query_box.send_keys(Keys.ENTER)\n",
    "    time.sleep(1)\n",
    "    results = driver.find_element_by_id(\"Report-Body\")\n",
    "    results_text = results.text\n",
    "    results_stripped = results_text.replace('\\n','')\n",
    "    temporada = re.findall(\"(?=La temporada).*?(?=Temperatura máxima)\", results_stripped)\n",
    "    nubosidad = re.findall(\"(?=La parte más despejada).*?(?=Categorías de nubosidad)\", results_stripped)\n",
    "    precipitaciones = re.findall(\"(?=La temporada más mojada).*?(?=Probabilidad diaria de precipitación)\", results_stripped)\n",
    "    lluvia = re.findall(\"(?=La mayoría de la lluvia).*?(?=Precipitación de lluvia mensual promedio)\", results_stripped)\n",
    "    turismo = re.findall(\"(?=La puntuación de turismo).*?(?=Puntuación de turismo)\", results_stripped)\n",
    "    meteo_localidad = {\"capital\": localidad, \"temporadas\": temporada[0],  \"nubosidad\": nubosidad[0], \"precipitaciones\": precipitaciones[0], \"lluvia\": lluvia[0], \"turismo\": turismo[0]}\n",
    "    return meteo_localidad #La función simplemente retorna un diccionario con la localidad y las características de la meteo. "
   ]
  },
  {
   "cell_type": "code",
   "execution_count": 86,
   "metadata": {},
   "outputs": [
    {
     "data": {
      "text/plain": [
       "{'capital': 'GIRONA',\n",
       " 'temporadas': 'La temporada calurosa dura 2,8 meses, del 18 de junio al 10 de septiembre, y la temperatura máxima promedio diaria es más de 27 °C. El día más caluroso del año es el 5 de agosto, con una temperatura máxima promedio de 31 °C y una temperatura mínima promedio de 18 °C.La temporada fresca dura 4,0 meses, del 16 de noviembre al 15 de marzo, y la temperatura máxima promedio diaria es menos de 17 °C. El día más frío del año es el 10 de enero, con una temperatura mínima promedio de 2 °C y máxima promedio de 13 °C.',\n",
       " 'nubosidad': 'La parte más despejada del año en Girona comienza aproximadamente el 19 de junio; dura 2,5 meses y se termina aproximadamente el 5 de septiembre. El 20 de julio, el día más despejado del año, el cielo está despejado, mayormente despejado o parcialmente nublado el 82 % del tiempo y nublado o mayormente nublado el 18 % del tiempo.La parte más nublada del año comienza aproximadamente el 5 de septiembre; dura 9,5 meses y se termina aproximadamente el 19 de junio. El 22 de octubre, el día más nublado del año, el cielo está nublado o mayormente nublado el 49 % del tiempo y despejado, mayormente despejado o parcialmente nublado el 51 % del tiempo.',\n",
       " 'precipitaciones': 'La temporada más mojada dura 10,0 meses, de 20 de agosto a 18 de junio, con una probabilidad de más del 16 % de que cierto día será un día mojado. La probabilidad máxima de un día mojado es del 22 % el 8 de mayo.La temporada más seca dura 2,0 meses, del 18 de junio al 20 de agosto. La probabilidad mínima de un día mojado es del 10 % el 14 de julio.Entre los días mojados, distinguimos entre los que tienen solamente lluvia, solamente nieve o una combinación de las dos. En base a esta categorización, el tipo más común de precipitación durante el año es solo lluvia, con una probabilidad máxima del 22 % el 8 de mayo.',\n",
       " 'lluvia': 'La mayoría de la lluvia cae durante los 31 días centrados alrededor del 18 de octubre, con una acumulación total promedio de 67 milímetros.La fecha aproximada con la menor cantidad de lluvia es el 14 de julio, con una acumulación total promedio de 23 milímetros.',\n",
       " 'turismo': 'La puntuación de turismo favorece los días despejados y sin lluvia con temperaturas percibidas entre 18 °C y 27 °C. En base a esta puntuación, la mejor época del año para visitar Girona para las actividades turísticas generales a la intemperie es desde finales de mayo hasta principios de octubre, con una puntuación máxima en la última semana de junio.'}"
      ]
     },
     "execution_count": 86,
     "metadata": {},
     "output_type": "execute_result"
    }
   ],
   "source": [
    "#Testeando la función.\n",
    "\n",
    "meteo('GIRONA')"
   ]
  },
  {
   "cell_type": "markdown",
   "metadata": {},
   "source": [
    "## 2. Obteniendo los datos meteorológicos de cada provincia en un DF."
   ]
  },
  {
   "cell_type": "code",
   "execution_count": 87,
   "metadata": {},
   "outputs": [
    {
     "data": {
      "text/html": [
       "<div>\n",
       "<style scoped>\n",
       "    .dataframe tbody tr th:only-of-type {\n",
       "        vertical-align: middle;\n",
       "    }\n",
       "\n",
       "    .dataframe tbody tr th {\n",
       "        vertical-align: top;\n",
       "    }\n",
       "\n",
       "    .dataframe thead th {\n",
       "        text-align: right;\n",
       "    }\n",
       "</style>\n",
       "<table border=\"1\" class=\"dataframe\">\n",
       "  <thead>\n",
       "    <tr style=\"text-align: right;\">\n",
       "      <th></th>\n",
       "      <th>provincia</th>\n",
       "      <th>altitud</th>\n",
       "      <th>distancia</th>\n",
       "      <th>desnivel</th>\n",
       "      <th>pendiente</th>\n",
       "      <th>coeficiente</th>\n",
       "    </tr>\n",
       "  </thead>\n",
       "  <tbody>\n",
       "    <tr>\n",
       "      <th>0</th>\n",
       "      <td>A CORUÑA</td>\n",
       "      <td>505</td>\n",
       "      <td>6</td>\n",
       "      <td>436</td>\n",
       "      <td>7</td>\n",
       "      <td>117</td>\n",
       "    </tr>\n",
       "    <tr>\n",
       "      <th>1</th>\n",
       "      <td>ALBACETE</td>\n",
       "      <td>1402</td>\n",
       "      <td>12</td>\n",
       "      <td>782</td>\n",
       "      <td>6</td>\n",
       "      <td>174</td>\n",
       "    </tr>\n",
       "    <tr>\n",
       "      <th>2</th>\n",
       "      <td>ALICANTE</td>\n",
       "      <td>810</td>\n",
       "      <td>7</td>\n",
       "      <td>577</td>\n",
       "      <td>7</td>\n",
       "      <td>171</td>\n",
       "    </tr>\n",
       "    <tr>\n",
       "      <th>3</th>\n",
       "      <td>ALMERÍA</td>\n",
       "      <td>1670</td>\n",
       "      <td>18</td>\n",
       "      <td>1001</td>\n",
       "      <td>4</td>\n",
       "      <td>216</td>\n",
       "    </tr>\n",
       "    <tr>\n",
       "      <th>4</th>\n",
       "      <td>ASTURIAS</td>\n",
       "      <td>1163</td>\n",
       "      <td>11</td>\n",
       "      <td>818</td>\n",
       "      <td>7</td>\n",
       "      <td>226</td>\n",
       "    </tr>\n",
       "  </tbody>\n",
       "</table>\n",
       "</div>"
      ],
      "text/plain": [
       "  provincia  altitud  distancia  desnivel  pendiente  coeficiente\n",
       "0  A CORUÑA      505          6       436          7          117\n",
       "1  ALBACETE     1402         12       782          6          174\n",
       "2  ALICANTE      810          7       577          7          171\n",
       "3   ALMERÍA     1670         18      1001          4          216\n",
       "4  ASTURIAS     1163         11       818          7          226"
      ]
     },
     "execution_count": 87,
     "metadata": {},
     "output_type": "execute_result"
    }
   ],
   "source": [
    "#Importamos el DF de provincias creado anteriormente para combinarlo con nuestro DF de meteorología.\n",
    "\n",
    "import pandas as pd\n",
    "\n",
    "df_provincias = pd.read_csv('provincias.csv')\n",
    "df_provincias.head()"
   ]
  },
  {
   "cell_type": "code",
   "execution_count": 88,
   "metadata": {},
   "outputs": [
    {
     "data": {
      "text/html": [
       "<div>\n",
       "<style scoped>\n",
       "    .dataframe tbody tr th:only-of-type {\n",
       "        vertical-align: middle;\n",
       "    }\n",
       "\n",
       "    .dataframe tbody tr th {\n",
       "        vertical-align: top;\n",
       "    }\n",
       "\n",
       "    .dataframe thead th {\n",
       "        text-align: right;\n",
       "    }\n",
       "</style>\n",
       "<table border=\"1\" class=\"dataframe\">\n",
       "  <thead>\n",
       "    <tr style=\"text-align: right;\">\n",
       "      <th></th>\n",
       "      <th>provincia</th>\n",
       "      <th>altitud</th>\n",
       "      <th>distancia</th>\n",
       "      <th>desnivel</th>\n",
       "      <th>pendiente</th>\n",
       "      <th>coeficiente</th>\n",
       "      <th>capital</th>\n",
       "    </tr>\n",
       "  </thead>\n",
       "  <tbody>\n",
       "    <tr>\n",
       "      <th>0</th>\n",
       "      <td>A CORUÑA</td>\n",
       "      <td>505</td>\n",
       "      <td>6</td>\n",
       "      <td>436</td>\n",
       "      <td>7</td>\n",
       "      <td>117</td>\n",
       "      <td>A CORUÑA</td>\n",
       "    </tr>\n",
       "    <tr>\n",
       "      <th>1</th>\n",
       "      <td>ALBACETE</td>\n",
       "      <td>1402</td>\n",
       "      <td>12</td>\n",
       "      <td>782</td>\n",
       "      <td>6</td>\n",
       "      <td>174</td>\n",
       "      <td>ALBACETE</td>\n",
       "    </tr>\n",
       "    <tr>\n",
       "      <th>2</th>\n",
       "      <td>ALICANTE</td>\n",
       "      <td>810</td>\n",
       "      <td>7</td>\n",
       "      <td>577</td>\n",
       "      <td>7</td>\n",
       "      <td>171</td>\n",
       "      <td>ALICANTE</td>\n",
       "    </tr>\n",
       "    <tr>\n",
       "      <th>3</th>\n",
       "      <td>ALMERÍA</td>\n",
       "      <td>1670</td>\n",
       "      <td>18</td>\n",
       "      <td>1001</td>\n",
       "      <td>4</td>\n",
       "      <td>216</td>\n",
       "      <td>ALMERÍA</td>\n",
       "    </tr>\n",
       "    <tr>\n",
       "      <th>4</th>\n",
       "      <td>ASTURIAS</td>\n",
       "      <td>1163</td>\n",
       "      <td>11</td>\n",
       "      <td>818</td>\n",
       "      <td>7</td>\n",
       "      <td>226</td>\n",
       "      <td>ASTURIAS</td>\n",
       "    </tr>\n",
       "  </tbody>\n",
       "</table>\n",
       "</div>"
      ],
      "text/plain": [
       "  provincia  altitud  distancia  desnivel  pendiente  coeficiente   capital\n",
       "0  A CORUÑA      505          6       436          7          117  A CORUÑA\n",
       "1  ALBACETE     1402         12       782          6          174  ALBACETE\n",
       "2  ALICANTE      810          7       577          7          171  ALICANTE\n",
       "3   ALMERÍA     1670         18      1001          4          216   ALMERÍA\n",
       "4  ASTURIAS     1163         11       818          7          226  ASTURIAS"
      ]
     },
     "execution_count": 88,
     "metadata": {},
     "output_type": "execute_result"
    }
   ],
   "source": [
    "#Añadimos una columna para la capital de provincia, que usaremos para obtener los datos meteorológicos.\n",
    "\n",
    "df_provincias['capital'] = df_provincias['provincia']\n",
    "df_provincias.head()"
   ]
  },
  {
   "cell_type": "code",
   "execution_count": 90,
   "metadata": {},
   "outputs": [],
   "source": [
    "#Ya que algunas provincias no comparten el nombre con su capital necesitaremos cambiar esos valores.\n",
    "\n",
    "df_provincias['capital'] = df_provincias['capital'].replace(['ÁLAVA'], 'VITORIA')\n",
    "df_provincias['capital'] = df_provincias['capital'].replace(['ASTURIAS'], 'OVIEDO')\n",
    "df_provincias['capital'] = df_provincias['capital'].replace(['CANTBRIA'], 'SANTANDER')\n",
    "df_provincias['capital'] = df_provincias['capital'].replace(['GIPUZKOA'], 'SAN SEBASTIÁN')\n",
    "df_provincias['capital'] = df_provincias['capital'].replace(['NAVARRA'], 'PAMPLONA')\n",
    "df_provincias['capital'] = df_provincias['capital'].replace(['LA RIOJA'], 'LOGROÑO')\n",
    "df_provincias['capital'] = df_provincias['capital'].replace(['BIZKAIA'], 'BILBAO')"
   ]
  },
  {
   "cell_type": "code",
   "execution_count": 91,
   "metadata": {},
   "outputs": [
    {
     "name": "stdout",
     "output_type": "stream",
     "text": [
      "['A CORUÑA', 'ALBACETE', 'ALICANTE', 'ALMERÍA', 'OVIEDO', 'BADAJOZ', 'BARCELONA', 'BILBAO', 'BURGOS', 'CANTABRIA', 'CASTELLÓN', 'CEUTA', 'CIUDAD REAL', 'CUENCA', 'CÁCERES', 'CÁDIZ', 'CÓRDOBA', 'GERONA', 'SAN SEBASTIÁN', 'GRANADA', 'GUADALAJARA', 'HUELVA', 'HUESCA', 'JAÉN', 'LOGROÑO', 'LEÓN', 'LLEIDA', 'LUGO', 'MADRID', 'MURCIA', 'MÁLAGA', 'PAMPLONA', 'OURENSE', 'PALENCIA', 'PONTEVEDRA', 'SALAMANCA', 'SEGOVIA', 'SEVILLA', 'SORIA', 'TARRAGONA', 'TERUEL', 'TOLEDO', 'VALENCIA', 'ZAMORA', 'ZARAGOZA', 'VITORIA', 'ÁVILA']\n"
     ]
    }
   ],
   "source": [
    "#Creamos una lista con la columna de capitales para poder pasarla fácilmente a la función.\n",
    "\n",
    "lista_capitales = df_provincias['capital'].tolist()\n",
    "print(lista_capitales)"
   ]
  },
  {
   "cell_type": "code",
   "execution_count": 96,
   "metadata": {},
   "outputs": [
    {
     "data": {
      "text/html": [
       "<div>\n",
       "<style scoped>\n",
       "    .dataframe tbody tr th:only-of-type {\n",
       "        vertical-align: middle;\n",
       "    }\n",
       "\n",
       "    .dataframe tbody tr th {\n",
       "        vertical-align: top;\n",
       "    }\n",
       "\n",
       "    .dataframe thead th {\n",
       "        text-align: right;\n",
       "    }\n",
       "</style>\n",
       "<table border=\"1\" class=\"dataframe\">\n",
       "  <thead>\n",
       "    <tr style=\"text-align: right;\">\n",
       "      <th></th>\n",
       "      <th>capital</th>\n",
       "      <th>temporadas</th>\n",
       "      <th>nubosidad</th>\n",
       "      <th>precipitaciones</th>\n",
       "      <th>lluvia</th>\n",
       "      <th>turismo</th>\n",
       "    </tr>\n",
       "  </thead>\n",
       "  <tbody>\n",
       "    <tr>\n",
       "      <th>0</th>\n",
       "      <td>A CORUÑA</td>\n",
       "      <td>La temporada templada dura 3,1 meses, del 21 d...</td>\n",
       "      <td>La parte más despejada del año en La Coruña co...</td>\n",
       "      <td>La temporada más mojada dura 7,8 meses, de 28 ...</td>\n",
       "      <td>La mayoría de la lluvia cae durante los 31 día...</td>\n",
       "      <td>La puntuación de turismo favorece los días des...</td>\n",
       "    </tr>\n",
       "  </tbody>\n",
       "</table>\n",
       "</div>"
      ],
      "text/plain": [
       "    capital                                         temporadas  \\\n",
       "0  A CORUÑA  La temporada templada dura 3,1 meses, del 21 d...   \n",
       "\n",
       "                                           nubosidad  \\\n",
       "0  La parte más despejada del año en La Coruña co...   \n",
       "\n",
       "                                     precipitaciones  \\\n",
       "0  La temporada más mojada dura 7,8 meses, de 28 ...   \n",
       "\n",
       "                                              lluvia  \\\n",
       "0  La mayoría de la lluvia cae durante los 31 día...   \n",
       "\n",
       "                                             turismo  \n",
       "0  La puntuación de turismo favorece los días des...  "
      ]
     },
     "execution_count": 96,
     "metadata": {},
     "output_type": "execute_result"
    }
   ],
   "source": [
    "#Comprobando que podamos pasar el diccionario generado por la función a un DF sin mayor inconveniente.\n",
    "\n",
    "df_meteo = pd.DataFrame([meteo('A CORUÑA')])\n",
    "df_meteo.head()"
   ]
  },
  {
   "cell_type": "code",
   "execution_count": 97,
   "metadata": {},
   "outputs": [],
   "source": [
    "#Pasando la función a la lista de capitales.\n",
    "\n",
    "for i in lista_capitales[1:]:\n",
    "    try:\n",
    "        meteo_dict = meteo(i)\n",
    "        df_meteo = df_meteo.append(meteo_dict, ignore_index=True)\n",
    "    except:\n",
    "        pass"
   ]
  },
  {
   "cell_type": "code",
   "execution_count": 100,
   "metadata": {},
   "outputs": [
    {
     "data": {
      "text/html": [
       "<div>\n",
       "<style scoped>\n",
       "    .dataframe tbody tr th:only-of-type {\n",
       "        vertical-align: middle;\n",
       "    }\n",
       "\n",
       "    .dataframe tbody tr th {\n",
       "        vertical-align: top;\n",
       "    }\n",
       "\n",
       "    .dataframe thead th {\n",
       "        text-align: right;\n",
       "    }\n",
       "</style>\n",
       "<table border=\"1\" class=\"dataframe\">\n",
       "  <thead>\n",
       "    <tr style=\"text-align: right;\">\n",
       "      <th></th>\n",
       "      <th>capital</th>\n",
       "      <th>temporadas</th>\n",
       "      <th>nubosidad</th>\n",
       "      <th>precipitaciones</th>\n",
       "      <th>lluvia</th>\n",
       "      <th>turismo</th>\n",
       "    </tr>\n",
       "  </thead>\n",
       "  <tbody>\n",
       "    <tr>\n",
       "      <th>0</th>\n",
       "      <td>A CORUÑA</td>\n",
       "      <td>La temporada templada dura 3,1 meses, del 21 d...</td>\n",
       "      <td>La parte más despejada del año en La Coruña co...</td>\n",
       "      <td>La temporada más mojada dura 7,8 meses, de 28 ...</td>\n",
       "      <td>La mayoría de la lluvia cae durante los 31 día...</td>\n",
       "      <td>La puntuación de turismo favorece los días des...</td>\n",
       "    </tr>\n",
       "    <tr>\n",
       "      <th>1</th>\n",
       "      <td>ALBACETE</td>\n",
       "      <td>La temporada calurosa dura 2,8 meses, del 15 d...</td>\n",
       "      <td>La parte más despejada del año en Albacete com...</td>\n",
       "      <td>La temporada más mojada dura 9,1 meses, de 11 ...</td>\n",
       "      <td>La mayoría de la lluvia cae durante los 31 día...</td>\n",
       "      <td>La puntuación de turismo favorece los días des...</td>\n",
       "    </tr>\n",
       "    <tr>\n",
       "      <th>2</th>\n",
       "      <td>ALICANTE</td>\n",
       "      <td>La temporada calurosa dura 3,0 meses, del 20 d...</td>\n",
       "      <td>La parte más despejada del año en Alicante com...</td>\n",
       "      <td>La temporada más mojada dura 8,6 meses, de 8 d...</td>\n",
       "      <td>La mayoría de la lluvia cae durante los 31 día...</td>\n",
       "      <td>La puntuación de turismo favorece los días des...</td>\n",
       "    </tr>\n",
       "    <tr>\n",
       "      <th>3</th>\n",
       "      <td>ALMERÍA</td>\n",
       "      <td>La temporada calurosa dura 2,9 meses, del 20 d...</td>\n",
       "      <td>La parte más despejada del año en Almería comi...</td>\n",
       "      <td>La temporada más mojada dura 7,6 meses, de 27 ...</td>\n",
       "      <td>La mayoría de la lluvia cae durante los 31 día...</td>\n",
       "      <td>La puntuación de turismo favorece los días des...</td>\n",
       "    </tr>\n",
       "    <tr>\n",
       "      <th>4</th>\n",
       "      <td>OVIEDO</td>\n",
       "      <td>La temporada templada dura 2,9 meses, del 25 d...</td>\n",
       "      <td>La parte más despejada del año en Oviedo comie...</td>\n",
       "      <td>La temporada más mojada dura 8,0 meses, de 26 ...</td>\n",
       "      <td>La mayoría de la lluvia cae durante los 31 día...</td>\n",
       "      <td>La puntuación de turismo favorece los días des...</td>\n",
       "    </tr>\n",
       "  </tbody>\n",
       "</table>\n",
       "</div>"
      ],
      "text/plain": [
       "    capital                                         temporadas  \\\n",
       "0  A CORUÑA  La temporada templada dura 3,1 meses, del 21 d...   \n",
       "1  ALBACETE  La temporada calurosa dura 2,8 meses, del 15 d...   \n",
       "2  ALICANTE  La temporada calurosa dura 3,0 meses, del 20 d...   \n",
       "3   ALMERÍA  La temporada calurosa dura 2,9 meses, del 20 d...   \n",
       "4    OVIEDO  La temporada templada dura 2,9 meses, del 25 d...   \n",
       "\n",
       "                                           nubosidad  \\\n",
       "0  La parte más despejada del año en La Coruña co...   \n",
       "1  La parte más despejada del año en Albacete com...   \n",
       "2  La parte más despejada del año en Alicante com...   \n",
       "3  La parte más despejada del año en Almería comi...   \n",
       "4  La parte más despejada del año en Oviedo comie...   \n",
       "\n",
       "                                     precipitaciones  \\\n",
       "0  La temporada más mojada dura 7,8 meses, de 28 ...   \n",
       "1  La temporada más mojada dura 9,1 meses, de 11 ...   \n",
       "2  La temporada más mojada dura 8,6 meses, de 8 d...   \n",
       "3  La temporada más mojada dura 7,6 meses, de 27 ...   \n",
       "4  La temporada más mojada dura 8,0 meses, de 26 ...   \n",
       "\n",
       "                                              lluvia  \\\n",
       "0  La mayoría de la lluvia cae durante los 31 día...   \n",
       "1  La mayoría de la lluvia cae durante los 31 día...   \n",
       "2  La mayoría de la lluvia cae durante los 31 día...   \n",
       "3  La mayoría de la lluvia cae durante los 31 día...   \n",
       "4  La mayoría de la lluvia cae durante los 31 día...   \n",
       "\n",
       "                                             turismo  \n",
       "0  La puntuación de turismo favorece los días des...  \n",
       "1  La puntuación de turismo favorece los días des...  \n",
       "2  La puntuación de turismo favorece los días des...  \n",
       "3  La puntuación de turismo favorece los días des...  \n",
       "4  La puntuación de turismo favorece los días des...  "
      ]
     },
     "execution_count": 100,
     "metadata": {},
     "output_type": "execute_result"
    }
   ],
   "source": [
    "df_meteo.head()"
   ]
  },
  {
   "cell_type": "code",
   "execution_count": 101,
   "metadata": {},
   "outputs": [
    {
     "data": {
      "text/html": [
       "<div>\n",
       "<style scoped>\n",
       "    .dataframe tbody tr th:only-of-type {\n",
       "        vertical-align: middle;\n",
       "    }\n",
       "\n",
       "    .dataframe tbody tr th {\n",
       "        vertical-align: top;\n",
       "    }\n",
       "\n",
       "    .dataframe thead th {\n",
       "        text-align: right;\n",
       "    }\n",
       "</style>\n",
       "<table border=\"1\" class=\"dataframe\">\n",
       "  <thead>\n",
       "    <tr style=\"text-align: right;\">\n",
       "      <th></th>\n",
       "      <th>provincia</th>\n",
       "      <th>altitud</th>\n",
       "      <th>distancia</th>\n",
       "      <th>desnivel</th>\n",
       "      <th>pendiente</th>\n",
       "      <th>coeficiente</th>\n",
       "      <th>capital</th>\n",
       "      <th>temporadas</th>\n",
       "      <th>nubosidad</th>\n",
       "      <th>precipitaciones</th>\n",
       "      <th>lluvia</th>\n",
       "      <th>turismo</th>\n",
       "    </tr>\n",
       "  </thead>\n",
       "  <tbody>\n",
       "    <tr>\n",
       "      <th>0</th>\n",
       "      <td>A CORUÑA</td>\n",
       "      <td>505</td>\n",
       "      <td>6</td>\n",
       "      <td>436</td>\n",
       "      <td>7</td>\n",
       "      <td>117</td>\n",
       "      <td>A CORUÑA</td>\n",
       "      <td>La temporada templada dura 3,1 meses, del 21 d...</td>\n",
       "      <td>La parte más despejada del año en La Coruña co...</td>\n",
       "      <td>La temporada más mojada dura 7,8 meses, de 28 ...</td>\n",
       "      <td>La mayoría de la lluvia cae durante los 31 día...</td>\n",
       "      <td>La puntuación de turismo favorece los días des...</td>\n",
       "    </tr>\n",
       "    <tr>\n",
       "      <th>1</th>\n",
       "      <td>ALBACETE</td>\n",
       "      <td>1402</td>\n",
       "      <td>12</td>\n",
       "      <td>782</td>\n",
       "      <td>6</td>\n",
       "      <td>174</td>\n",
       "      <td>ALBACETE</td>\n",
       "      <td>La temporada calurosa dura 2,8 meses, del 15 d...</td>\n",
       "      <td>La parte más despejada del año en Albacete com...</td>\n",
       "      <td>La temporada más mojada dura 9,1 meses, de 11 ...</td>\n",
       "      <td>La mayoría de la lluvia cae durante los 31 día...</td>\n",
       "      <td>La puntuación de turismo favorece los días des...</td>\n",
       "    </tr>\n",
       "    <tr>\n",
       "      <th>2</th>\n",
       "      <td>ALICANTE</td>\n",
       "      <td>810</td>\n",
       "      <td>7</td>\n",
       "      <td>577</td>\n",
       "      <td>7</td>\n",
       "      <td>171</td>\n",
       "      <td>ALICANTE</td>\n",
       "      <td>La temporada calurosa dura 3,0 meses, del 20 d...</td>\n",
       "      <td>La parte más despejada del año en Alicante com...</td>\n",
       "      <td>La temporada más mojada dura 8,6 meses, de 8 d...</td>\n",
       "      <td>La mayoría de la lluvia cae durante los 31 día...</td>\n",
       "      <td>La puntuación de turismo favorece los días des...</td>\n",
       "    </tr>\n",
       "    <tr>\n",
       "      <th>3</th>\n",
       "      <td>ALMERÍA</td>\n",
       "      <td>1670</td>\n",
       "      <td>18</td>\n",
       "      <td>1001</td>\n",
       "      <td>4</td>\n",
       "      <td>216</td>\n",
       "      <td>ALMERÍA</td>\n",
       "      <td>La temporada calurosa dura 2,9 meses, del 20 d...</td>\n",
       "      <td>La parte más despejada del año en Almería comi...</td>\n",
       "      <td>La temporada más mojada dura 7,6 meses, de 27 ...</td>\n",
       "      <td>La mayoría de la lluvia cae durante los 31 día...</td>\n",
       "      <td>La puntuación de turismo favorece los días des...</td>\n",
       "    </tr>\n",
       "    <tr>\n",
       "      <th>4</th>\n",
       "      <td>ASTURIAS</td>\n",
       "      <td>1163</td>\n",
       "      <td>11</td>\n",
       "      <td>818</td>\n",
       "      <td>7</td>\n",
       "      <td>226</td>\n",
       "      <td>OVIEDO</td>\n",
       "      <td>La temporada templada dura 2,9 meses, del 25 d...</td>\n",
       "      <td>La parte más despejada del año en Oviedo comie...</td>\n",
       "      <td>La temporada más mojada dura 8,0 meses, de 26 ...</td>\n",
       "      <td>La mayoría de la lluvia cae durante los 31 día...</td>\n",
       "      <td>La puntuación de turismo favorece los días des...</td>\n",
       "    </tr>\n",
       "  </tbody>\n",
       "</table>\n",
       "</div>"
      ],
      "text/plain": [
       "  provincia  altitud  distancia  desnivel  pendiente  coeficiente   capital  \\\n",
       "0  A CORUÑA      505          6       436          7          117  A CORUÑA   \n",
       "1  ALBACETE     1402         12       782          6          174  ALBACETE   \n",
       "2  ALICANTE      810          7       577          7          171  ALICANTE   \n",
       "3   ALMERÍA     1670         18      1001          4          216   ALMERÍA   \n",
       "4  ASTURIAS     1163         11       818          7          226    OVIEDO   \n",
       "\n",
       "                                          temporadas  \\\n",
       "0  La temporada templada dura 3,1 meses, del 21 d...   \n",
       "1  La temporada calurosa dura 2,8 meses, del 15 d...   \n",
       "2  La temporada calurosa dura 3,0 meses, del 20 d...   \n",
       "3  La temporada calurosa dura 2,9 meses, del 20 d...   \n",
       "4  La temporada templada dura 2,9 meses, del 25 d...   \n",
       "\n",
       "                                           nubosidad  \\\n",
       "0  La parte más despejada del año en La Coruña co...   \n",
       "1  La parte más despejada del año en Albacete com...   \n",
       "2  La parte más despejada del año en Alicante com...   \n",
       "3  La parte más despejada del año en Almería comi...   \n",
       "4  La parte más despejada del año en Oviedo comie...   \n",
       "\n",
       "                                     precipitaciones  \\\n",
       "0  La temporada más mojada dura 7,8 meses, de 28 ...   \n",
       "1  La temporada más mojada dura 9,1 meses, de 11 ...   \n",
       "2  La temporada más mojada dura 8,6 meses, de 8 d...   \n",
       "3  La temporada más mojada dura 7,6 meses, de 27 ...   \n",
       "4  La temporada más mojada dura 8,0 meses, de 26 ...   \n",
       "\n",
       "                                              lluvia  \\\n",
       "0  La mayoría de la lluvia cae durante los 31 día...   \n",
       "1  La mayoría de la lluvia cae durante los 31 día...   \n",
       "2  La mayoría de la lluvia cae durante los 31 día...   \n",
       "3  La mayoría de la lluvia cae durante los 31 día...   \n",
       "4  La mayoría de la lluvia cae durante los 31 día...   \n",
       "\n",
       "                                             turismo  \n",
       "0  La puntuación de turismo favorece los días des...  \n",
       "1  La puntuación de turismo favorece los días des...  \n",
       "2  La puntuación de turismo favorece los días des...  \n",
       "3  La puntuación de turismo favorece los días des...  \n",
       "4  La puntuación de turismo favorece los días des...  "
      ]
     },
     "execution_count": 101,
     "metadata": {},
     "output_type": "execute_result"
    }
   ],
   "source": [
    "#Merging los dos dataframes:\n",
    "\n",
    "df_meteo_provincias = pd.merge(df_provincias, df_meteo, on='capital')\n",
    "df_meteo_provincias.head()"
   ]
  },
  {
   "cell_type": "code",
   "execution_count": 1,
   "metadata": {},
   "outputs": [
    {
     "ename": "NameError",
     "evalue": "name 'df_meteo_provincias' is not defined",
     "output_type": "error",
     "traceback": [
      "\u001b[1;31m---------------------------------------------------------------------------\u001b[0m",
      "\u001b[1;31mNameError\u001b[0m                                 Traceback (most recent call last)",
      "\u001b[1;32m<ipython-input-1-5ca3f78f1d6c>\u001b[0m in \u001b[0;36m<module>\u001b[1;34m\u001b[0m\n\u001b[0;32m      1\u001b[0m \u001b[1;31m#Finalmente exportamos el dataframe.\u001b[0m\u001b[1;33m\u001b[0m\u001b[1;33m\u001b[0m\u001b[1;33m\u001b[0m\u001b[0m\n\u001b[0;32m      2\u001b[0m \u001b[1;33m\u001b[0m\u001b[0m\n\u001b[1;32m----> 3\u001b[1;33m \u001b[0mdf_meteo_provincias\u001b[0m\u001b[1;33m.\u001b[0m\u001b[0mto_csv\u001b[0m\u001b[1;33m(\u001b[0m\u001b[1;34m'meteo_provincias.csv'\u001b[0m\u001b[1;33m,\u001b[0m \u001b[0mindex\u001b[0m \u001b[1;33m=\u001b[0m \u001b[1;32mFalse\u001b[0m\u001b[1;33m)\u001b[0m\u001b[1;33m\u001b[0m\u001b[1;33m\u001b[0m\u001b[0m\n\u001b[0m",
      "\u001b[1;31mNameError\u001b[0m: name 'df_meteo_provincias' is not defined"
     ]
    }
   ],
   "source": [
    "#Finalmente exportamos el dataframe.\n",
    "\n",
    "df_meteo_provincias.to_csv('meteo_provincias.csv', index = False)"
   ]
  },
  {
   "cell_type": "code",
   "execution_count": null,
   "metadata": {},
   "outputs": [],
   "source": [
    "###FINALIZADO###"
   ]
  }
 ],
 "metadata": {
  "kernelspec": {
   "display_name": "Python 3",
   "language": "python",
   "name": "python3"
  },
  "language_info": {
   "codemirror_mode": {
    "name": "ipython",
    "version": 3
   },
   "file_extension": ".py",
   "mimetype": "text/x-python",
   "name": "python",
   "nbconvert_exporter": "python",
   "pygments_lexer": "ipython3",
   "version": "3.8.5"
  }
 },
 "nbformat": 4,
 "nbformat_minor": 4
}
